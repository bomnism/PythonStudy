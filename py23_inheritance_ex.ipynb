{
  "nbformat": 4,
  "nbformat_minor": 0,
  "metadata": {
    "colab": {
      "name": "py23_inheritance_ex.ipynb",
      "provenance": [],
      "collapsed_sections": [],
      "authorship_tag": "ABX9TyOE8qzyf9OK+ts7wWjU+5Vn",
      "include_colab_link": true
    },
    "kernelspec": {
      "name": "python3",
      "display_name": "Python 3"
    },
    "language_info": {
      "name": "python"
    }
  },
  "cells": [
    {
      "cell_type": "markdown",
      "metadata": {
        "id": "view-in-github",
        "colab_type": "text"
      },
      "source": [
        "<a href=\"https://colab.research.google.com/github/bomnism/PythonStudy/blob/main/py23_inheritance_ex.ipynb\" target=\"_parent\"><img src=\"https://colab.research.google.com/assets/colab-badge.svg\" alt=\"Open In Colab\"/></a>"
      ]
    },
    {
      "cell_type": "code",
      "metadata": {
        "id": "fhF2VtnuIpPn"
      },
      "source": [
        "import math     #math.pi 변수의 값을 사용하기 위해서 "
      ],
      "execution_count": 183,
      "outputs": []
    },
    {
      "cell_type": "code",
      "metadata": {
        "colab": {
          "base_uri": "https://localhost:8080/"
        },
        "id": "Eg3iR7vSIy_K",
        "outputId": "0df92ec0-e808-430c-aba1-712fbf1089f6"
      },
      "source": [
        "print(math.pi)"
      ],
      "execution_count": 184,
      "outputs": [
        {
          "output_type": "stream",
          "text": [
            "3.141592653589793\n"
          ],
          "name": "stdout"
        }
      ]
    },
    {
      "cell_type": "code",
      "metadata": {
        "id": "AoSaaFJAJBus"
      },
      "source": [
        "class Point: \n",
        "    \"\"\"2차원 평면 상의 한 점의 좌표를 표현하는 클래스\"\"\"\n",
        "    def __init__(self, x=0, y=0):\n",
        "        self.x = x\n",
        "        self.y = y\n",
        "    \n",
        "    def __repr__(self):\n",
        "           return f'Point({self.x}, {self.y})'\n",
        "\n",
        "    def move(self, dx, dy):\n",
        "        \"\"\"점의 좌표를 x축의 방향으로 dx만큼, y축의 방향으로 dy만큼 이동시키고, 이동된 객체(self)를 리턴\"\"\" \n",
        "        self.x += dx  \n",
        "        self.y += dy\n",
        "        return self     # return을 해주면 자기 자신을 호출하고 연쇄적으로도 호출할 수 있다. \n",
        "                                # return 이 없으면 print를 이용해서 출력해야 한다 "
      ],
      "execution_count": 185,
      "outputs": []
    },
    {
      "cell_type": "code",
      "metadata": {
        "colab": {
          "base_uri": "https://localhost:8080/"
        },
        "id": "5sddkqyyv0UO",
        "outputId": "89e10baa-cda3-4258-9350-77dd3165e897"
      },
      "source": [
        "test = Point()\n",
        "print(test)"
      ],
      "execution_count": 186,
      "outputs": [
        {
          "output_type": "stream",
          "text": [
            "Point(0, 0)\n"
          ],
          "name": "stdout"
        }
      ]
    },
    {
      "cell_type": "code",
      "metadata": {
        "colab": {
          "base_uri": "https://localhost:8080/"
        },
        "id": "Y0v64nm70n-I",
        "outputId": "ece0331c-30fe-4b48-dc07-a3ec27877b80"
      },
      "source": [
        "test.move(dx = 1, dy = 2).move(dx = 2, dy = -1)\n",
        "print(test)"
      ],
      "execution_count": 187,
      "outputs": [
        {
          "output_type": "stream",
          "text": [
            "Point(3, 1)\n"
          ],
          "name": "stdout"
        }
      ]
    },
    {
      "cell_type": "code",
      "metadata": {
        "id": "XjpiK-hdKCGp"
      },
      "source": [
        "# 도형은 점은 가지고 있다. (Has-A)\n",
        "class Shape:\n",
        "    def __init__(self, x=0, y=0):\n",
        "        # self.x = x\n",
        "        # self.y = y          -> point 라는 객체가 move라는 속성을 가지고 있기 때문에 이것보다 다음식으로 써야 함\n",
        "        self.point = Point(x, y)    # Point 인스턴스를 속성으로 저장 \n",
        "    \n",
        "    def __repr__(self):\n",
        "        # Shape(point=Point(0, 0)) 포맷 \n",
        "        # return f'Shape(point=Point({self.x}, {self.y}))'  내가 쓴 답, 이렇게 써도 된다.\n",
        "        # Point()라는 자체가 Point(x, y)모습으로 만들어주기 때문에 다음식으로 써도 됨.\n",
        "        return f'Shape(point = {self.point})'               # self.point.__repr__() 메서드가 자동으로 호출 \n",
        "\n",
        "    def move(self, dx, dy):\n",
        "        \"\"\"도형을 x축의 방향으로 dx만큼, y축의 방향으로 dy만큼 이동시키는 메서드\n",
        "        도형이 가지고 있는 Point 객체를 이동시킴.\"\"\"\n",
        "        # self.x += dx / self.y += dy      -> self.point.x += dx    / self.point.y += dy 올바른 식\n",
        "        self.point.move(dx, dy)            # 이미 만들어진 기능을 사용하면 된다!!!!\n",
        "        return self\n",
        "\n",
        "    def area(self):\n",
        "            \"\"\"도형의 넓이를 계산해서 리턴\"\"\"\n",
        "            raise NotImplementedError('넓이를 계산하는 메서드 반드시 구현!')   \n",
        "    \n",
        "    def perimeter(self):\n",
        "            \"\"\"도형의 둘레의 길이를 계산해서 리턴\"\"\"\n",
        "            raise NotImplementedError('둘레의 길이를 계산하는 메서드를 반드시 구현!')"
      ],
      "execution_count": 188,
      "outputs": []
    },
    {
      "cell_type": "code",
      "metadata": {
        "colab": {
          "base_uri": "https://localhost:8080/"
        },
        "id": "jeP69PL48mVE",
        "outputId": "186cc8a8-87e1-4e55-d2d2-2eb416d83b11"
      },
      "source": [
        "sh = Shape(x = 1, y = 1)\n",
        "print(sh)"
      ],
      "execution_count": 189,
      "outputs": [
        {
          "output_type": "stream",
          "text": [
            "Shape(point = Point(1, 1))\n"
          ],
          "name": "stdout"
        }
      ]
    },
    {
      "cell_type": "code",
      "metadata": {
        "colab": {
          "base_uri": "https://localhost:8080/"
        },
        "id": "4CmsUHB3BNQ1",
        "outputId": "0162ba3e-e33e-4b1b-cc8c-77acc232a819"
      },
      "source": [
        "sh.move(dx = 1, dy =2).move(dx =2, dy =1)"
      ],
      "execution_count": 190,
      "outputs": [
        {
          "output_type": "execute_result",
          "data": {
            "text/plain": [
              "Shape(point = Point(4, 4))"
            ]
          },
          "metadata": {
            "tags": []
          },
          "execution_count": 190
        }
      ]
    },
    {
      "cell_type": "code",
      "metadata": {
        "id": "mRs1G9eSBilo"
      },
      "source": [
        "# sh.area()\n",
        "#> Shape 클래스는 넓이를 계산할 수 없도록 함. "
      ],
      "execution_count": 191,
      "outputs": []
    },
    {
      "cell_type": "code",
      "metadata": {
        "colab": {
          "base_uri": "https://localhost:8080/"
        },
        "id": "QhWyXOUfBV-k",
        "outputId": "62659e47-be77-4a5a-92e1-9cd311cc4e7c"
      },
      "source": [
        "test2 = Shape(x = 2, y = 9)\n",
        "print(test2)"
      ],
      "execution_count": 192,
      "outputs": [
        {
          "output_type": "stream",
          "text": [
            "Shape(point = Point(2, 9))\n"
          ],
          "name": "stdout"
        }
      ]
    },
    {
      "cell_type": "code",
      "metadata": {
        "id": "NoNy7BC_Ml-O"
      },
      "source": [
        "# 원은 도형이다. (IS-A) -> Shape 클래스를 상속하는 클래스\n",
        "# 1) __init__(원의 중심 x좌표, 원의 중심 y좌표, 반지름) 구현\n",
        "# 2) Shape 클래스의 area, perimeter 메서드를 override\n",
        "class Circle(Shape):\n",
        "    \"\"\"2차원 평면 상의 원(중심과 반지름)을 표현하는 클래스\"\"\"\n",
        "    def __init__(self, center_x=0, center_y=0, radius=0):                 # 변수이름은 뭐라고하든 상관 없음\n",
        "        super().__init__(center_x, center_y)\n",
        "        self.radius = radius\n",
        "    \"\"\"속성을 물려 받았기 때문에 안 써도 돼\n",
        "    def area(self):\n",
        "         super().area()       -> Shape에 있는 area가 호출이 되고, Error가 발생이 된다. \n",
        "         print(math.pi)**2\n",
        "    def perimeter(self):\n",
        "          super().perimeter()\n",
        "          print(math.pi)*2 \"\"\"\n",
        "\n",
        "    # override\n",
        "    def __repr__(self):\n",
        "        return f'Circle(center={self.point}, radius={self.radius})'\n",
        "\n",
        "        # self.point : 부모 Shape 객체로부터 상속받은 속성\n",
        "        # self.radius: Circle 객체가 가지고 있는 속성 \n",
        "\n",
        "    def area(self):\n",
        "        # 부모 클래스 Shape의 area 메서드를 재정의 (부모클래스에서 area가 하는 일이 없기 때문에)\n",
        "        return math.pi * self.radius**2\n",
        "\n",
        "    def perimeter(self):\n",
        "        # 부모 클래스 Shape의 perimeter 메서드를 재정의\n",
        "        return 2 * math.pi * self.radius "
      ],
      "execution_count": 193,
      "outputs": []
    },
    {
      "cell_type": "code",
      "metadata": {
        "colab": {
          "base_uri": "https://localhost:8080/"
        },
        "id": "hs4HubYTEPQh",
        "outputId": "925cd872-fc93-4cf5-c309-46aea9477f78"
      },
      "source": [
        "c = Circle(center_x=0, center_y=0, radius=1)\n",
        "print(c)      # print(c.__repr__())"
      ],
      "execution_count": 194,
      "outputs": [
        {
          "output_type": "stream",
          "text": [
            "Circle(center=Point(0, 0), radius=1)\n"
          ],
          "name": "stdout"
        }
      ]
    },
    {
      "cell_type": "code",
      "metadata": {
        "colab": {
          "base_uri": "https://localhost:8080/"
        },
        "id": "gLiuCnxMFORG",
        "outputId": "baac9ec7-64bd-4f9e-e96d-a4e870145adc"
      },
      "source": [
        "print('넓이:', c.area())\n",
        "print('둘레:', c.perimeter())"
      ],
      "execution_count": 195,
      "outputs": [
        {
          "output_type": "stream",
          "text": [
            "넓이: 3.141592653589793\n",
            "둘레: 6.283185307179586\n"
          ],
          "name": "stdout"
        }
      ]
    },
    {
      "cell_type": "code",
      "metadata": {
        "colab": {
          "base_uri": "https://localhost:8080/"
        },
        "id": "XrPJpk1nNeAA",
        "outputId": "aff3ce52-95e7-4aa0-9a8f-ea145c0cebbf"
      },
      "source": [
        "c.move(1, 1)      #Circle에 있는 repr이 호출된 것임. "
      ],
      "execution_count": 196,
      "outputs": [
        {
          "output_type": "execute_result",
          "data": {
            "text/plain": [
              "Circle(center=Point(1, 1), radius=1)"
            ]
          },
          "metadata": {
            "tags": []
          },
          "execution_count": 196
        }
      ]
    },
    {
      "cell_type": "code",
      "metadata": {
        "id": "15-MrJVHNeJJ"
      },
      "source": [
        "# 직사각형은 도형이다. (IS-A) -> Shape 클래스를 상속하는 클래스\n",
        "# 1) __init__(꼭지점 x좌표, 꼭지점 y좌표, 가로 길이, 세로 길이) 구현\n",
        "# 2) area, perimeter 메서드를 override\n",
        "class Rectangle(Shape):\n",
        "    \"\"\"2차원 평면 상의 직사각형(꼭지점 x/y좌표, 가로길이, 세로길이)을 표현\"\"\"\n",
        "    def __init__(self, x=0, y=0, w=0, h=0):     \n",
        "    #(self, x, y, width, height):\n",
        "        super().__init__(x, y)\n",
        "        self.width = w\n",
        "        self.height = h\n",
        "\n",
        "    # override\n",
        "    def __repr__(self):\n",
        "        return f'Rectangle(corner={self.point}, width={self.width}, height={self.height})'\n",
        "\n",
        "    # 부모 클래스인 Shape에서 구현되지 않은 area, perimeter 메서드를 override해서 구현함. \n",
        "    def area(self):\n",
        "        return self.width * self.height\n",
        "\n",
        "    def perimeter(self):\n",
        "        return 2* (self.width + self.height)\n"
      ],
      "execution_count": 197,
      "outputs": []
    },
    {
      "cell_type": "code",
      "metadata": {
        "colab": {
          "base_uri": "https://localhost:8080/"
        },
        "id": "wmDHKbc0pWBc",
        "outputId": "ed13798e-9401-4a75-8266-4bbc7ac0caf4"
      },
      "source": [
        "rect = Rectangle(w=3, h=4)\n",
        "print(rect)     #pring(rect.__repr__())"
      ],
      "execution_count": 198,
      "outputs": [
        {
          "output_type": "stream",
          "text": [
            "Rectangle(corner=Point(0, 0), width=3, height=4)\n"
          ],
          "name": "stdout"
        }
      ]
    },
    {
      "cell_type": "code",
      "metadata": {
        "colab": {
          "base_uri": "https://localhost:8080/"
        },
        "id": "u6Rb4Z1pshiL",
        "outputId": "568a378d-46a9-479e-fca3-2aab02c6b299"
      },
      "source": [
        "rect"
      ],
      "execution_count": 199,
      "outputs": [
        {
          "output_type": "execute_result",
          "data": {
            "text/plain": [
              "Rectangle(corner=Point(0, 0), width=3, height=4)"
            ]
          },
          "metadata": {
            "tags": []
          },
          "execution_count": 199
        }
      ]
    },
    {
      "cell_type": "code",
      "metadata": {
        "id": "GtIvNMrxq17v"
      },
      "source": [
        "# rect.area()     #NotImplemented error 부모"
      ],
      "execution_count": 200,
      "outputs": []
    },
    {
      "cell_type": "code",
      "metadata": {
        "id": "9O4GHNUAsSU2"
      },
      "source": [
        "# 정사각형은 직사각형이다. (IS-A) -> Rectangle 클래스를 상속하는 클래스\n",
        "# 1) __init__(꼭지점 x좌표, 꼭지점 y좌표, 한변의 길이)\n",
        "# 2) area, perimeter를 override해야 하나?    -> 재정의가 필요하지 않다...?\n",
        "class Square(Rectangle):\n",
        "    def __init__(self, x=0, y=0, side=0):\n",
        "        super().__init__(x, y, side, side)\n",
        "\n",
        "    def __repr__(self):\n",
        "        return f'Square(corner={self.point}, side={self.width})'"
      ],
      "execution_count": 201,
      "outputs": []
    },
    {
      "cell_type": "code",
      "metadata": {
        "colab": {
          "base_uri": "https://localhost:8080/"
        },
        "id": "3YwjenXIuanc",
        "outputId": "84a74500-d33b-4a12-ccd5-1a90002b7f7d"
      },
      "source": [
        "sq = Square(side=3)\n",
        "print(sq)"
      ],
      "execution_count": 202,
      "outputs": [
        {
          "output_type": "stream",
          "text": [
            "Square(corner=Point(0, 0), side=3)\n"
          ],
          "name": "stdout"
        }
      ]
    },
    {
      "cell_type": "code",
      "metadata": {
        "colab": {
          "base_uri": "https://localhost:8080/"
        },
        "id": "P4R7-eHI1Kpx",
        "outputId": "67f8dc54-a7eb-444d-f0c9-caa900cb2391"
      },
      "source": [
        "print('area:', sq.area())\n",
        "print('perimeter:', sq.perimeter())"
      ],
      "execution_count": 203,
      "outputs": [
        {
          "output_type": "stream",
          "text": [
            "area: 9\n",
            "perimeter: 12\n"
          ],
          "name": "stdout"
        }
      ]
    },
    {
      "cell_type": "markdown",
      "metadata": {
        "id": "Hu9rqUBy4T6A"
      },
      "source": [
        "상위 클래스에서 NotImplementedError 를 발생시키는 메서드를 정의한 이유:\n",
        "\n",
        "* 상속받는 모든 하위 클래스가 **반드시** 같은 이름의 메서드를 override하는 것을 강제하기 위해서. \n",
        "* 모든 하위 클래스가 같은 이름의 (구현된) 메서드를 갖게 되면, 일관된 형식으로 메서드 기능을 사용할 수 있게 되기 때문에.  "
      ]
    },
    {
      "cell_type": "code",
      "metadata": {
        "colab": {
          "base_uri": "https://localhost:8080/"
        },
        "id": "RgWfkuRP4YBx",
        "outputId": "37f8b9a9-708e-4599-b1dd-31d5766818c8"
      },
      "source": [
        "# 여러가지 도형들을 저장하는 리스트 \n",
        "shapes = [\n",
        "                    Circle(radius=5), \n",
        "                    Rectangle(w=4, h=3), \n",
        "                    Square(side=5)\n",
        "]\n",
        "\n",
        "for s in shapes:\n",
        "    print(s, '넓이:', s.area( ))"
      ],
      "execution_count": 204,
      "outputs": [
        {
          "output_type": "stream",
          "text": [
            "Circle(center=Point(0, 0), radius=5) 넓이: 78.53981633974483\n",
            "Rectangle(corner=Point(0, 0), width=4, height=3) 넓이: 12\n",
            "Square(corner=Point(0, 0), side=5) 넓이: 25\n"
          ],
          "name": "stdout"
        }
      ]
    },
    {
      "cell_type": "code",
      "metadata": {
        "id": "o0qZpEvd6AWh"
      },
      "source": [
        "class Shape:\n",
        "    pass\n",
        "\n",
        "class Circle(Shape):\n",
        "    def area(self):\n",
        "            pass\n",
        "\n",
        "class Rectangle(Shape):\n",
        "    def calc_area(self):\n",
        "            pass\n",
        "            "
      ],
      "execution_count": 205,
      "outputs": []
    }
  ]
}