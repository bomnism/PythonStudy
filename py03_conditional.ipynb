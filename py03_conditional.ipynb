{
  "nbformat": 4,
  "nbformat_minor": 0,
  "metadata": {
    "colab": {
      "name": "py03_conditional.ipynb",
      "provenance": [],
      "collapsed_sections": [],
      "authorship_tag": "ABX9TyNax4heKAmOHZq2eCryZFXz",
      "include_colab_link": true
    },
    "kernelspec": {
      "name": "python3",
      "display_name": "Python 3"
    },
    "language_info": {
      "name": "python"
    }
  },
  "cells": [
    {
      "cell_type": "markdown",
      "metadata": {
        "id": "view-in-github",
        "colab_type": "text"
      },
      "source": [
        "<a href=\"https://colab.research.google.com/github/bomnism/PythonStudy/blob/main/py03_conditional.ipynb\" target=\"_parent\"><img src=\"https://colab.research.google.com/assets/colab-badge.svg\" alt=\"Open In Colab\"/></a>"
      ]
    },
    {
      "cell_type": "markdown",
      "metadata": {
        "id": "H-WVAroxeG3E"
      },
      "source": [
        "# 조건문(Conditional Statement)\n",
        "조건에 따라서 실행할 문장들을 작성하는 방법"
      ]
    },
    {
      "cell_type": "markdown",
      "metadata": {
        "id": "ujTNC_S3enCY"
      },
      "source": [
        "## else 없는 조건문"
      ]
    },
    {
      "cell_type": "markdown",
      "metadata": {
        "id": "cA__tqTHeplV"
      },
      "source": [
        "\n",
        "```\n",
        "if 조건식(conditional expression):\n",
        "    조건식을 만족할 때(조건식이 True가 될 때) 실행할 코드 블록(문장들)\n",
        "```\n",
        "\n",
        "* `if` 조건식 뒤에는 반드시 **콜론(:)**을 사용해야 한다. \n",
        "* `if` 블록은 반드시** 들여쓰기(indentation)**를 해야 한다. "
      ]
    },
    {
      "cell_type": "code",
      "metadata": {
        "colab": {
          "base_uri": "https://localhost:8080/"
        },
        "id": "fjSk8KDigAnO",
        "outputId": "a4bc7797-b3a0-4535-8f9f-b06b81ed6a75"
      },
      "source": [
        "number = -100      # 100을 number 변수에 저장 \n",
        "if number > 0 :   # number가 0보다 크면\n",
        "    print(f'{number}은(는) 양수입니다.')  # 들여쓰기 안하면 indentationError\n",
        "    print('if 블록 내부 끝')\n",
        "print('if 블록 바깥')  #위에 if 문장과 상관 없이 실행되어야 하는 문장"
      ],
      "execution_count": 8,
      "outputs": [
        {
          "output_type": "stream",
          "text": [
            "if 블록 바깥\n"
          ],
          "name": "stdout"
        }
      ]
    },
    {
      "cell_type": "markdown",
      "metadata": {
        "id": "vxWrnRgKjuq4"
      },
      "source": [
        "## else 있는 조건문"
      ]
    },
    {
      "cell_type": "markdown",
      "metadata": {
        "id": "3pYqt4E1kkqW"
      },
      "source": [
        "\n",
        "\n",
        "```\n",
        "if 조건식:\n",
        "    조건식을 만족할 때(조건식이 True가 될 때) 실행할 블록\n",
        "else:\n",
        "    조건식을 만족하지 못할 때(조건식이 False가 될 때) 실행할 블록 \n",
        "```\n",
        "\n",
        "* if 조건식과 else 뒤에는 반드시 콜론(:)을 사용해야 함. \n",
        "* if 블록과 else 블록은 반드시 들여쓰기를 해야 함. "
      ]
    },
    {
      "cell_type": "code",
      "metadata": {
        "colab": {
          "base_uri": "https://localhost:8080/"
        },
        "id": "fTnmhF-RlM7T",
        "outputId": "b32c89e6-2cd6-48ea-e17c-d1f4a3893019"
      },
      "source": [
        "number = 123\n",
        "if number > 0:\n",
        "    print(f'{number}은(는) 양수입니다.')\n",
        "else: \n",
        "    print(f'{number}은(는) 양수가 아닙니다.')\n",
        "print('if-else 문 바깥')"
      ],
      "execution_count": 9,
      "outputs": [
        {
          "output_type": "stream",
          "text": [
            "123은(는) 양수입니다.\n",
            "if-else 문 바깥\n"
          ],
          "name": "stdout"
        }
      ]
    },
    {
      "cell_type": "code",
      "metadata": {
        "colab": {
          "base_uri": "https://localhost:8080/"
        },
        "id": "H3bdfSndlsBC",
        "outputId": "527b4f29-0823-4f5d-e2a7-0c8cf277df68"
      },
      "source": [
        "# 정수(integar)를 입력 받아서 변수에 저장\n",
        "number = int(input('정수입력>>> '))\n",
        "# 입력받은 정수가 짝수이면, 'even'출력\n",
        "if number % 2 == 0:\n",
        "    print('even')\n",
        "# 그렇지 않으면, 'odd' 출력 \n",
        "else:\n",
        "    print('odd')"
      ],
      "execution_count": 15,
      "outputs": [
        {
          "output_type": "stream",
          "text": [
            "정수입력>>> 131\n",
            "odd\n"
          ],
          "name": "stdout"
        }
      ]
    },
    {
      "cell_type": "markdown",
      "metadata": {
        "id": "Fiz1RkNIu7LC"
      },
      "source": [
        "# Chained Conditionals(if-elif-else)"
      ]
    },
    {
      "cell_type": "markdown",
      "metadata": {
        "id": "52JJh_C7u__V"
      },
      "source": [
        "\n",
        "\n",
        "```\n",
        "if 조건식1:\n",
        "      조건식1을 만족할 때 실행할 코드 블록\n",
        "elif 조건식2:\n",
        "      조건식2를 만족할 때 실행할 코드 블록\n",
        "...\n",
        "else:\n",
        "    위의 모든 조건식들을 만족하지 못할 때 실행할 코드 블록 \n",
        "```\n",
        "\n",
        "\n",
        "*   `elif` 조건식은 1개 이상일 수 있음. \n",
        "*   `else` 블록은 생략할 수 있음. \n",
        "*   모든 블록들은 **들여쓰기**가 되어야 한다. \n",
        "\n"
      ]
    },
    {
      "cell_type": "code",
      "metadata": {
        "colab": {
          "base_uri": "https://localhost:8080/"
        },
        "id": "sFzkV1VMu_MN",
        "outputId": "cf740cdc-6ade-4119-98ec-69fd74eae183"
      },
      "source": [
        "number = 100\n",
        "\n",
        "if number > 0:       # 만약 number가 0보다 크면 \n",
        "    print('양수')\n",
        "elif number < 0:     # 그렇지 않고(0보다 크지 않고), 0보다 작으면\n",
        "    print('음수')\n",
        "else:\n",
        "    print('zero')\n",
        "print('=== end ===')"
      ],
      "execution_count": 19,
      "outputs": [
        {
          "output_type": "stream",
          "text": [
            "양수\n",
            "=== end ===\n"
          ],
          "name": "stdout"
        }
      ]
    },
    {
      "cell_type": "markdown",
      "metadata": {
        "id": "cAGfvTZv1X1W"
      },
      "source": [
        "\n",
        "# 중첩 조건문(nested conditionals)\n",
        "\n",
        "\n"
      ]
    },
    {
      "cell_type": "markdown",
      "metadata": {
        "id": "hvWmYf5w2zIp"
      },
      "source": [
        "\n",
        "* if 블록, elif 블록 또는 else 블록 안에서 조건문(if, if-else, if-elif-else)을 사용하는 것.\n",
        "\n",
        "* 중첩 조건문을 사용할 때는 **들여쓰기**를 주의해야 함. 들여쓰기 방법에 따라서 완전히 다른 실행 코드(로직)이 될 수 있음.\n",
        "\n",
        "* 중첩 조건문은 elif를 사용하거나 논리 연산자(and, or)를 사용해서 중첩되지 않는 조건문으로 만들 수 있음.\n"
      ]
    },
    {
      "cell_type": "markdown",
      "metadata": {
        "id": "FyX_4LDg4Etf"
      },
      "source": [
        "```\n",
        "if condition1:\n",
        "    if condition2:\n",
        "        statements\n",
        "    else:\n",
        "        statements\n",
        "\n",
        "if condition1:\n",
        "    statements\n",
        "else:\n",
        "    if condition2:\n",
        "        statements\n",
        "    else:\n",
        "        statements\n",
        "```        "
      ]
    },
    {
      "cell_type": "code",
      "metadata": {
        "colab": {
          "base_uri": "https://localhost:8080/"
        },
        "id": "u4pe_cJs2nBF",
        "outputId": "fc624968-fb35-466d-b140-90e2427b066d"
      },
      "source": [
        "number = 0.01\n",
        "\n",
        "if number > 0:                 # 만약 number가 0보다 크면 \n",
        "    print('positive number')\n",
        "else:                          # 그렇지 않으면(number가 0보다 크지 않으면)\n",
        "  if number < 0:               # number가 0보다 작으면 \n",
        "    print('negative number')\n",
        "  else:                        # 그렇지 않으면(number가 0보다 크지 않고, 0보다 작지도 않으면)\n",
        "    print('zero') \n",
        "\n",
        "print('=== end ===')\n",
        "    \n",
        "    "
      ],
      "execution_count": 25,
      "outputs": [
        {
          "output_type": "stream",
          "text": [
            "positive number\n",
            "=== end ===\n"
          ],
          "name": "stdout"
        }
      ]
    },
    {
      "cell_type": "markdown",
      "metadata": {
        "id": "gVk3Xkd51dBa"
      },
      "source": [
        "# Exercise"
      ]
    },
    {
      "cell_type": "markdown",
      "metadata": {
        "id": "9AZUEi7h5_h6"
      },
      "source": [
        "* 정수 3개를 입력받고 변수에 저장\n",
        "* 정수 3개의 평균을 계산하고 출력\n",
        "* 평균이 \n",
        "  *    90 이상이면, 'A'\n",
        "  *    80 이상이면, 'B'\n",
        "  *    70 이상이면, 'C'\n",
        "  *    70 미만이면, 'F' 출력"
      ]
    },
    {
      "cell_type": "code",
      "metadata": {
        "colab": {
          "base_uri": "https://localhost:8080/",
          "height": 295
        },
        "id": "3vbt9eSh6RvG",
        "outputId": "b241656e-5785-449d-e300-b56644587885"
      },
      "source": [
        "number1 = int(input('정수입력>>> '))\n",
        "number2 = int(input('정수입력>>> '))\n",
        "number3 = int(input('정수입력>>> '))\n",
        "mean = (number1 + number2 + number 3) / 3\n",
        "\n",
        "if mean < 100:               \n",
        "    print('A')\n",
        "else:                          \n",
        "  if mean < 90:               \n",
        "    print('B')\n",
        "  else:\n",
        "    if mean < 80:\n",
        "      print('C')                        \n",
        "\n",
        "print('F')"
      ],
      "execution_count": 27,
      "outputs": [
        {
          "output_type": "stream",
          "text": [
            "정수입력>>> 60\n",
            "정수입력>>> 70\n",
            "정수입력>>> 80\n"
          ],
          "name": "stdout"
        },
        {
          "output_type": "error",
          "ename": "TypeError",
          "evalue": "ignored",
          "traceback": [
            "\u001b[0;31m---------------------------------------------------------------------------\u001b[0m",
            "\u001b[0;31mTypeError\u001b[0m                                 Traceback (most recent call last)",
            "\u001b[0;32m<ipython-input-27-b0c1c816b29a>\u001b[0m in \u001b[0;36m<module>\u001b[0;34m()\u001b[0m\n\u001b[1;32m      1\u001b[0m \u001b[0mnumber\u001b[0m \u001b[0;34m=\u001b[0m \u001b[0mint\u001b[0m\u001b[0;34m(\u001b[0m\u001b[0minput\u001b[0m\u001b[0;34m(\u001b[0m\u001b[0;34m'정수입력>>> '\u001b[0m\u001b[0;34m)\u001b[0m\u001b[0;34m)\u001b[0m\u001b[0;34m,\u001b[0m \u001b[0mint\u001b[0m\u001b[0;34m(\u001b[0m\u001b[0minput\u001b[0m\u001b[0;34m(\u001b[0m\u001b[0;34m'정수입력>>> '\u001b[0m\u001b[0;34m)\u001b[0m\u001b[0;34m)\u001b[0m\u001b[0;34m,\u001b[0m \u001b[0mint\u001b[0m\u001b[0;34m(\u001b[0m\u001b[0minput\u001b[0m\u001b[0;34m(\u001b[0m\u001b[0;34m'정수입력>>> '\u001b[0m\u001b[0;34m)\u001b[0m\u001b[0;34m)\u001b[0m\u001b[0;34m\u001b[0m\u001b[0;34m\u001b[0m\u001b[0m\n\u001b[1;32m      2\u001b[0m \u001b[0;34m\u001b[0m\u001b[0m\n\u001b[0;32m----> 3\u001b[0;31m \u001b[0;32mif\u001b[0m \u001b[0mnumber\u001b[0m \u001b[0;34m<\u001b[0m \u001b[0;36m100\u001b[0m\u001b[0;34m:\u001b[0m\u001b[0;34m\u001b[0m\u001b[0;34m\u001b[0m\u001b[0m\n\u001b[0m\u001b[1;32m      4\u001b[0m     \u001b[0mprint\u001b[0m\u001b[0;34m(\u001b[0m\u001b[0;34m'A'\u001b[0m\u001b[0;34m)\u001b[0m\u001b[0;34m\u001b[0m\u001b[0;34m\u001b[0m\u001b[0m\n\u001b[1;32m      5\u001b[0m \u001b[0;32melse\u001b[0m\u001b[0;34m:\u001b[0m\u001b[0;34m\u001b[0m\u001b[0;34m\u001b[0m\u001b[0m\n",
            "\u001b[0;31mTypeError\u001b[0m: '<' not supported between instances of 'tuple' and 'int'"
          ]
        }
      ]
    }
  ]
}