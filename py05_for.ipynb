{
  "nbformat": 4,
  "nbformat_minor": 0,
  "metadata": {
    "colab": {
      "name": "py05_for.ipynb",
      "provenance": [],
      "collapsed_sections": [],
      "authorship_tag": "ABX9TyNCPaJHVmrRKtrOhXhJVl/r",
      "include_colab_link": true
    },
    "kernelspec": {
      "name": "python3",
      "display_name": "Python 3"
    },
    "language_info": {
      "name": "python"
    }
  },
  "cells": [
    {
      "cell_type": "markdown",
      "metadata": {
        "id": "view-in-github",
        "colab_type": "text"
      },
      "source": [
        "<a href=\"https://colab.research.google.com/github/bomnism/PythonStudy/blob/main/py05_for.ipynb\" target=\"_parent\"><img src=\"https://colab.research.google.com/assets/colab-badge.svg\" alt=\"Open In Colab\"/></a>"
      ]
    },
    {
      "cell_type": "markdown",
      "metadata": {
        "id": "7bv1R82tLNXv"
      },
      "source": [
        "#**for 반복문**\n",
        "\n",
        "\n",
        "```\n",
        "for 변수 in iterable-type:\n",
        "    반복해서 실행할 블록(문장들)\n",
        "```\n",
        "\n",
        "*   iterable-type: 반복 가능한 데이터 타입\n",
        "    *     range, list, tuple, dict, set, str, ...\n"
      ]
    },
    {
      "cell_type": "code",
      "metadata": {
        "colab": {
          "base_uri": "https://localhost:8080/"
        },
        "id": "wrkSeBddL7us",
        "outputId": "0353b3c1-7086-4351-bc2e-07f44ab7a943"
      },
      "source": [
        "# range(start, stop, step): start <= x < stop  범위의 step(양수)만큼씩 증가하는 정수들을 생성.\n",
        "for  x  in  range(1, 5, 1):          #  1 <= x < 5 \n",
        "  print(x)"
      ],
      "execution_count": null,
      "outputs": [
        {
          "output_type": "stream",
          "text": [
            "1\n",
            "2\n",
            "3\n",
            "4\n"
          ],
          "name": "stdout"
        }
      ]
    },
    {
      "cell_type": "code",
      "metadata": {
        "colab": {
          "base_uri": "https://localhost:8080/"
        },
        "id": "U4E0UbNIMh5B",
        "outputId": "79415bc8-6ca0-431a-bdb3-ee159e2c8e6d"
      },
      "source": [
        "# range(start, stop) : start <= x < stop  범위의 1씩 증가하는 정수들을 생성. \n",
        "for x in range(0, 5):\n",
        " print(x)"
      ],
      "execution_count": null,
      "outputs": [
        {
          "output_type": "stream",
          "text": [
            "0\n",
            "1\n",
            "2\n",
            "3\n",
            "4\n"
          ],
          "name": "stdout"
        }
      ]
    },
    {
      "cell_type": "code",
      "metadata": {
        "colab": {
          "base_uri": "https://localhost:8080/"
        },
        "id": "GUoxmzr-N-Qk",
        "outputId": "2ee6e1ad-f015-4139-97d7-bde9217bb209"
      },
      "source": [
        "# range(stop) : 0 <= x < stop 범위의 1씩 증가하는 정수들을 생성.\n",
        "for x in range(5):\n",
        "  print(x)"
      ],
      "execution_count": null,
      "outputs": [
        {
          "output_type": "stream",
          "text": [
            "0\n",
            "1\n",
            "2\n",
            "3\n",
            "4\n"
          ],
          "name": "stdout"
        }
      ]
    },
    {
      "cell_type": "code",
      "metadata": {
        "colab": {
          "base_uri": "https://localhost:8080/"
        },
        "id": "4VM2UetGPLAM",
        "outputId": "9b41cf04-b30b-4246-87e0-db1108521333"
      },
      "source": [
        "# range(start, stop, step) : start >= x > stop 범위의 step(음수)만큼씩 감소하는 정수들을 생성 \n",
        "         # 감소하는 거 만들 때는 3개 다 써줘야 함 \n",
        "for x in range(5, 0, -1):\n",
        "      print(x)  "
      ],
      "execution_count": null,
      "outputs": [
        {
          "output_type": "stream",
          "text": [
            "5\n",
            "4\n",
            "3\n",
            "2\n",
            "1\n"
          ],
          "name": "stdout"
        }
      ]
    },
    {
      "cell_type": "markdown",
      "metadata": {
        "id": "mOsJ7UHiQ2X_"
      },
      "source": [
        "문자열(string): 문자들의 집합 (순서가 있는 배열)  --> 반복 가능한(iterable) 데이터 타입  "
      ]
    },
    {
      "cell_type": "code",
      "metadata": {
        "colab": {
          "base_uri": "https://localhost:8080/"
        },
        "id": "4p4D6NqTRNb5",
        "outputId": "edd7df53-1856-4dfa-f40b-de29eedaf154"
      },
      "source": [
        "msg = '안녕하세요' \n",
        "for x in msg:\n",
        "      print( x)"
      ],
      "execution_count": null,
      "outputs": [
        {
          "output_type": "stream",
          "text": [
            "안\n",
            "녕\n",
            "하\n",
            "세\n",
            "요\n"
          ],
          "name": "stdout"
        }
      ]
    },
    {
      "cell_type": "markdown",
      "metadata": {
        "id": "3-sT_JKzSU5h"
      },
      "source": [
        "0 이상 10 미만의 짝수들을 출력"
      ]
    },
    {
      "cell_type": "code",
      "metadata": {
        "colab": {
          "base_uri": "https://localhost:8080/"
        },
        "id": "6F0_oWp2RajF",
        "outputId": "91c1750a-a6a7-40d2-c1d8-34306fc7f686"
      },
      "source": [
        "for x in range(10, 1, -2):\n",
        "    print(x)\n",
        "\n",
        "for n in range(0, 10, 2):\n",
        "    print(n)"
      ],
      "execution_count": null,
      "outputs": [
        {
          "output_type": "stream",
          "text": [
            "10\n",
            "8\n",
            "6\n",
            "4\n",
            "2\n",
            "0\n",
            "2\n",
            "4\n",
            "6\n",
            "8\n"
          ],
          "name": "stdout"
        }
      ]
    },
    {
      "cell_type": "code",
      "metadata": {
        "colab": {
          "base_uri": "https://localhost:8080/"
        },
        "id": "EQT2sGvGS-SI",
        "outputId": "ad42fea1-f945-4c0b-f0d3-31164e86f849"
      },
      "source": [
        "for n in range(10):       # (0, 1, 2, 3, ..., 8, 9)\n",
        "    if n % 2 == 0:\n",
        "      print(n)"
      ],
      "execution_count": null,
      "outputs": [
        {
          "output_type": "stream",
          "text": [
            "0\n",
            "2\n",
            "4\n",
            "6\n",
            "8\n"
          ],
          "name": "stdout"
        }
      ]
    },
    {
      "cell_type": "markdown",
      "metadata": {
        "id": "_wKpOEiOYkDs"
      },
      "source": [
        "다음과 같이 출력하는 코드를 작성하세요. \n",
        "\n",
        "```\n",
        "*\n",
        "**\n",
        "***\n",
        "****\n",
        "*****\n",
        "```\n",
        "\n"
      ]
    },
    {
      "cell_type": "code",
      "metadata": {
        "colab": {
          "base_uri": "https://localhost:8080/"
        },
        "id": "8LYW9mdgYpnX",
        "outputId": "d791d84a-87c5-4147-ffc6-8c0e1702f80f"
      },
      "source": [
        "for n in range(1, 6):\n",
        "  print('*'*n)"
      ],
      "execution_count": null,
      "outputs": [
        {
          "output_type": "stream",
          "text": [
            "*\n",
            "**\n",
            "***\n",
            "****\n",
            "*****\n"
          ],
          "name": "stdout"
        }
      ]
    },
    {
      "cell_type": "code",
      "metadata": {
        "colab": {
          "base_uri": "https://localhost:8080/"
        },
        "id": "yjJ-IkTBaw8s",
        "outputId": "8b586b8f-1f56-44d3-d815-c5a4ebfe0288"
      },
      "source": [
        "for n in range(6):\n",
        "  print('*' * n)\n",
        "for n in range(4,0,-1):\n",
        "  print('*' * n)"
      ],
      "execution_count": null,
      "outputs": [
        {
          "output_type": "stream",
          "text": [
            "\n",
            "*\n",
            "**\n",
            "***\n",
            "****\n",
            "*****\n",
            "****\n",
            "***\n",
            "**\n",
            "*\n"
          ],
          "name": "stdout"
        }
      ]
    },
    {
      "cell_type": "code",
      "metadata": {
        "colab": {
          "base_uri": "https://localhost:8080/"
        },
        "id": "E2k7nwJlbgHU",
        "outputId": "01274db9-05c6-434c-ab74-4aee17d67d75"
      },
      "source": [
        "for n in range(1,10) :\n",
        "  if n < 6 :\n",
        "    print('*' * n)\n",
        "  else :\n",
        "    print('*' * (10 - n))"
      ],
      "execution_count": null,
      "outputs": [
        {
          "output_type": "stream",
          "text": [
            "*\n",
            "**\n",
            "***\n",
            "****\n",
            "*****\n",
            "****\n",
            "***\n",
            "**\n",
            "*\n"
          ],
          "name": "stdout"
        }
      ]
    },
    {
      "cell_type": "code",
      "metadata": {
        "colab": {
          "base_uri": "https://localhost:8080/"
        },
        "id": "R28ggYuIdBtK",
        "outputId": "7fec6a7f-0c18-4638-fc6f-70cac59b9318"
      },
      "source": [
        "print('*' * 1)\n",
        "print('*' * 2)\n",
        "print('*' * 3)\n",
        "print('*' * 4)\n",
        "print('*' * 5)"
      ],
      "execution_count": null,
      "outputs": [
        {
          "output_type": "stream",
          "text": [
            "*\n",
            "**\n",
            "***\n",
            "****\n",
            "*****\n"
          ],
          "name": "stdout"
        }
      ]
    },
    {
      "cell_type": "code",
      "metadata": {
        "colab": {
          "base_uri": "https://localhost:8080/"
        },
        "id": "mBF4Q0PEdKAE",
        "outputId": "f8cf26c9-094d-4aaf-8fce-0649c92bdb5c"
      },
      "source": [
        "for n in range(1, 6):\n",
        "      print('*' * n)"
      ],
      "execution_count": null,
      "outputs": [
        {
          "output_type": "stream",
          "text": [
            "*\n",
            "**\n",
            "***\n",
            "****\n",
            "*****\n"
          ],
          "name": "stdout"
        }
      ]
    },
    {
      "cell_type": "code",
      "metadata": {
        "colab": {
          "base_uri": "https://localhost:8080/"
        },
        "id": "9cHttAKqerbX",
        "outputId": "1c1406ef-9ee6-4099-dc5a-f92486974be2"
      },
      "source": [
        "for n in range(1, 6):\n",
        "  print('*' * n)\n",
        "for n in range(4, 0, -1):\n",
        "  print('*' * n)"
      ],
      "execution_count": null,
      "outputs": [
        {
          "output_type": "stream",
          "text": [
            "*\n",
            "**\n",
            "***\n",
            "****\n",
            "*****\n",
            "****\n",
            "***\n",
            "**\n",
            "*\n"
          ],
          "name": "stdout"
        }
      ]
    },
    {
      "cell_type": "code",
      "metadata": {
        "colab": {
          "base_uri": "https://localhost:8080/"
        },
        "id": "oX1m49oBgv-T",
        "outputId": "b8e471d9-4ed3-4afb-c082-3204f12d3f3e"
      },
      "source": [
        "# abs(x): x의 절대값을 반환\n",
        "for n in range(-4, 5):     # -4, -3, -2, -1, -1,0,  1, 2,  3, 4)\n",
        "    print('*' * (5 - abs(n)))"
      ],
      "execution_count": null,
      "outputs": [
        {
          "output_type": "stream",
          "text": [
            "*\n",
            "**\n",
            "***\n",
            "****\n",
            "*****\n",
            "****\n",
            "***\n",
            "**\n",
            "*\n"
          ],
          "name": "stdout"
        }
      ]
    },
    {
      "cell_type": "markdown",
      "metadata": {
        "id": "Hvut9IqrhBxq"
      },
      "source": [
        "다음과 같이 구구단을 출력하는 코드를 작성하세요. \n",
        "\n",
        "```\n",
        "12 * 1 = 12\n",
        "12 * 2 = 24 \n",
        "12 * 3 = 36\n",
        "...\n",
        "12 * 11 = 132\n",
        "12 * 12 = 144\n",
        "```\n",
        "\n"
      ]
    },
    {
      "cell_type": "code",
      "metadata": {
        "colab": {
          "base_uri": "https://localhost:8080/"
        },
        "id": "XOMqzl9lnpnD",
        "outputId": "8e3c0ad3-10e5-430b-e573-4df297560219"
      },
      "source": [
        "for n in range(1, 13):\n",
        "  print('12 x', n, '=', (12*n))"
      ],
      "execution_count": null,
      "outputs": [
        {
          "output_type": "stream",
          "text": [
            "12 x 1 = 12\n",
            "12 x 2 = 24\n",
            "12 x 3 = 36\n",
            "12 x 4 = 48\n",
            "12 x 5 = 60\n",
            "12 x 6 = 72\n",
            "12 x 7 = 84\n",
            "12 x 8 = 96\n",
            "12 x 9 = 108\n",
            "12 x 10 = 120\n",
            "12 x 11 = 132\n",
            "12 x 12 = 144\n"
          ],
          "name": "stdout"
        }
      ]
    },
    {
      "cell_type": "code",
      "metadata": {
        "colab": {
          "base_uri": "https://localhost:8080/"
        },
        "id": "UsjUsYUiiYZW",
        "outputId": "817be3b8-7e23-4eea-e789-e5777f7b8f7c"
      },
      "source": [
        "x = int(12)\n",
        "for n in range (1, 13):\n",
        "  print(x, 'x', n, '=',  x*n)"
      ],
      "execution_count": null,
      "outputs": [
        {
          "output_type": "stream",
          "text": [
            "12 x 1 = 12\n",
            "12 x 2 = 24\n",
            "12 x 3 = 36\n",
            "12 x 4 = 48\n",
            "12 x 5 = 60\n",
            "12 x 6 = 72\n",
            "12 x 7 = 84\n",
            "12 x 8 = 96\n",
            "12 x 9 = 108\n",
            "12 x 10 = 120\n",
            "12 x 11 = 132\n",
            "12 x 12 = 144\n"
          ],
          "name": "stdout"
        }
      ]
    },
    {
      "cell_type": "code",
      "metadata": {
        "colab": {
          "base_uri": "https://localhost:8080/"
        },
        "id": "VkweQydpmLwY",
        "outputId": "c79477c6-9534-4e33-8116-4b2d81d9a67b"
      },
      "source": [
        "x = 12\n",
        "for n in range(1, 13):\n",
        "  print (f'{x} * {n} = {x*n}')"
      ],
      "execution_count": null,
      "outputs": [
        {
          "output_type": "stream",
          "text": [
            "12 * 1 = 12\n",
            "12 * 2 = 24\n",
            "12 * 3 = 36\n",
            "12 * 4 = 48\n",
            "12 * 5 = 60\n",
            "12 * 6 = 72\n",
            "12 * 7 = 84\n",
            "12 * 8 = 96\n",
            "12 * 9 = 108\n",
            "12 * 10 = 120\n",
            "12 * 11 = 132\n",
            "12 * 12 = 144\n"
          ],
          "name": "stdout"
        }
      ]
    },
    {
      "cell_type": "code",
      "metadata": {
        "colab": {
          "base_uri": "https://localhost:8080/"
        },
        "id": "BRRFfgJZoRak",
        "outputId": "0ea45828-96e9-4d2d-86e0-2a6e168edf3b"
      },
      "source": [
        "for n in range(1, 13):\n",
        "  print (f'12 x {n} = {12*n}')"
      ],
      "execution_count": null,
      "outputs": [
        {
          "output_type": "stream",
          "text": [
            "12 x 1 = 12\n",
            "12 x 2 = 24\n",
            "12 x 3 = 36\n",
            "12 x 4 = 48\n",
            "12 x 5 = 60\n",
            "12 x 6 = 72\n",
            "12 x 7 = 84\n",
            "12 x 8 = 96\n",
            "12 x 9 = 108\n",
            "12 x 10 = 120\n",
            "12 x 11 = 132\n",
            "12 x 12 = 144\n"
          ],
          "name": "stdout"
        }
      ]
    },
    {
      "cell_type": "markdown",
      "metadata": {
        "id": "97xmozJepNcr"
      },
      "source": [
        "Ctrl+ /    : 커서가 있는 한 줄 또는 선택된 영역을 주석 토글로 만들어 줌(toggle)"
      ]
    },
    {
      "cell_type": "markdown",
      "metadata": {
        "id": "mIdO0uzUpPK3"
      },
      "source": [
        "**중첩 반복문(Nested Iteration)**"
      ]
    },
    {
      "cell_type": "code",
      "metadata": {
        "colab": {
          "base_uri": "https://localhost:8080/"
        },
        "id": "gUK6JALwpSwE",
        "outputId": "e97c28b2-3726-45a0-e8bc-c30e40f81db7"
      },
      "source": [
        "for dan in range(2,10):                        # 2~9까지 \n",
        "    for n in range (1, 10):                       # 1~9까지\n",
        "      print(f'{dan} x {n} = {dan * n}')     #\n",
        "    print('-' * 20)"
      ],
      "execution_count": 80,
      "outputs": [
        {
          "output_type": "stream",
          "text": [
            "2 x 1 = 2\n",
            "2 x 2 = 4\n",
            "2 x 3 = 6\n",
            "2 x 4 = 8\n",
            "2 x 5 = 10\n",
            "2 x 6 = 12\n",
            "2 x 7 = 14\n",
            "2 x 8 = 16\n",
            "2 x 9 = 18\n",
            "--------------------\n",
            "3 x 1 = 3\n",
            "3 x 2 = 6\n",
            "3 x 3 = 9\n",
            "3 x 4 = 12\n",
            "3 x 5 = 15\n",
            "3 x 6 = 18\n",
            "3 x 7 = 21\n",
            "3 x 8 = 24\n",
            "3 x 9 = 27\n",
            "--------------------\n",
            "4 x 1 = 4\n",
            "4 x 2 = 8\n",
            "4 x 3 = 12\n",
            "4 x 4 = 16\n",
            "4 x 5 = 20\n",
            "4 x 6 = 24\n",
            "4 x 7 = 28\n",
            "4 x 8 = 32\n",
            "4 x 9 = 36\n",
            "--------------------\n",
            "5 x 1 = 5\n",
            "5 x 2 = 10\n",
            "5 x 3 = 15\n",
            "5 x 4 = 20\n",
            "5 x 5 = 25\n",
            "5 x 6 = 30\n",
            "5 x 7 = 35\n",
            "5 x 8 = 40\n",
            "5 x 9 = 45\n",
            "--------------------\n",
            "6 x 1 = 6\n",
            "6 x 2 = 12\n",
            "6 x 3 = 18\n",
            "6 x 4 = 24\n",
            "6 x 5 = 30\n",
            "6 x 6 = 36\n",
            "6 x 7 = 42\n",
            "6 x 8 = 48\n",
            "6 x 9 = 54\n",
            "--------------------\n",
            "7 x 1 = 7\n",
            "7 x 2 = 14\n",
            "7 x 3 = 21\n",
            "7 x 4 = 28\n",
            "7 x 5 = 35\n",
            "7 x 6 = 42\n",
            "7 x 7 = 49\n",
            "7 x 8 = 56\n",
            "7 x 9 = 63\n",
            "--------------------\n",
            "8 x 1 = 8\n",
            "8 x 2 = 16\n",
            "8 x 3 = 24\n",
            "8 x 4 = 32\n",
            "8 x 5 = 40\n",
            "8 x 6 = 48\n",
            "8 x 7 = 56\n",
            "8 x 8 = 64\n",
            "8 x 9 = 72\n",
            "--------------------\n",
            "9 x 1 = 9\n",
            "9 x 2 = 18\n",
            "9 x 3 = 27\n",
            "9 x 4 = 36\n",
            "9 x 5 = 45\n",
            "9 x 6 = 54\n",
            "9 x 7 = 63\n",
            "9 x 8 = 72\n",
            "9 x 9 = 81\n",
            "--------------------\n"
          ],
          "name": "stdout"
        }
      ]
    },
    {
      "cell_type": "markdown",
      "metadata": {
        "id": "bPHCSx01tnaV"
      },
      "source": [
        "##break 와 continue\n",
        "   - break: iteration 종료 반복문 바깥 코드를 실행. break가 포함되어 있는 가장 가까운 반복문을 빠져나옴. \n",
        "   - continue: (반복문 블록 내부 실행문의 수행을 멈추고) 다음 iteration을 수행."
      ]
    },
    {
      "cell_type": "code",
      "metadata": {
        "colab": {
          "base_uri": "https://localhost:8080/"
        },
        "id": "zG_4w2OBtrIt",
        "outputId": "39102fe4-af27-4abe-e010-611ee271bedf"
      },
      "source": [
        "for x in range(5):\n",
        "    if x == 2:\n",
        "        break      # 이 위치에서 빠져 나와라 \n",
        "    print(x)"
      ],
      "execution_count": 81,
      "outputs": [
        {
          "output_type": "stream",
          "text": [
            "0\n",
            "1\n"
          ],
          "name": "stdout"
        }
      ]
    },
    {
      "cell_type": "code",
      "metadata": {
        "colab": {
          "base_uri": "https://localhost:8080/"
        },
        "id": "escqQCwBue79",
        "outputId": "8cd4a742-56b9-4752-cc05-20d47d45869b"
      },
      "source": [
        "for x in range(5):\n",
        "    if x == 2:\n",
        "      continue\n",
        "    print(x)"
      ],
      "execution_count": 82,
      "outputs": [
        {
          "output_type": "stream",
          "text": [
            "0\n",
            "1\n",
            "3\n",
            "4\n"
          ],
          "name": "stdout"
        }
      ]
    },
    {
      "cell_type": "markdown",
      "metadata": {
        "id": "-56SnD5Z0eLw"
      },
      "source": [
        "다음과 같이 출력하는 코드를 작성하세요.\n",
        "```\n",
        "2 x 1 = 2\n",
        "2 x 2 = 4\n",
        "--------------------\n",
        "3 x 1 = 3\n",
        "3 x 2 = 6\n",
        "3 x 3 = 9\n",
        "--------------------\n",
        "...\n",
        "--------------------\n",
        "9 x 1 = 9\n",
        "...\n",
        "9 x 9 = 81\n",
        "--------------------\n",
        "```"
      ]
    },
    {
      "cell_type": "code",
      "metadata": {
        "colab": {
          "base_uri": "https://localhost:8080/"
        },
        "id": "0HimQVzt0DME",
        "outputId": "c5dfb4c6-b326-40f0-de22-3a94073b4461"
      },
      "source": [
        "for dan in range(2,10):                        # 2~9까지 \n",
        "    for n in range (1, 10):                       # 1~9까지\n",
        "          print(f'{dan} x {n} = {dan * n}')    \n",
        "          if dan ==  n:\n",
        "             break\n",
        "    print( '-'  *  20)  "
      ],
      "execution_count": 97,
      "outputs": [
        {
          "output_type": "stream",
          "text": [
            "2 x 1 = 2\n",
            "2 x 2 = 4\n",
            "--------------------\n",
            "3 x 1 = 3\n",
            "3 x 2 = 6\n",
            "3 x 3 = 9\n",
            "--------------------\n",
            "4 x 1 = 4\n",
            "4 x 2 = 8\n",
            "4 x 3 = 12\n",
            "4 x 4 = 16\n",
            "--------------------\n",
            "5 x 1 = 5\n",
            "5 x 2 = 10\n",
            "5 x 3 = 15\n",
            "5 x 4 = 20\n",
            "5 x 5 = 25\n",
            "--------------------\n",
            "6 x 1 = 6\n",
            "6 x 2 = 12\n",
            "6 x 3 = 18\n",
            "6 x 4 = 24\n",
            "6 x 5 = 30\n",
            "6 x 6 = 36\n",
            "--------------------\n",
            "7 x 1 = 7\n",
            "7 x 2 = 14\n",
            "7 x 3 = 21\n",
            "7 x 4 = 28\n",
            "7 x 5 = 35\n",
            "7 x 6 = 42\n",
            "7 x 7 = 49\n",
            "--------------------\n",
            "8 x 1 = 8\n",
            "8 x 2 = 16\n",
            "8 x 3 = 24\n",
            "8 x 4 = 32\n",
            "8 x 5 = 40\n",
            "8 x 6 = 48\n",
            "8 x 7 = 56\n",
            "8 x 8 = 64\n",
            "--------------------\n",
            "9 x 1 = 9\n",
            "9 x 2 = 18\n",
            "9 x 3 = 27\n",
            "9 x 4 = 36\n",
            "9 x 5 = 45\n",
            "9 x 6 = 54\n",
            "9 x 7 = 63\n",
            "9 x 8 = 72\n",
            "9 x 9 = 81\n",
            "--------------------\n"
          ],
          "name": "stdout"
        }
      ]
    },
    {
      "cell_type": "code",
      "metadata": {
        "colab": {
          "base_uri": "https://localhost:8080/"
        },
        "id": "tBAw8fVL4t3F",
        "outputId": "ca2840f2-e89d-4bbd-8af6-9f0e42481dd6"
      },
      "source": [
        "for dan in range(2, 10):\n",
        "      for n in range(1, dan + 1):\n",
        "            print(f'{dan} x {n} = {dan * n}')\n",
        "      print('-' * 20)"
      ],
      "execution_count": 98,
      "outputs": [
        {
          "output_type": "stream",
          "text": [
            "2 x 1 = 2\n",
            "2 x 2 = 4\n",
            "--------------------\n",
            "3 x 1 = 3\n",
            "3 x 2 = 6\n",
            "3 x 3 = 9\n",
            "--------------------\n",
            "4 x 1 = 4\n",
            "4 x 2 = 8\n",
            "4 x 3 = 12\n",
            "4 x 4 = 16\n",
            "--------------------\n",
            "5 x 1 = 5\n",
            "5 x 2 = 10\n",
            "5 x 3 = 15\n",
            "5 x 4 = 20\n",
            "5 x 5 = 25\n",
            "--------------------\n",
            "6 x 1 = 6\n",
            "6 x 2 = 12\n",
            "6 x 3 = 18\n",
            "6 x 4 = 24\n",
            "6 x 5 = 30\n",
            "6 x 6 = 36\n",
            "--------------------\n",
            "7 x 1 = 7\n",
            "7 x 2 = 14\n",
            "7 x 3 = 21\n",
            "7 x 4 = 28\n",
            "7 x 5 = 35\n",
            "7 x 6 = 42\n",
            "7 x 7 = 49\n",
            "--------------------\n",
            "8 x 1 = 8\n",
            "8 x 2 = 16\n",
            "8 x 3 = 24\n",
            "8 x 4 = 32\n",
            "8 x 5 = 40\n",
            "8 x 6 = 48\n",
            "8 x 7 = 56\n",
            "8 x 8 = 64\n",
            "--------------------\n",
            "9 x 1 = 9\n",
            "9 x 2 = 18\n",
            "9 x 3 = 27\n",
            "9 x 4 = 36\n",
            "9 x 5 = 45\n",
            "9 x 6 = 54\n",
            "9 x 7 = 63\n",
            "9 x 8 = 72\n",
            "9 x 9 = 81\n",
            "--------------------\n"
          ],
          "name": "stdout"
        }
      ]
    }
  ]
}