{
  "nbformat": 4,
  "nbformat_minor": 0,
  "metadata": {
    "colab": {
      "name": " Python01_Print.ipynb",
      "provenance": [],
      "collapsed_sections": [],
      "authorship_tag": "ABX9TyN486h6bj3RE4LxTlG2mZCj",
      "include_colab_link": true
    },
    "kernelspec": {
      "name": "python3",
      "display_name": "Python 3"
    },
    "language_info": {
      "name": "python"
    }
  },
  "cells": [
    {
      "cell_type": "markdown",
      "metadata": {
        "id": "view-in-github",
        "colab_type": "text"
      },
      "source": [
        "<a href=\"https://colab.research.google.com/github/bomnism/PythonStudy/blob/main/Python01_Print.ipynb\" target=\"_parent\"><img src=\"https://colab.research.google.com/assets/colab-badge.svg\" alt=\"Open In Colab\"/></a>"
      ]
    },
    {
      "cell_type": "markdown",
      "metadata": {
        "id": "FJlus-boab7D"
      },
      "source": [
        "**여러가지 print 방법**"
      ]
    },
    {
      "cell_type": "code",
      "metadata": {
        "colab": {
          "base_uri": "https://localhost:8080/"
        },
        "id": "r5XMTM3_agMY",
        "outputId": "32c6753b-be7a-4cee-ba94-25cff60fbd59"
      },
      "source": [
        "print('Hello, Python!')"
      ],
      "execution_count": 3,
      "outputs": [
        {
          "output_type": "stream",
          "text": [
            "Hello, Python!\n"
          ],
          "name": "stdout"
        }
      ]
    },
    {
      "cell_type": "markdown",
      "metadata": {
        "id": "bwF5zA-6auo2"
      },
      "source": [
        "`print()` 함수에게 argument를 여러개 전달하면, 각 argument를 공백으로 연결해서 \n",
        "한 줄에 출력함. \n"
      ]
    },
    {
      "cell_type": "code",
      "metadata": {
        "colab": {
          "base_uri": "https://localhost:8080/"
        },
        "id": "3LjRx4wFbH-m",
        "outputId": "29354b59-925c-411e-93d9-294867af0027"
      },
      "source": [
        "print('Hello', '안녕', 'Bon Jour')"
      ],
      "execution_count": 6,
      "outputs": [
        {
          "output_type": "stream",
          "text": [
            "Hello 안녕 Bon Jour\n"
          ],
          "name": "stdout"
        }
      ]
    },
    {
      "cell_type": "code",
      "metadata": {
        "colab": {
          "base_uri": "https://localhost:8080/"
        },
        "id": "1DEBenOldhC7",
        "outputId": "ae02b5e7-cb87-46c4-b355-b3461c032889"
      },
      "source": [
        "print(1, 2, 3)"
      ],
      "execution_count": 8,
      "outputs": [
        {
          "output_type": "stream",
          "text": [
            "1 2 3\n"
          ],
          "name": "stdout"
        }
      ]
    },
    {
      "cell_type": "code",
      "metadata": {
        "colab": {
          "base_uri": "https://localhost:8080/"
        },
        "id": "I1xSgavZdklE",
        "outputId": "2d953ed7-87cb-4172-a83a-3c396ec88b17"
      },
      "source": [
        "print(1 + 2)   # 이 경우 argument 1개"
      ],
      "execution_count": 10,
      "outputs": [
        {
          "output_type": "stream",
          "text": [
            "3\n"
          ],
          "name": "stdout"
        }
      ]
    },
    {
      "cell_type": "code",
      "metadata": {
        "colab": {
          "base_uri": "https://localhost:8080/"
        },
        "id": "w7u2XmvEd0yN",
        "outputId": "d73c0978-0e12-4012-d277-ae1cc2077f4f"
      },
      "source": [
        "print(1, '+', 2, '=', (1+2))  # 이 경우 argument 5개 "
      ],
      "execution_count": 16,
      "outputs": [
        {
          "output_type": "stream",
          "text": [
            "1 + 2 = 3\n"
          ],
          "name": "stdout"
        }
      ]
    },
    {
      "cell_type": "markdown",
      "metadata": {
        "id": "BEL8gqCZhXqN"
      },
      "source": [
        "placeholder 문자열과 format() 메서드(함수)를 사용한 print "
      ]
    },
    {
      "cell_type": "code",
      "metadata": {
        "colab": {
          "base_uri": "https://localhost:8080/"
        },
        "id": "k9QpqoI4efk1",
        "outputId": "1880a5c4-e766-45df-8ae4-e16e60ae8e7e"
      },
      "source": [
        "print('{} + {} = {}'.format(1, 2, 3))  # format의 argument를 각 중괄호에 넣어줌 / placeholder {}"
      ],
      "execution_count": 18,
      "outputs": [
        {
          "output_type": "stream",
          "text": [
            "1 + 2 = 3\n"
          ],
          "name": "stdout"
        }
      ]
    },
    {
      "cell_type": "code",
      "metadata": {
        "colab": {
          "base_uri": "https://localhost:8080/"
        },
        "id": "9VMtJSkLfWXd",
        "outputId": "fc8952ae-e2ce-4554-adfd-6dd4caa558d0"
      },
      "source": [
        "print('{x} + {y} + = {z}'.format(x=1, y=2, z=(1 + 2)))"
      ],
      "execution_count": 20,
      "outputs": [
        {
          "output_type": "stream",
          "text": [
            "1 + 2 + = 3\n"
          ],
          "name": "stdout"
        }
      ]
    },
    {
      "cell_type": "markdown",
      "metadata": {
        "id": "CMOchrVrho9p"
      },
      "source": [
        "formatted string 사용 - Python 3.6 ver 이상부터 사용 가능 "
      ]
    },
    {
      "cell_type": "code",
      "metadata": {
        "id": "4iQ9riRDfzHC"
      },
      "source": [
        "# 변수 = 값 (왼쪽에 있는 값을 오른쪽에 있는 변수에 저장한다)\n",
        "a = 1\n",
        "b = 2"
      ],
      "execution_count": 22,
      "outputs": []
    },
    {
      "cell_type": "code",
      "metadata": {
        "colab": {
          "base_uri": "https://localhost:8080/"
        },
        "id": "Fsc7D09ViVO2",
        "outputId": "10b8dcab-c127-4a18-cc68-1c74471a23b1"
      },
      "source": [
        "print(f'{a} + {b} = {a + b}')"
      ],
      "execution_count": 23,
      "outputs": [
        {
          "output_type": "stream",
          "text": [
            "1 + 2 = 3\n"
          ],
          "name": "stdout"
        }
      ]
    },
    {
      "cell_type": "markdown",
      "metadata": {
        "id": "CdNj3qTZm6ks"
      },
      "source": [
        "변수 모아보기"
      ]
    },
    {
      "cell_type": "code",
      "metadata": {
        "colab": {
          "base_uri": "https://localhost:8080/"
        },
        "id": "Ory0PmKNm9XE",
        "outputId": "c78776b3-a25c-4052-e049-9125dd816974"
      },
      "source": [
        "dir()   # 현재 세션에서 생성된 객체(변수) 이름들을 검색\n",
        "print(dir())   # 옆으로 나열"
      ],
      "execution_count": 26,
      "outputs": [
        {
          "output_type": "stream",
          "text": [
            "['In', 'Out', '_', '_24', '__', '___', '__builtin__', '__builtins__', '__doc__', '__loader__', '__name__', '__package__', '__spec__', '_dh', '_i', '_i1', '_i10', '_i11', '_i12', '_i13', '_i14', '_i15', '_i16', '_i17', '_i18', '_i19', '_i2', '_i20', '_i21', '_i22', '_i23', '_i24', '_i25', '_i26', '_i3', '_i4', '_i5', '_i6', '_i7', '_i8', '_i9', '_ih', '_ii', '_iii', '_oh', '_sh', 'a', 'b', 'exit', 'get_ipython', 'quit']\n"
          ],
          "name": "stdout"
        }
      ]
    },
    {
      "cell_type": "markdown",
      "metadata": {
        "id": "scngwXWmnXiy"
      },
      "source": [
        "파이썬 문자열 - 작은 따옴표('') 또는 큰 따옴표(\"\")"
      ]
    },
    {
      "cell_type": "code",
      "metadata": {
        "colab": {
          "base_uri": "https://localhost:8080/",
          "height": 139
        },
        "id": "ieTlhjP9nZ36",
        "outputId": "fb50603f-8868-4fc0-ef2f-d595580c7e96"
      },
      "source": [
        " print(\"I'm a boy.\")   # 출력하고자 하는 문자열에 작은 따옴표가 있음 큰 따옴표로 묶으면 편하다\n",
        " print('I'm a boy.')   # 에러 "
      ],
      "execution_count": 35,
      "outputs": [
        {
          "output_type": "error",
          "ename": "SyntaxError",
          "evalue": "ignored",
          "traceback": [
            "\u001b[0;36m  File \u001b[0;32m\"<ipython-input-35-8a0ebc7d5ba9>\"\u001b[0;36m, line \u001b[0;32m2\u001b[0m\n\u001b[0;31m    print('I'm a boy.')   # 에러\u001b[0m\n\u001b[0m             ^\u001b[0m\n\u001b[0;31mSyntaxError\u001b[0m\u001b[0;31m:\u001b[0m invalid syntax\n"
          ]
        }
      ]
    },
    {
      "cell_type": "code",
      "metadata": {
        "colab": {
          "base_uri": "https://localhost:8080/"
        },
        "id": "ZmpjkGucpS1I",
        "outputId": "0eb25bab-2f8d-49c8-f1c2-0e1108fd5b13"
      },
      "source": [
        " print('I\\'m a boy.')"
      ],
      "execution_count": 36,
      "outputs": [
        {
          "output_type": "stream",
          "text": [
            "I'm a boy.\n"
          ],
          "name": "stdout"
        }
      ]
    },
    {
      "cell_type": "markdown",
      "metadata": {
        "id": "uVRHsy-do8D3"
      },
      "source": [
        "사용자 입력 - 키보드에서 문자열을 입력받는 방"
      ]
    },
    {
      "cell_type": "code",
      "metadata": {
        "colab": {
          "base_uri": "https://localhost:8080/"
        },
        "id": "gduXVIqqpFDd",
        "outputId": "5bed4b67-5861-419b-d1c8-5bc12a62b7e2"
      },
      "source": [
        " name = input('이름을 입력하세요...')    # 입력창에 입력한 문자열은 name에 저장된 것"
      ],
      "execution_count": 34,
      "outputs": [
        {
          "output_type": "stream",
          "text": [
            "이름을 입력하세요...김보민\n"
          ],
          "name": "stdout"
        }
      ]
    }
  ]
}
