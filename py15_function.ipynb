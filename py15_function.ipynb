{
  "nbformat": 4,
  "nbformat_minor": 0,
  "metadata": {
    "colab": {
      "name": "py15_function.ipynb",
      "provenance": [],
      "collapsed_sections": [],
      "authorship_tag": "ABX9TyP0NVsot5wFKQLTk7V5r/wG",
      "include_colab_link": true
    },
    "kernelspec": {
      "name": "python3",
      "display_name": "Python 3"
    },
    "language_info": {
      "name": "python"
    }
  },
  "cells": [
    {
      "cell_type": "markdown",
      "metadata": {
        "id": "view-in-github",
        "colab_type": "text"
      },
      "source": [
        "<a href=\"https://colab.research.google.com/github/bomnism/PythonStudy/blob/main/py15_function.ipynb\" target=\"_parent\"><img src=\"https://colab.research.google.com/assets/colab-badge.svg\" alt=\"Open In Colab\"/></a>"
      ]
    },
    {
      "cell_type": "markdown",
      "metadata": {
        "id": "LRWaOLLOddHr"
      },
      "source": [
        "# Default argument"
      ]
    },
    {
      "cell_type": "markdown",
      "metadata": {
        "id": "d8cSZamKdyac"
      },
      "source": [
        "default argument\n",
        "*    함수를 정의(선언)할 때, parameter에 설정된 기본값.\n",
        "        * default parameter(기본 매개변수): default argument가 설정된 파라미터 \n",
        "*    함수를 호출할 때 default argument를 가지고 있는 parameter에 값을 전달하지 않으면, default argument가 사용됨\n",
        "*     함수를 호출할 때 default argument를 가지고 있는 parameter에 값을 전달하면, default argument는 무시되고, 전달된 값(argument)가 사용됨"
      ]
    },
    {
      "cell_type": "code",
      "metadata": {
        "id": "gsQAXsKpdyNB"
      },
      "source": [
        "def repeat_message(message, n=1):\n",
        "    for _ in range(n):\n",
        "        print(message)"
      ],
      "execution_count": 18,
      "outputs": []
    },
    {
      "cell_type": "code",
      "metadata": {
        "colab": {
          "base_uri": "https://localhost:8080/"
        },
        "id": "JGfjdC1IdkW3",
        "outputId": "6bf71106-46a7-4a5d-de9d-ca39e1061302"
      },
      "source": [
        "repeat_message('Hello', 5)"
      ],
      "execution_count": 19,
      "outputs": [
        {
          "output_type": "stream",
          "text": [
            "Hello\n",
            "Hello\n",
            "Hello\n",
            "Hello\n",
            "Hello\n"
          ],
          "name": "stdout"
        }
      ]
    },
    {
      "cell_type": "markdown",
      "metadata": {
        "id": "zu-Un7Ceg8Az"
      },
      "source": [
        "**(주의)**\n",
        "함수를 정의할 때, default parameter들은 **반드시 ** default 값을 갖지 않는 파라미터들 뒤에 선언해야 함! "
      ]
    },
    {
      "cell_type": "code",
      "metadata": {
        "id": "jTy-feSSg7Xl"
      },
      "source": [
        "def test(x, y=1):\n",
        "    return x * y"
      ],
      "execution_count": 20,
      "outputs": []
    },
    {
      "cell_type": "code",
      "metadata": {
        "colab": {
          "base_uri": "https://localhost:8080/",
          "height": 130
        },
        "id": "72qI2dBeh2Ng",
        "outputId": "519467b6-7d06-4c94-c85f-5017a1f1812e"
      },
      "source": [
        "def test2(x=1, y):\n",
        "    return x * y            #> Syntax Error - 문법에 맞지 않음 "
      ],
      "execution_count": 21,
      "outputs": [
        {
          "output_type": "error",
          "ename": "SyntaxError",
          "evalue": "ignored",
          "traceback": [
            "\u001b[0;36m  File \u001b[0;32m\"<ipython-input-21-13ab7f1efd24>\"\u001b[0;36m, line \u001b[0;32m1\u001b[0m\n\u001b[0;31m    def test2(x=1, y):\u001b[0m\n\u001b[0m             ^\u001b[0m\n\u001b[0;31mSyntaxError\u001b[0m\u001b[0;31m:\u001b[0m non-default argument follows default argument\n"
          ]
        }
      ]
    },
    {
      "cell_type": "markdown",
      "metadata": {
        "id": "1Cs4N8UQiVbx"
      },
      "source": [
        "# argument 전달 방법 "
      ]
    },
    {
      "cell_type": "markdown",
      "metadata": {
        "id": "zHPESl9lin_R"
      },
      "source": [
        "함수를 호출할 때, 값(argument)를 전달하는 방법:\n",
        "\n",
        "*     **positional argument**:  함수에 정의된 파라미터 순서대로 값(argument)을 전달하는 방식.\n",
        "*     **keyword argument**: 함수를 호출할 때 parameter_name=value와 같은 형식으로 값(argument)을 전달하는 방식. \n",
        "       * keyword argument 방식으로 값(argument)을 전달할 때는 함수에 정의된 파라미터의 순서를 지키지 않아도 괜찮음."
      ]
    },
    {
      "cell_type": "code",
      "metadata": {
        "id": "p4zCTk-Eiadr"
      },
      "source": [
        "def minus(x, y):\n",
        "    return x - y "
      ],
      "execution_count": null,
      "outputs": []
    },
    {
      "cell_type": "code",
      "metadata": {
        "id": "QyX0MT1Oj7n8"
      },
      "source": [
        "# positional argument 방식의 함수 호출 \n",
        "minus(1, 2)"
      ],
      "execution_count": null,
      "outputs": []
    },
    {
      "cell_type": "code",
      "metadata": {
        "id": "bEv2VeJYkN7o"
      },
      "source": [
        "# keyword argument 방식의 함수 호출 (parameter가 선언된 순서를 지키지 않아도 된다)\n",
        "minus(y=3, x=2)"
      ],
      "execution_count": null,
      "outputs": []
    },
    {
      "cell_type": "code",
      "metadata": {
        "id": "pHsJMNjPlisg"
      },
      "source": [
        "# positional argument와 keyword argument를 혼용한 함수 호출 \n",
        "minus(10, y = 20)"
      ],
      "execution_count": null,
      "outputs": []
    },
    {
      "cell_type": "code",
      "metadata": {
        "id": "9GCkDi2Kl9za"
      },
      "source": [
        "# minus(x = 10, 20)     #> positional argument가 keyword 뒤에 따라오는 것은 문법적 오류이다 "
      ],
      "execution_count": null,
      "outputs": []
    },
    {
      "cell_type": "markdown",
      "metadata": {
        "id": "zz6nmUHeqYSp"
      },
      "source": [
        "# 가변길이 인수(variable-length arguments)"
      ]
    },
    {
      "cell_type": "code",
      "metadata": {
        "id": "S8YpvfUkqonm"
      },
      "source": [
        "print('안녕하세요')         # argument 1개"
      ],
      "execution_count": null,
      "outputs": []
    },
    {
      "cell_type": "code",
      "metadata": {
        "id": "SpibpUO6qwTE"
      },
      "source": [
        "print('안녕하세요', 'hello')        # argument 2개 "
      ],
      "execution_count": null,
      "outputs": []
    },
    {
      "cell_type": "code",
      "metadata": {
        "id": "rdSNQ0_brgbp"
      },
      "source": [
        "max(1, 10, 5)       # argument 3개 "
      ],
      "execution_count": null,
      "outputs": []
    },
    {
      "cell_type": "code",
      "metadata": {
        "id": "Z21sNUg9rsdL"
      },
      "source": [
        "max(1, 10, 100, 2,  20, 3, 30 )             # argument 7개 "
      ],
      "execution_count": null,
      "outputs": []
    },
    {
      "cell_type": "markdown",
      "metadata": {
        "id": "5heQV8ZRsE_X"
      },
      "source": [
        "** 가변길이 인수(variable-length, arbitrary-length argument) **\n",
        "\n",
        "*    함수를 호출할 때 전달하는 값(argument)의 개수가 임의로 변할 수 있는 것.\n",
        "argument 개수의 제한이 없음. (아무것도 전달하지 않아도 됨) \n",
        "*    함수를 정의(선언)할 때,  파라미터 앞에 `*`를 쓰면 가변길이 인수를 전달받는 파라미터가 됨.\n",
        "*    함수 내부에서 가변길이 인수는 tuple로 간주함. \n",
        "        * 가변길이 인수는 인덱스를 사용할 수 있음. \n",
        "        * 가변길이 인수는 for-in 구문에서 사용할 수 있음. \n",
        "*    가변길이 인수는 keyword argument 방식으로 전달할 수 없음! \n",
        "*    함수를 선언할 때 가변길이 인수를 갖는 파라미터는 하나만 선언할 수 있음. "
      ]
    },
    {
      "cell_type": "code",
      "metadata": {
        "id": "LWzqVHdEtQRs"
      },
      "source": [
        "def add_all(values):\n",
        "        \"\"\"전달받은 모든 값들의 합을 계산해 리턴\"\"\"\n",
        "        print(values)"
      ],
      "execution_count": null,
      "outputs": []
    },
    {
      "cell_type": "code",
      "metadata": {
        "id": "bWij6gOXwe6g"
      },
      "source": [
        "def add_all(*values):\n",
        "        total = 0\n",
        "        for x in values:\n",
        "              total += x\n",
        "\n",
        "        return total"
      ],
      "execution_count": null,
      "outputs": []
    },
    {
      "cell_type": "code",
      "metadata": {
        "id": "zk3LDXZptvG5"
      },
      "source": [
        "add_all( )          # argument 0개"
      ],
      "execution_count": null,
      "outputs": []
    },
    {
      "cell_type": "code",
      "metadata": {
        "id": "h6_IAMSVtxCK"
      },
      "source": [
        "add_all(1)         # argument 1개"
      ],
      "execution_count": null,
      "outputs": []
    },
    {
      "cell_type": "code",
      "metadata": {
        "id": "gUg7JU5-t42w"
      },
      "source": [
        "add_all(1, 2, 3, 4, 5)      #argument 5개"
      ],
      "execution_count": null,
      "outputs": []
    },
    {
      "cell_type": "code",
      "metadata": {
        "id": "pW8mb9Vot8YT"
      },
      "source": [
        "def fn_test(a, *b):        # b의 자리에는 임의의 개수의 argument들을 저장해도 된다 \n",
        "        print('a = ', a)\n",
        "        print('b = ', b)"
      ],
      "execution_count": null,
      "outputs": []
    },
    {
      "cell_type": "code",
      "metadata": {
        "id": "GBCfGpLExaB_"
      },
      "source": [
        "fn_test(123)            #> 에러 없이 실행됨 -  가변길이 인수는 값이 하나도 없어도 됨."
      ],
      "execution_count": null,
      "outputs": []
    },
    {
      "cell_type": "code",
      "metadata": {
        "id": "kkJGR0y2x9-2"
      },
      "source": [
        "fn_test( , 123)         #> 에러발생 - 파라미터 a에는 반드시 값(argument)가 전달되어야 함. "
      ],
      "execution_count": null,
      "outputs": []
    },
    {
      "cell_type": "code",
      "metadata": {
        "id": "_BovDhjzy1eb"
      },
      "source": [
        "fn_test(1, 2, 3)       #> 에러 없이 실행됨 "
      ],
      "execution_count": null,
      "outputs": []
    },
    {
      "cell_type": "code",
      "metadata": {
        "id": "0voXy8f04bxl"
      },
      "source": [
        "fn_test(1, b=2, b=3)    #> keyword argument는 키워드가 중복될 수 없다 "
      ],
      "execution_count": null,
      "outputs": []
    },
    {
      "cell_type": "code",
      "metadata": {
        "id": "mFJV9IkB4qeG"
      },
      "source": [
        "fn_test(1, 2,  b=3)"
      ],
      "execution_count": null,
      "outputs": []
    },
    {
      "cell_type": "code",
      "metadata": {
        "id": "mB9B4xUo5h6h"
      },
      "source": [
        "fn_test(1, b=(2,3))\n",
        "#> 에러발생 - 가변길이 인수는 키워드 방식으로 값을 전달할 수 없기 때문에 "
      ],
      "execution_count": null,
      "outputs": []
    },
    {
      "cell_type": "code",
      "metadata": {
        "id": "7NMTowHS5vnZ"
      },
      "source": [
        "fn_test(a = 1, 2, 3, 4, 5)\n",
        "#> 문법 오류: keyword argument가 positional argument보다 먼저 사용될 수는 없다! "
      ],
      "execution_count": null,
      "outputs": []
    },
    {
      "cell_type": "code",
      "metadata": {
        "id": "QrxPT4WH6jcM"
      },
      "source": [
        "fn_test(1, 2, 3, 4, 5)"
      ],
      "execution_count": null,
      "outputs": []
    },
    {
      "cell_type": "code",
      "metadata": {
        "id": "UOwsi0u87hyP"
      },
      "source": [
        "# 가변길이 파라미터는 하나만 선언할 수 있음.  (여러개를 갖는 파라미터는 없음)\n",
        "def test(*x, *y):\n",
        "    pass"
      ],
      "execution_count": null,
      "outputs": []
    },
    {
      "cell_type": "code",
      "metadata": {
        "id": "9qt1YzX37v6b"
      },
      "source": [
        "def fn_test2(*a, b): \n",
        "        print('a = ', a)\n",
        "        print('b = ', b)"
      ],
      "execution_count": null,
      "outputs": []
    },
    {
      "cell_type": "code",
      "metadata": {
        "id": "I2KZsX6D76Ni"
      },
      "source": [
        "fn_test2(1, 2, 3, 4, 5)      #> 앞에 있는 파라미터가 가변길이 파라미터라서, 모든 값을 a가 가져가 버린다. b값이 없음 "
      ],
      "execution_count": null,
      "outputs": []
    },
    {
      "cell_type": "code",
      "metadata": {
        "id": "xQoykzdr9AVY"
      },
      "source": [
        "fn_test2(1, 2, 3, 4, b = 5)   # 파라미터 b에 값을 전달하려면 keyword 방식만 가능 "
      ],
      "execution_count": null,
      "outputs": []
    },
    {
      "cell_type": "code",
      "metadata": {
        "id": "pU1d0vNu9EBi"
      },
      "source": [
        "print('a', 'b', 'c', '::')"
      ],
      "execution_count": null,
      "outputs": []
    },
    {
      "cell_type": "code",
      "metadata": {
        "id": "sGkI0g8b9hR8"
      },
      "source": [
        "print('a', 'b', 'c', sep = '::')    #keyword-only argument"
      ],
      "execution_count": null,
      "outputs": []
    },
    {
      "cell_type": "code",
      "metadata": {
        "id": "vh0EQZHD99Q8"
      },
      "source": [
        "def repeat_messages(*messages, n=2):\n",
        "    for _ in range(n):      # n번 반복 \n",
        "        for i, m in enumerate(messages): \n",
        "            print(f'[{i + 1}] {m}')\n",
        "        print( )        # 빈 줄 출력"
      ],
      "execution_count": null,
      "outputs": []
    },
    {
      "cell_type": "code",
      "metadata": {
        "id": "689Hds98_C1X"
      },
      "source": [
        "repeat_messages('안녕', 3)"
      ],
      "execution_count": null,
      "outputs": []
    },
    {
      "cell_type": "code",
      "metadata": {
        "id": "nuZoLN4lAbS0"
      },
      "source": [
        "repeat_messages('안녕', n = 3)"
      ],
      "execution_count": null,
      "outputs": []
    },
    {
      "cell_type": "code",
      "metadata": {
        "id": "XkXa4EnzBB0P"
      },
      "source": [
        "repeat_messages('안녕', 'hello', 5, n=2)"
      ],
      "execution_count": null,
      "outputs": []
    },
    {
      "cell_type": "code",
      "metadata": {
        "id": "goGcBIwwJ4Lb"
      },
      "source": [
        "def calculate(*values, op):\n",
        "    \n",
        "    \"\"\"\n",
        "    values: 임의의 개수의 숫자들.\n",
        "    op: 문자열 '+', 또는 '*'\n",
        "    op가 '+'인 경우에는, values들의 합을 리턴.\n",
        "    op가 '*'인 경우에는, values들의 곱을 리턴.\n",
        "    op가 '+'나 '*'가 아닌 경우에는 ValueError를 발생.\n",
        "    \"\"\"\n",
        "    if op =='+':\n",
        "        result = 0\n",
        "        for x in values:\n",
        "            result += x               #result = result + x\n",
        "    \n",
        "    elif op == '*':\n",
        "        result = 1\n",
        "        for x in values:\n",
        "            result *= x             #result = result * x\n",
        "\n",
        "    else:\n",
        "        raise ValueError('op는 + 또는 *만 가능합니다!')\n",
        "\n",
        "    return result"
      ],
      "execution_count": 22,
      "outputs": []
    },
    {
      "cell_type": "code",
      "metadata": {
        "colab": {
          "base_uri": "https://localhost:8080/"
        },
        "id": "11u6drugKseo",
        "outputId": "f5c0d6ee-b688-40d3-848c-da4e78727bda"
      },
      "source": [
        "calculate(1, 2, 3, 4, 5, op='+')"
      ],
      "execution_count": 24,
      "outputs": [
        {
          "output_type": "execute_result",
          "data": {
            "text/plain": [
              "15"
            ]
          },
          "metadata": {
            "tags": []
          },
          "execution_count": 24
        }
      ]
    },
    {
      "cell_type": "code",
      "metadata": {
        "colab": {
          "base_uri": "https://localhost:8080/"
        },
        "id": "atkY614KtigM",
        "outputId": "e137421b-6d0f-4c41-8dbc-68a10220e5dc"
      },
      "source": [
        "calculate(1, 2, 3, 4, 5, op='*') "
      ],
      "execution_count": 26,
      "outputs": [
        {
          "output_type": "execute_result",
          "data": {
            "text/plain": [
              "120"
            ]
          },
          "metadata": {
            "tags": []
          },
          "execution_count": 26
        }
      ]
    },
    {
      "cell_type": "code",
      "metadata": {
        "colab": {
          "base_uri": "https://localhost:8080/",
          "height": 287
        },
        "id": "d0mZpTXDtnfu",
        "outputId": "524dad35-9d80-4650-cfd7-ac894f72ad3f"
      },
      "source": [
        "calculate(1, 2, 3, 4, 5, op= '/')"
      ],
      "execution_count": 28,
      "outputs": [
        {
          "output_type": "error",
          "ename": "ValueError",
          "evalue": "ignored",
          "traceback": [
            "\u001b[0;31m---------------------------------------------------------------------------\u001b[0m",
            "\u001b[0;31mValueError\u001b[0m                                Traceback (most recent call last)",
            "\u001b[0;32m<ipython-input-28-f55f953684a5>\u001b[0m in \u001b[0;36m<module>\u001b[0;34m()\u001b[0m\n\u001b[0;32m----> 1\u001b[0;31m \u001b[0mcalculate\u001b[0m\u001b[0;34m(\u001b[0m\u001b[0;36m1\u001b[0m\u001b[0;34m,\u001b[0m \u001b[0;36m2\u001b[0m\u001b[0;34m,\u001b[0m \u001b[0;36m3\u001b[0m\u001b[0;34m,\u001b[0m \u001b[0;36m4\u001b[0m\u001b[0;34m,\u001b[0m \u001b[0;36m5\u001b[0m\u001b[0;34m,\u001b[0m \u001b[0mop\u001b[0m\u001b[0;34m=\u001b[0m \u001b[0;34m'/'\u001b[0m\u001b[0;34m)\u001b[0m\u001b[0;34m\u001b[0m\u001b[0;34m\u001b[0m\u001b[0m\n\u001b[0m",
            "\u001b[0;32m<ipython-input-22-cd84e9dc3be6>\u001b[0m in \u001b[0;36mcalculate\u001b[0;34m(op, *values)\u001b[0m\n\u001b[1;32m     19\u001b[0m \u001b[0;34m\u001b[0m\u001b[0m\n\u001b[1;32m     20\u001b[0m     \u001b[0;32melse\u001b[0m\u001b[0;34m:\u001b[0m\u001b[0;34m\u001b[0m\u001b[0;34m\u001b[0m\u001b[0m\n\u001b[0;32m---> 21\u001b[0;31m         \u001b[0;32mraise\u001b[0m \u001b[0mValueError\u001b[0m\u001b[0;34m(\u001b[0m\u001b[0;34m'op는 + 또는 *만 가능합니다!'\u001b[0m\u001b[0;34m)\u001b[0m\u001b[0;34m\u001b[0m\u001b[0;34m\u001b[0m\u001b[0m\n\u001b[0m\u001b[1;32m     22\u001b[0m \u001b[0;34m\u001b[0m\u001b[0m\n\u001b[1;32m     23\u001b[0m     \u001b[0;32mreturn\u001b[0m \u001b[0mresult\u001b[0m\u001b[0;34m\u001b[0m\u001b[0;34m\u001b[0m\u001b[0m\n",
            "\u001b[0;31mValueError\u001b[0m: op는 + 또는 *만 가능합니다!"
          ]
        }
      ]
    },
    {
      "cell_type": "markdown",
      "metadata": {
        "id": "3F--eSaNxKdr"
      },
      "source": [
        "# 가변길이 키워드 인수(variable-length keyword argument)"
      ]
    },
    {
      "cell_type": "markdown",
      "metadata": {
        "id": "5psyJzWWxZei"
      },
      "source": [
        "*       variable-length + keyword\n",
        "        *       variable-length argument: 함수를 호출할 때 임의의 개수의(0개도 가능) argument를 전달해도 됨. \n",
        "        *       keyword argument: 함수를 호출할 때 반드시 parameter을 명시해서 argument를 전달함.  `param_name=value`.\n",
        "*       함수를 정의(선언)할 때, 파라미터 앞에 `**`를 사용함. \n",
        "*       함수를 호출할 때, `param1=val1, param2=val2, ...`와 같이 여러개의 키워드 방식 호출을 사용. 파라미터 이름은 원하는대로 작성 \n",
        "*       함수 내부에서는 가변길이 키워드 인수는 dict 타입 변수로 취급함. \n",
        "        * 함수를 호출할 때 사용한 키워드(파라미터 이름)은 dict의 key가 됨. \n",
        "        * 함수를 호출할 때 전달한 값(argument)은 dict의 value가 됨. \n",
        "*      가변길이 키워드 인수는 함수에서 하나만 가능. \n"
      ]
    },
    {
      "cell_type": "code",
      "metadata": {
        "id": "2LgabMgmxYFe"
      },
      "source": [
        "def fn_test3(**kwargs):      # positional 방식으로는 절대 사용할 수 없다\n",
        "    print(kwargs)\n",
        "    for k in kwargs.items( ):               # dictionary에서 key와 value를 동시에 반복할 수 있다. \n",
        "            print(k)"
      ],
      "execution_count": 34,
      "outputs": []
    },
    {
      "cell_type": "code",
      "metadata": {
        "colab": {
          "base_uri": "https://localhost:8080/"
        },
        "id": "UhMMcyVaz4pk",
        "outputId": "d3cdf5f9-dacf-4d4e-e1e1-13e6afec3f9a"
      },
      "source": [
        "fn_test3(a=1, b='abc', x=1, y=10)"
      ],
      "execution_count": 43,
      "outputs": [
        {
          "output_type": "stream",
          "text": [
            "{'a': 1, 'b': 'abc', 'x': 1, 'y': 10}\n",
            "('a', 1)\n",
            "('b', 'abc')\n",
            "('x', 1)\n",
            "('y', 10)\n"
          ],
          "name": "stdout"
        }
      ]
    },
    {
      "cell_type": "code",
      "metadata": {
        "id": "JKFsg_j40Qbb"
      },
      "source": [
        "#  가변길이 인수와 가변길이 키워드 인수는 함수에서 한개씩만 선언할 수 있음! \n",
        "#  가변길이 인수와 가변길이 키워드 인수를 모두 갖는 함수는 가변길이 인수가 먼저 선언! \n",
        "\n",
        "def fn_test4(*args,  **kwargs):         #(**args, *kwargs) 는 불가능\n",
        "       print('args:', args)               # 가변길이 인수 -> tuple\n",
        "       print('kwargs:', kwargs)     # 가변길이 키워드 인수 -> dict"
      ],
      "execution_count": 41,
      "outputs": []
    },
    {
      "cell_type": "code",
      "metadata": {
        "colab": {
          "base_uri": "https://localhost:8080/"
        },
        "id": "FchAe0Ii3AgV",
        "outputId": "4fc7ea1b-0f33-46f0-ce6e-bb0edb02e2e4"
      },
      "source": [
        "fn_test4(1, 2, 3, x = 1, y = 2, z = 3)"
      ],
      "execution_count": 44,
      "outputs": [
        {
          "output_type": "stream",
          "text": [
            "args: (1, 2, 3)\n",
            "kwargs: {'x': 1, 'y': 2, 'z': 3}\n"
          ],
          "name": "stdout"
        }
      ]
    },
    {
      "cell_type": "code",
      "metadata": {
        "id": "bVRtxJ4678MZ"
      },
      "source": [
        "def make_employee(no, name, **kwargs):\n",
        "    emp = {'emp_no' : no, 'emp_name' : name}\n",
        "    for k, v in kwargs.items():\n",
        "          if (k == 'email') or  (k == 'phone'):\n",
        "              emp[k] = v\n",
        "    return emp "
      ],
      "execution_count": 56,
      "outputs": []
    },
    {
      "cell_type": "code",
      "metadata": {
        "colab": {
          "base_uri": "https://localhost:8080/"
        },
        "id": "eDzdheaf89gl",
        "outputId": "ba1db592-ab87-4f36-ea40-4bfbefc29dff"
      },
      "source": [
        "make_employee(no=1004, name ='오쌤', email='jake@itwill.co.kr', phone = '02-1234-5678')"
      ],
      "execution_count": 57,
      "outputs": [
        {
          "output_type": "execute_result",
          "data": {
            "text/plain": [
              "{'email': 'jake@itwill.co.kr',\n",
              " 'emp_name': '오쌤',\n",
              " 'emp_no': 1004,\n",
              " 'phone': '02-1234-5678'}"
            ]
          },
          "metadata": {
            "tags": []
          },
          "execution_count": 57
        }
      ]
    }
  ]
}