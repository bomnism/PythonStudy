{
  "nbformat": 4,
  "nbformat_minor": 0,
  "metadata": {
    "colab": {
      "name": "py22_inheritance.ipynb",
      "provenance": [],
      "collapsed_sections": [],
      "authorship_tag": "ABX9TyPZjpJhVBQrNUOSYTWo/f1Y",
      "include_colab_link": true
    },
    "kernelspec": {
      "name": "python3",
      "display_name": "Python 3"
    },
    "language_info": {
      "name": "python"
    }
  },
  "cells": [
    {
      "cell_type": "markdown",
      "metadata": {
        "id": "view-in-github",
        "colab_type": "text"
      },
      "source": [
        "<a href=\"https://colab.research.google.com/github/bomnism/PythonStudy/blob/main/py22_inheritance.ipynb\" target=\"_parent\"><img src=\"https://colab.research.google.com/assets/colab-badge.svg\" alt=\"Open In Colab\"/></a>"
      ]
    },
    {
      "cell_type": "markdown",
      "metadata": {
        "id": "ER2e6scXgIpA"
      },
      "source": [
        "# 상속(Inheritance)\n",
        "\n",
        "*   super class(상위 클래스), parent class(부모 클래스), base class(기본 클래스)\n",
        "*   sub class(하위 클래스), child class(자식 클래스), derived class(유도 클래스) \n",
        "*   상속: 상위 클래스의 속성들(attributes)과 기능들(methods)을 하위 클래스에서 재사용(reuse) 하는 것. \n",
        "*   IS-A 관계가 성립하는 객체들은 상속을 사용해서 구현함. \n",
        "    * 학생은 사람이다. (Student **IS A** person).\n",
        "        * 학생 - sub class (specific한 클래스)\n",
        "        * 사람 - super class \n",
        "*   HAS-A 관계가 성립하는 객체들은 _일반적으로_ 상속이 아니라, attribute(속성)을 사용해서 클래스를 구현함. \n",
        "    *       학생은 점수를 가지고 있다. (Student **Has A** score).\n",
        "              * 학생 클래스의 속성 중의 하나로 Score 클래스의 객체를 저장하는 방식으로  구현함. "
      ]
    },
    {
      "cell_type": "code",
      "metadata": {
        "id": "S4gydUvLocI_"
      },
      "source": [
        "class Person: \n",
        "    def __init__(self, name):\n",
        "        self.name = name\n",
        "    \n",
        "    def say_hello(self):\n",
        "        print(f'안녕하세요. 저는 {self.name}입니다.')"
      ],
      "execution_count": 41,
      "outputs": []
    },
    {
      "cell_type": "code",
      "metadata": {
        "id": "w8YxZllSpSq3"
      },
      "source": [
        "#  Person 클래스의 인스턴스 생성 \n",
        "ssam = Person('오쌤')"
      ],
      "execution_count": 42,
      "outputs": []
    },
    {
      "cell_type": "code",
      "metadata": {
        "colab": {
          "base_uri": "https://localhost:8080/"
        },
        "id": "xpXtc0MZpcCQ",
        "outputId": "691530e2-a323-42f9-dcb5-9d34b3bc9039"
      },
      "source": [
        "# ssam 객체의(인스턴스) 메서드 사용\n",
        "ssam.say_hello()"
      ],
      "execution_count": 43,
      "outputs": [
        {
          "output_type": "stream",
          "text": [
            "안녕하세요. 저는 오쌤입니다.\n"
          ],
          "name": "stdout"
        }
      ]
    },
    {
      "cell_type": "markdown",
      "metadata": {
        "id": "0ugCG8lDptSm"
      },
      "source": [
        "Person 클래스를 상속받는 Student 클래스를 정의 \n",
        "\n",
        "```\n",
        "class SubClass(SuperClass):\n",
        "            pass\n",
        "```"
      ]
    },
    {
      "cell_type": "code",
      "metadata": {
        "id": "P-8aIIJOpe7C"
      },
      "source": [
        "class Student(Person):          # Student 클래스는 Person 클래스를 상속. Student 클래스는 Person 클래스를 확장 \n",
        "        def say_hello2(self):\n",
        "            print('저는 학생입니다.')"
      ],
      "execution_count": 44,
      "outputs": []
    },
    {
      "cell_type": "code",
      "metadata": {
        "id": "LOHvY08AqmaS"
      },
      "source": [
        "#   Student 클래스의 인스턴스 생성 \n",
        "stu = Student('오쌤')"
      ],
      "execution_count": 45,
      "outputs": []
    },
    {
      "cell_type": "code",
      "metadata": {
        "colab": {
          "base_uri": "https://localhost:8080/"
        },
        "id": "i-3RedeNsYzY",
        "outputId": "704bd85d-213c-49f2-8647-6507592f818e"
      },
      "source": [
        "stu.say_hello( )        # 부모 객체로부터 상속 받은 메소드 출력\n",
        "stu.say_hello2( )      # 자식 객체로부터 상속 받은 메소드 출력 "
      ],
      "execution_count": 46,
      "outputs": [
        {
          "output_type": "stream",
          "text": [
            "안녕하세요. 저는 오쌤입니다.\n",
            "저는 학생입니다.\n"
          ],
          "name": "stdout"
        }
      ]
    },
    {
      "cell_type": "markdown",
      "metadata": {
        "id": "JPJaZ8HvtejY"
      },
      "source": [
        "#  Method Override \n",
        "  \n",
        "*   상위 클래스의 메서드를 하위 클래스에서 같은 이름으로 재정의하는 것(덮어쓰는 것).\n",
        "*   하위 클래스의 overriding된 상위 클래스의 메서드를 호출하기 위해서는 `super( ).method_name(arg)와 같은 방식을 사용함. \n"
      ]
    },
    {
      "cell_type": "code",
      "metadata": {
        "id": "NcegPRXhscVx"
      },
      "source": [
        "#  회사원은 사람이다.(Businessperson IS A person.)\n",
        "class BusinessPerson(Person):\n",
        "        # __init__ 메서드의 override\n",
        "        def __init__(self, name, company):\n",
        "               # 부모 클래스의 __init__ 메서드를 직접 호출할 때 argument name을 전달 \n",
        "                super().__init__(name)\n",
        "                self.company = company        # 자식 클래스만 갖는 속성 \n",
        "    \n",
        "        # ***method override: 부모 클래스인 Person의 say_hello( )메서드를 재정의***\n",
        "        def say_hello(self):\n",
        "            super( ).say_hello( )             # 부모 클래스의 say_hello()를 직접 호출 \n",
        "            print(f'저는 {self.company} 회사원입니다.')        # 부모 클래스의 기능을 확장 "
      ],
      "execution_count": 47,
      "outputs": []
    },
    {
      "cell_type": "code",
      "metadata": {
        "id": "pNpuRTQWvww_"
      },
      "source": [
        "# BusinessPerson 클래스의 인스턴스 생성\n",
        "# gil_dong = BusinessPerson('홍길동')  -> company의 기본값이 없기 때문에 에러  (company = None 라고 하면 OK)\n",
        "\n",
        "gil_dong = BusinessPerson('홍길동', '아이티윌')"
      ],
      "execution_count": 48,
      "outputs": []
    },
    {
      "cell_type": "code",
      "metadata": {
        "colab": {
          "base_uri": "https://localhost:8080/"
        },
        "id": "zGvYxoWJv1nI",
        "outputId": "6e77b732-81bc-410d-8821-dc384e6771ce"
      },
      "source": [
        "gil_dong.say_hello( )      # 나한테 있는 것을 실행(BusinessPerson에 객체 있자나!)"
      ],
      "execution_count": 49,
      "outputs": [
        {
          "output_type": "stream",
          "text": [
            "안녕하세요. 저는 홍길동입니다.\n",
            "저는 아이티윌 회사원입니다.\n"
          ],
          "name": "stdout"
        }
      ]
    },
    {
      "cell_type": "markdown",
      "metadata": {
        "id": "Zv6snzyz8nWk"
      },
      "source": [
        "# `isinastance` 함수\n",
        "\n",
        "객체가 어떤 클래스의 타입인 지(True) 아닌 지(False)를 리턴하는 함수"
      ]
    },
    {
      "cell_type": "code",
      "metadata": {
        "colab": {
          "base_uri": "https://localhost:8080/"
        },
        "id": "g1nHDDbg7hxl",
        "outputId": "ed06d488-12fb-4908-e7d1-c56e668c1a76"
      },
      "source": [
        "array = [1, 2, 3]\n",
        "print(isinstance(array, list))\n",
        "print(isinstance(array, dict))"
      ],
      "execution_count": 53,
      "outputs": [
        {
          "output_type": "stream",
          "text": [
            "True\n",
            "False\n"
          ],
          "name": "stdout"
        }
      ]
    },
    {
      "cell_type": "code",
      "metadata": {
        "colab": {
          "base_uri": "https://localhost:8080/"
        },
        "id": "HUDGEB7K95l3",
        "outputId": "e58262c9-c028-456a-cc04-26964b625cf6"
      },
      "source": [
        "n = 1.1\n",
        "print(isinstance(n, int))\n",
        "print(isinstance(n, float))"
      ],
      "execution_count": 56,
      "outputs": [
        {
          "output_type": "stream",
          "text": [
            "False\n",
            "True\n"
          ],
          "name": "stdout"
        }
      ]
    },
    {
      "cell_type": "markdown",
      "metadata": {
        "id": "CT20IoNq-KB2"
      },
      "source": [
        "## 상속과 `isinstance` 함수"
      ]
    },
    {
      "cell_type": "code",
      "metadata": {
        "id": "ztLZ-Ayw-F9s"
      },
      "source": [
        "class Car: \n",
        "    pass\n",
        "# 전기자동차는 자동차이다. (IS-A)\n",
        "class ElectricCar(Car):\n",
        "    pass "
      ],
      "execution_count": 59,
      "outputs": []
    },
    {
      "cell_type": "code",
      "metadata": {
        "colab": {
          "base_uri": "https://localhost:8080/"
        },
        "id": "9dwhHTY0-I4w",
        "outputId": "5cc71751-21f8-4f3a-a3cc-e1f259013150"
      },
      "source": [
        "car1 = Car()        # Car 클래스의 인스턴스를 생성 \n",
        "print(isinstance(car1, Car))\n",
        "print(isinstance(car1, ElectricCar))"
      ],
      "execution_count": 60,
      "outputs": [
        {
          "output_type": "stream",
          "text": [
            "True\n",
            "False\n"
          ],
          "name": "stdout"
        }
      ]
    },
    {
      "cell_type": "code",
      "metadata": {
        "colab": {
          "base_uri": "https://localhost:8080/"
        },
        "id": "P7943oyB_2T3",
        "outputId": "4970e125-48ad-4e57-a101-bdb946614388"
      },
      "source": [
        "tesla = ElectricCar( )\n",
        "print(isinstance(tesla, Car))\n",
        "print(isinstance(tesla, ElectricCar))"
      ],
      "execution_count": 61,
      "outputs": [
        {
          "output_type": "stream",
          "text": [
            "True\n",
            "True\n"
          ],
          "name": "stdout"
        }
      ]
    },
    {
      "cell_type": "markdown",
      "metadata": {
        "id": "ae7_31IREU3H"
      },
      "source": [
        "instance 함수 활용"
      ]
    },
    {
      "cell_type": "code",
      "metadata": {
        "id": "lFKI6tHyEW-P"
      },
      "source": [
        "class Animal:\n",
        "    def move(self):\n",
        "           pass\n",
        "\n",
        "#  강아지는 동물이다. (IS-A)\n",
        "class Dog(Animal):\n",
        "    # method override\n",
        "    def move(self):\n",
        "            print('강아지가 총총총...')\n",
        "\n",
        "# 새는 동물이다. (IS-A)\n",
        "class Bird(Animal):\n",
        "    def move(self):\n",
        "            print('새가 훨훨~')\n",
        "\n",
        "# 나무는 동물이다(x). 동물은 나무다(x).\n",
        "class Tree:\n",
        "            pass"
      ],
      "execution_count": 65,
      "outputs": []
    },
    {
      "cell_type": "code",
      "metadata": {
        "colab": {
          "base_uri": "https://localhost:8080/"
        },
        "id": "eVUZ4Dw8F2JL",
        "outputId": "f982a58b-bb93-4cd0-fb4f-4bd9ed795161"
      },
      "source": [
        "joy = Dog( )               # Dog 클래스 인스턴스(객체)\n",
        "chamsae = Bird( )   # Bird 클래스 인스턴스(객체)\n",
        "tree = Tree( )           # Tree 클래스 인스턴스(객체)\n",
        "\n",
        "array = [joy, chamsae, tree]\n",
        "for x in array:\n",
        "      if isinstance(x, Animal):\n",
        "          x.move()"
      ],
      "execution_count": 69,
      "outputs": [
        {
          "output_type": "stream",
          "text": [
            "강아지가 총총총...\n",
            "새가 훨훨~\n"
          ],
          "name": "stdout"
        }
      ]
    },
    {
      "cell_type": "code",
      "metadata": {
        "id": "Ol4gQpRcGOwE"
      },
      "source": [
        ""
      ],
      "execution_count": null,
      "outputs": []
    }
  ]
}