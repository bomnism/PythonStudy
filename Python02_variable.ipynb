{
  "nbformat": 4,
  "nbformat_minor": 0,
  "metadata": {
    "colab": {
      "name": "Python02_variable.ipynb",
      "provenance": [],
      "collapsed_sections": [],
      "authorship_tag": "ABX9TyMu9pif+i8N6K+NE0h9kVSk",
      "include_colab_link": true
    },
    "kernelspec": {
      "name": "python3",
      "display_name": "Python 3"
    },
    "language_info": {
      "name": "python"
    }
  },
  "cells": [
    {
      "cell_type": "markdown",
      "metadata": {
        "id": "view-in-github",
        "colab_type": "text"
      },
      "source": [
        "<a href=\"https://colab.research.google.com/github/bomnism/PythonStudy/blob/main/Python02_variable.ipynb\" target=\"_parent\"><img src=\"https://colab.research.google.com/assets/colab-badge.svg\" alt=\"Open In Colab\"/></a>"
      ]
    },
    {
      "cell_type": "markdown",
      "metadata": {
        "id": "3xYruB3FrbTm"
      },
      "source": [
        "# Python Data Type (자료형)    "
      ]
    },
    {
      "cell_type": "markdown",
      "metadata": {
        "id": "MNXuP1C7sdYq"
      },
      "source": [
        "* 숫자 타입:\n",
        "  *   int: 정수\n",
        "  *   float: 실수\n",
        "* 문자열 타입: str\n",
        "* 논리 타입: bool - True/False 두 가지 상태를 저장하는 변수 "
      ]
    },
    {
      "cell_type": "code",
      "metadata": {
        "colab": {
          "base_uri": "https://localhost:8080/"
        },
        "id": "a4zn2JL1tGmX",
        "outputId": "62160614-38ec-4082-e8bd-2130914b5862"
      },
      "source": [
        " # 변수 n에 정수 100을 저장 \n",
        " n = 100\n",
        " print(n)"
      ],
      "execution_count": 6,
      "outputs": [
        {
          "output_type": "stream",
          "text": [
            "100\n"
          ],
          "name": "stdout"
        }
      ]
    },
    {
      "cell_type": "code",
      "metadata": {
        "colab": {
          "base_uri": "https://localhost:8080/"
        },
        "id": "i3ju57X7tOmi",
        "outputId": "c64f2b02-a0e3-41f5-987a-2465874a900a"
      },
      "source": [
        " type(n) # type(x): 변수 x의 자료형(data type)을 반환 "
      ],
      "execution_count": 4,
      "outputs": [
        {
          "output_type": "execute_result",
          "data": {
            "text/plain": [
              "int"
            ]
          },
          "metadata": {
            "tags": []
          },
          "execution_count": 4
        }
      ]
    },
    {
      "cell_type": "code",
      "metadata": {
        "colab": {
          "base_uri": "https://localhost:8080/"
        },
        "id": "VlqLa3JDuALZ",
        "outputId": "762ece0b-c356-45a0-e411-60d139b98bc8"
      },
      "source": [
        "pi = 3.141592\n",
        "print(pi)\n",
        "type(pi)"
      ],
      "execution_count": 12,
      "outputs": [
        {
          "output_type": "stream",
          "text": [
            "3.141592\n",
            "pretty\n"
          ],
          "name": "stdout"
        }
      ]
    },
    {
      "cell_type": "code",
      "metadata": {
        "colab": {
          "base_uri": "https://localhost:8080/"
        },
        "id": "cecuEdx9uDQL",
        "outputId": "6a7889ea-f9f0-46c2-ab5c-974b7885c18a"
      },
      "source": [
        " x = 'pretty'\n",
        "print(x)"
      ],
      "execution_count": 13,
      "outputs": [
        {
          "output_type": "stream",
          "text": [
            "pretty\n"
          ],
          "name": "stdout"
        }
      ]
    }
  ]
}