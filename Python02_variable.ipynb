{
  "nbformat": 4,
  "nbformat_minor": 0,
  "metadata": {
    "colab": {
      "name": "Python02_variable.ipynb",
      "provenance": [],
      "collapsed_sections": [
        "3xYruB3FrbTm"
      ],
      "authorship_tag": "ABX9TyOCeUAs21GXDTjFJ7qaZD7l",
      "include_colab_link": true
    },
    "kernelspec": {
      "name": "python3",
      "display_name": "Python 3"
    },
    "language_info": {
      "name": "python"
    }
  },
  "cells": [
    {
      "cell_type": "markdown",
      "metadata": {
        "id": "view-in-github",
        "colab_type": "text"
      },
      "source": [
        "<a href=\"https://colab.research.google.com/github/bomnism/PythonStudy/blob/main/Python02_variable.ipynb\" target=\"_parent\"><img src=\"https://colab.research.google.com/assets/colab-badge.svg\" alt=\"Open In Colab\"/></a>"
      ]
    },
    {
      "cell_type": "markdown",
      "metadata": {
        "id": "3xYruB3FrbTm"
      },
      "source": [
        "# Python Data Type (자료형)    "
      ]
    },
    {
      "cell_type": "markdown",
      "metadata": {
        "id": "MNXuP1C7sdYq"
      },
      "source": [
        "* 숫자 타입:\n",
        "  *   int: 정수\n",
        "  *   float: 실수\n",
        "* 문자열 타입: str\n",
        "* 논리 타입: bool - True/False 두 가지 상태를 저장하는 변수 "
      ]
    },
    {
      "cell_type": "code",
      "metadata": {
        "colab": {
          "base_uri": "https://localhost:8080/"
        },
        "id": "a4zn2JL1tGmX",
        "outputId": "62160614-38ec-4082-e8bd-2130914b5862"
      },
      "source": [
        " # 변수 n에 정수 100을 저장 \n",
        " n = 100\n",
        " print(n)"
      ],
      "execution_count": 6,
      "outputs": [
        {
          "output_type": "stream",
          "text": [
            "100\n"
          ],
          "name": "stdout"
        }
      ]
    },
    {
      "cell_type": "code",
      "metadata": {
        "colab": {
          "base_uri": "https://localhost:8080/"
        },
        "id": "i3ju57X7tOmi",
        "outputId": "c64f2b02-a0e3-41f5-987a-2465874a900a"
      },
      "source": [
        " type(n) # type(x): 변수 x의 자료형(data type)을 반환 "
      ],
      "execution_count": 4,
      "outputs": [
        {
          "output_type": "execute_result",
          "data": {
            "text/plain": [
              "int"
            ]
          },
          "metadata": {
            "tags": []
          },
          "execution_count": 4
        }
      ]
    },
    {
      "cell_type": "code",
      "metadata": {
        "colab": {
          "base_uri": "https://localhost:8080/"
        },
        "id": "VlqLa3JDuALZ",
        "outputId": "762ece0b-c356-45a0-e411-60d139b98bc8"
      },
      "source": [
        "pi = 3.141592\n",
        "print(pi)\n",
        "type(pi)"
      ],
      "execution_count": 12,
      "outputs": [
        {
          "output_type": "stream",
          "text": [
            "3.141592\n",
            "pretty\n"
          ],
          "name": "stdout"
        }
      ]
    },
    {
      "cell_type": "code",
      "metadata": {
        "colab": {
          "base_uri": "https://localhost:8080/"
        },
        "id": "cecuEdx9uDQL",
        "outputId": "6a7889ea-f9f0-46c2-ab5c-974b7885c18a"
      },
      "source": [
        " x = 'pretty'\n",
        "print(x)"
      ],
      "execution_count": 13,
      "outputs": [
        {
          "output_type": "stream",
          "text": [
            "pretty\n"
          ],
          "name": "stdout"
        }
      ]
    },
    {
      "cell_type": "code",
      "metadata": {
        "colab": {
          "base_uri": "https://localhost:8080/"
        },
        "id": "NCQRXpu1CR57",
        "outputId": "754dc36b-d433-4a1c-c534-1a89a4691a54"
      },
      "source": [
        " s = '안녕하세요'\n",
        " print(s)\n",
        "type(s)"
      ],
      "execution_count": 5,
      "outputs": [
        {
          "output_type": "stream",
          "text": [
            "안녕하세요\n"
          ],
          "name": "stdout"
        },
        {
          "output_type": "execute_result",
          "data": {
            "text/plain": [
              "str"
            ]
          },
          "metadata": {
            "tags": []
          },
          "execution_count": 5
        }
      ]
    },
    {
      "cell_type": "code",
      "metadata": {
        "colab": {
          "base_uri": "https://localhost:8080/"
        },
        "id": "6VVFIa1EC1sy",
        "outputId": "0c1a466e-5843-43a9-d5fd-9bfbd1509c3c"
      },
      "source": [
        " b = True   # Python의 예약어들은 대/소문자를 구분함 \n",
        " print(b)\n",
        " type(b)    # bool : True나 False를 저장하는 타입 "
      ],
      "execution_count": 8,
      "outputs": [
        {
          "output_type": "stream",
          "text": [
            "True\n"
          ],
          "name": "stdout"
        },
        {
          "output_type": "execute_result",
          "data": {
            "text/plain": [
              "bool"
            ]
          },
          "metadata": {
            "tags": []
          },
          "execution_count": 8
        }
      ]
    },
    {
      "cell_type": "code",
      "metadata": {
        "colab": {
          "base_uri": "https://localhost:8080/"
        },
        "id": "UQSCJL8MDaB9",
        "outputId": "18ef9a0b-abaf-4261-e05f-9d49e13c6c54"
      },
      "source": [
        "b = 5 > 1\n",
        "print(b, type(b))"
      ],
      "execution_count": 13,
      "outputs": [
        {
          "output_type": "stream",
          "text": [
            "True <class 'bool'>\n"
          ],
          "name": "stdout"
        }
      ]
    },
    {
      "cell_type": "markdown",
      "metadata": {
        "id": "f7szf_30D5fm"
      },
      "source": [
        "# 명시적 타입 변환(explicit type conversion)"
      ]
    },
    {
      "cell_type": "markdown",
      "metadata": {
        "id": "9RivqZZ4EmIl"
      },
      "source": [
        "*  `int(값)` : 값을 정수로 변환하는 함수 \n",
        "*  `float(값)` : 값을 실수로 변환하는 함수\n",
        "*  `str(값)` : 값을 문자열로 변환하는 함수 "
      ]
    },
    {
      "cell_type": "code",
      "metadata": {
        "colab": {
          "base_uri": "https://localhost:8080/"
        },
        "id": "FYexWrEFFZno",
        "outputId": "b1535158-6114-4bfd-bf9e-c72ab8ab1fe0"
      },
      "source": [
        "num_str = '123'\n",
        "type(num_str)   # 문자열로 저장"
      ],
      "execution_count": 16,
      "outputs": [
        {
          "output_type": "execute_result",
          "data": {
            "text/plain": [
              "str"
            ]
          },
          "metadata": {
            "tags": []
          },
          "execution_count": 16
        }
      ]
    },
    {
      "cell_type": "code",
      "metadata": {
        "colab": {
          "base_uri": "https://localhost:8080/"
        },
        "id": "alWM-E5cFqdr",
        "outputId": "bd0ef0a9-c6e6-4735-88ff-ee095b4fcc32"
      },
      "source": [
        "num_int = int(num_str)  # 문자열 '123'을  정수 123으로 변환 후 변수 num_int에 저장\n",
        "type(num_int)"
      ],
      "execution_count": 20,
      "outputs": [
        {
          "output_type": "execute_result",
          "data": {
            "text/plain": [
              "int"
            ]
          },
          "metadata": {
            "tags": []
          },
          "execution_count": 20
        }
      ]
    },
    {
      "cell_type": "code",
      "metadata": {
        "colab": {
          "base_uri": "https://localhost:8080/"
        },
        "id": "zUJaVbP0HMO3",
        "outputId": "119d86e1-8988-4c78-fff9-55e12de5aa26"
      },
      "source": [
        "pi = float('3.141592')  \n",
        "type(pi)"
      ],
      "execution_count": 22,
      "outputs": [
        {
          "output_type": "execute_result",
          "data": {
            "text/plain": [
              "float"
            ]
          },
          "metadata": {
            "tags": []
          },
          "execution_count": 22
        }
      ]
    },
    {
      "cell_type": "code",
      "metadata": {
        "colab": {
          "base_uri": "https://localhost:8080/",
          "height": 213
        },
        "id": "ovRoEsnDHhDJ",
        "outputId": "6ed72352-9cc4-4eb5-b230-9bdb0e55455b"
      },
      "source": [
        " # int('3.14)  #> 문자열 '3.14'는 정수로 변환 불가능\n",
        " int('1,000')  #> 문자열 '1,000'은 정수로 변환 불가능 \n",
        " float('1,000.0') #> 문자열 '1,000.0'은 실수로 변환 불가능 "
      ],
      "execution_count": 24,
      "outputs": [
        {
          "output_type": "error",
          "ename": "ValueError",
          "evalue": "ignored",
          "traceback": [
            "\u001b[0;31m---------------------------------------------------------------------------\u001b[0m",
            "\u001b[0;31mValueError\u001b[0m                                Traceback (most recent call last)",
            "\u001b[0;32m<ipython-input-24-23875af16e17>\u001b[0m in \u001b[0;36m<module>\u001b[0;34m()\u001b[0m\n\u001b[1;32m      1\u001b[0m \u001b[0;31m# int('3.14)  #> 문자열 '3.14'는 정수로 변환 불가능\u001b[0m\u001b[0;34m\u001b[0m\u001b[0;34m\u001b[0m\u001b[0;34m\u001b[0m\u001b[0m\n\u001b[0;32m----> 2\u001b[0;31m \u001b[0mint\u001b[0m\u001b[0;34m(\u001b[0m\u001b[0;34m'1,000'\u001b[0m\u001b[0;34m)\u001b[0m  \u001b[0;31m#> 문자열 '1,000'은 정수로 변환 불가능\u001b[0m\u001b[0;34m\u001b[0m\u001b[0;34m\u001b[0m\u001b[0m\n\u001b[0m\u001b[1;32m      3\u001b[0m \u001b[0mfloat\u001b[0m\u001b[0;34m(\u001b[0m\u001b[0;34m'1,000.0'\u001b[0m\u001b[0;34m)\u001b[0m \u001b[0;31m#> 문자열 '1,000.0'은 실수로 변환 불가능\u001b[0m\u001b[0;34m\u001b[0m\u001b[0;34m\u001b[0m\u001b[0m\n",
            "\u001b[0;31mValueError\u001b[0m: invalid literal for int() with base 10: '1,000'"
          ]
        }
      ]
    },
    {
      "cell_type": "markdown",
      "metadata": {
        "id": "G2JbcuIbIicb"
      },
      "source": [
        "# 산술 연산자"
      ]
    },
    {
      "cell_type": "markdown",
      "metadata": {
        "id": "qnTz6MEJIu0Q"
      },
      "source": [
        "* 산술 연산자 종류 : `+`, `-`, `*`, `/`, `**`, `//`, `%`\n",
        "* 산술 연산자는 숫자 타입(int, float)의 값 또는 변수에서 사용할 수 있음 "
      ]
    },
    {
      "cell_type": "code",
      "metadata": {
        "id": "6xz08FP5JYEC"
      },
      "source": [
        " n1 = 10\n",
        " n2 = 3"
      ],
      "execution_count": 32,
      "outputs": []
    },
    {
      "cell_type": "code",
      "metadata": {
        "colab": {
          "base_uri": "https://localhost:8080/"
        },
        "id": "lL0QYVA0JcZA",
        "outputId": "0fa787bf-1eb6-4d77-c140-573765f845a0"
      },
      "source": [
        "print(f'{n1} + {n2} = {n1 + n2}')\n",
        "print(f'{n1} - {n2} = {n1 - n2}')\n",
        "print(f'{n1} * {n2} = {n1 * n2}')\n",
        "print(f'{n1} / {n2} = {n1 / n2}')\n",
        "print(f'{n1}의 {n2} 거듭제곱 = {n1 ** n2}')\n",
        "print(f'{n1}을 {n2}로 나눈 몫 = {n1 // n2}')\n",
        "print(f'{n1}을 {n2}로 나눈 나머지 = {n1 % n2}')"
      ],
      "execution_count": 33,
      "outputs": [
        {
          "output_type": "stream",
          "text": [
            "10 + 3 = 13\n",
            "10 - 3 = 7\n",
            "10 * 3 = 30\n",
            "10 / 3 = 3.3333333333333335\n",
            "10의 3 거듭제곱 = 1000\n",
            "10을 3로 나눈 몫 = 3\n",
            "10을 3로 나눈 나머지 = 1\n"
          ],
          "name": "stdout"
        }
      ]
    }
  ]
}