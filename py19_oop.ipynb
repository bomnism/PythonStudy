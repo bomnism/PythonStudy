{
  "nbformat": 4,
  "nbformat_minor": 0,
  "metadata": {
    "colab": {
      "name": "py19_oop.ipynb",
      "provenance": [],
      "authorship_tag": "ABX9TyOB/jeH4plvnBjTwairLdtI",
      "include_colab_link": true
    },
    "kernelspec": {
      "name": "python3",
      "display_name": "Python 3"
    },
    "language_info": {
      "name": "python"
    }
  },
  "cells": [
    {
      "cell_type": "markdown",
      "metadata": {
        "id": "view-in-github",
        "colab_type": "text"
      },
      "source": [
        "<a href=\"https://colab.research.google.com/github/bomnism/PythonStudy/blob/main/py19_oop.ipynb\" target=\"_parent\"><img src=\"https://colab.research.google.com/assets/colab-badge.svg\" alt=\"Open In Colab\"/></a>"
      ]
    },
    {
      "cell_type": "markdown",
      "metadata": {
        "id": "0INqrN-JPNoH"
      },
      "source": [
        "# OOP(Object-Oriented Programming, 객체 지향 프로그래밍)"
      ]
    },
    {
      "cell_type": "markdown",
      "metadata": {
        "id": "4r1PFC9wQEXe"
      },
      "source": [
        "## 배경 설명"
      ]
    },
    {
      "cell_type": "code",
      "metadata": {
        "id": "-RTVriogPUqs"
      },
      "source": [
        "#       학생, 과목 점수 리스트\n",
        "students = [\n",
        "                        {'name': 'aaa', 'korean': 90, 'english' : 80, 'math': 70 },\n",
        "                        {'name': 'bbb', 'korean': 70, 'english' : 100, 'math': 98 },\n",
        "                        {'name': 'ccc', 'korean': 85, 'english' : 50, 'math': 88 },\n",
        "                        {'name': 'ddd', 'korean': 100, 'english' : 70, 'math': 60 },\n",
        "                        {'name': 'eee', 'korean': 95, 'english' : 90, 'math': 50 },\n",
        "]"
      ],
      "execution_count": 1,
      "outputs": []
    },
    {
      "cell_type": "code",
      "metadata": {
        "id": "KUhcWsU9R7m2",
        "colab": {
          "base_uri": "https://localhost:8080/"
        },
        "outputId": "74ea589d-68f9-4137-d7fa-57bd73233a6e"
      },
      "source": [
        "# 각 학생의 3과목 총점과 평균을 출력 \n",
        "for s in students:\n",
        "    total = s['korean'] + s['english'] + s['math']\n",
        "    avg = total / 3\n",
        "    print(f' 이름: {s[\"name\"]}, 총점: {total}, 평균: {avg}')"
      ],
      "execution_count": 2,
      "outputs": [
        {
          "output_type": "stream",
          "text": [
            " 이름: aaa, 총점: 240, 평균: 80.0\n",
            " 이름: bbb, 총점: 268, 평균: 89.33333333333333\n",
            " 이름: ccc, 총점: 223, 평균: 74.33333333333333\n",
            " 이름: ddd, 총점: 230, 평균: 76.66666666666667\n",
            " 이름: eee, 총점: 235, 평균: 78.33333333333333\n"
          ],
          "name": "stdout"
        }
      ]
    },
    {
      "cell_type": "markdown",
      "metadata": {
        "id": "YDmxRyOOZu2_"
      },
      "source": [
        "위 프로그래밍 방식의 문제점은 dict의 키는 중복되지 않게만 설정하면 되기 때문에, 반복문을 사용해서 총점과 평균을 계산, 출력하는 기능을 만들 수 없는 경우가 발생할 수도 있다."
      ]
    },
    {
      "cell_type": "code",
      "metadata": {
        "id": "sHNGBJoOZ5C3"
      },
      "source": [
        "## 함수형 프로그래밍(Functional Programming)"
      ],
      "execution_count": 3,
      "outputs": []
    },
    {
      "cell_type": "code",
      "metadata": {
        "id": "O62vw-JfZ-hk"
      },
      "source": [
        "def create_student(name, korean, english, math): \n",
        "        \"\"\"name, korean, english, math를 키로 갖는 dict 객체를 리턴\"\"\"  #오타 실수를 줄일 수 있음\n",
        "        student = {'name' : name, \n",
        "                            'korean' : korean, \n",
        "                            'english' : english, \n",
        "                            'math' : math}\n",
        "        return student "
      ],
      "execution_count": 4,
      "outputs": []
    },
    {
      "cell_type": "code",
      "metadata": {
        "id": "5A76bIV8ao3e"
      },
      "source": [
        "students = [\n",
        "                        create_student('aaa', 100, 90, 80), \n",
        "                        create_student('bbb', 90, 80, 70), \n",
        "                        create_student('ccc', 88, 99, 77), \n",
        "                        create_student('ddd', 50, 40, 60), \n",
        "                        create_student('eee', 100, 50, 70)\n",
        "]"
      ],
      "execution_count": 5,
      "outputs": []
    },
    {
      "cell_type": "code",
      "metadata": {
        "id": "TGQY7BMkck_F"
      },
      "source": [
        "def get_student_total(student) :\n",
        "    \"\"\"student dict에서 총점을 계산해서 리턴\"\"\"\n",
        "    total = student['korean'] + student['english'] + student['math']\n",
        "    return total"
      ],
      "execution_count": 6,
      "outputs": []
    },
    {
      "cell_type": "code",
      "metadata": {
        "id": "U1vbppfLdEqk"
      },
      "source": [
        "def get_student_average(student):\n",
        "    \"\"\"studnet dict에서 평균을 계산해서 리턴\"\"\"\n",
        "    total = get_student_total(student)\n",
        "    avg = total / 3\n",
        "    return avg"
      ],
      "execution_count": 7,
      "outputs": []
    },
    {
      "cell_type": "code",
      "metadata": {
        "colab": {
          "base_uri": "https://localhost:8080/"
        },
        "id": "STqbi_XvbG6g",
        "outputId": "4b26814f-d885-4342-fbf9-7844cead8cf1"
      },
      "source": [
        "for s in students:\n",
        "    total = s['korean'] + s['english'] + s['math']\n",
        "    avg = total/3\n",
        "    print(f'이름 : {s[\"name\"]}, 총점: {total}, 평균: {avg}')"
      ],
      "execution_count": 8,
      "outputs": [
        {
          "output_type": "stream",
          "text": [
            "이름 : aaa, 총점: 270, 평균: 90.0\n",
            "이름 : bbb, 총점: 240, 평균: 80.0\n",
            "이름 : ccc, 총점: 264, 평균: 88.0\n",
            "이름 : ddd, 총점: 150, 평균: 50.0\n",
            "이름 : eee, 총점: 220, 평균: 73.33333333333333\n"
          ],
          "name": "stdout"
        }
      ]
    },
    {
      "cell_type": "markdown",
      "metadata": {
        "id": "34nf2uQJfKgD"
      },
      "source": [
        "총점과 평균을 계산하는 함수는 학생 dict 타입과 매우 밀접한 관계를  맺고 있음. \n",
        "\n",
        "데이터(이름, 3과목 점수)와 기능(총점계산, 평균 계산) 하나로 묶을 수 있을까?"
      ]
    },
    {
      "cell_type": "markdown",
      "metadata": {
        "id": "z1geHVLYkTYF"
      },
      "source": [
        "# 객체 지향 프로그래밍(OOP: Objected-Oriented Programming)\n",
        "\n",
        "*  객체(object): 소프트웨어로 구현할 대상, 자료 구조, 우리가 프로그램으로 만들 대상이다. (e.g. 학생) / 일종의 추상명사 \n",
        "*  클래스(class): 객체를 구현하기 위한 설계도.  코드. \n",
        "    * 속성(attribute): 객체가 가져야 하는 **데이터**.   변수에 저장되는 값.\n",
        "    * 메서드(method): 객체가 가져야 하는 **기능**.    클래스 내부에서 정의하는 함수. \n",
        "*  인스턴스(instance): 설계도인 클래스에 따라 메모리에 생성된 객체. / 객체(object)가 실제로 만들어진 것 / 특별한 사례\n",
        "*  인스턴스 생성(instanctiate): 클래스에 객체를 메모리에 생성하는 것.\n",
        "*  생성자(constructor): 클래스의 이름과 동일한 함수.\n",
        "        * 생성자를 호출하면 클래스에서 정의된 '__init__' 메서드가 자동으로 호출됨.\n",
        "\n"
      ]
    },
    {
      "cell_type": "code",
      "metadata": {
        "id": "QWx0TUKrkJsD"
      },
      "source": [
        "# 클래스 정의(선언)\n",
        "class Student: \n",
        "        # 생성자 함수: 속성들을 선언하고 초기화 \n",
        "        def __init__(self, name, korean, english, math):       #self 는 메모리 주소라고 생각하라, 꼭 써야 함\n",
        "               self.name = name\n",
        "               self.korean = korean\n",
        "               self.english = english\n",
        "               self.math = math\n",
        "\n",
        "        # 메서드 \n",
        "        def get_sum(self):\n",
        "                \"\"\"3과목의 총점을 리턴.\"\"\"\n",
        "                return self.korean + self.english + self.math \n",
        "\n",
        "        def get_average(self):\n",
        "                \"\"\"3과목의 평균을 리턴.\"\"\"\n",
        "                sum = self.get_sum( )\n",
        "                avg = sum / 3\n",
        "                return avg\n"
      ],
      "execution_count": 9,
      "outputs": []
    },
    {
      "cell_type": "code",
      "metadata": {
        "colab": {
          "base_uri": "https://localhost:8080/"
        },
        "id": "-5pR10izoSmc",
        "outputId": "da6aff4a-ed07-4693-947f-c808ba895e0b"
      },
      "source": [
        "# Student 클래스의 인스턴스 생성: 생성자 함수 호출 -> 클래스의 __init__매서드가 호출됨 \n",
        "student_1 = Student(name= '오쌤', korean = 100, english = 100, math = 100)\n",
        "# 생성자 Student는 메모리를 확보한다.(Ram) 비어있는 주소에 변수들을 만든다(name, korean, english, math). \n",
        "# 그리고 변수들에 값을 저장한다. (parameter이름이 아닌 객체가 가지고 있는 변수이다.)\n",
        "print(student_1)   # Student라는 class를 가지고 만들어진 object이다. \n",
        "print('이름:', student_1.name)      # student_1 인스턴스가 가지고 있는 name 속성 \n",
        "print('국어 점수:', student_1.korean)\n",
        "print('영어 점수:', student_1.english)\n",
        "print('수학 점수:', student_1.math)\n",
        "print('총점:', student_1.get_sum())\n",
        "print('평균:', student_1.get_average())"
      ],
      "execution_count": 10,
      "outputs": [
        {
          "output_type": "stream",
          "text": [
            "<__main__.Student object at 0x7fa57c24e3d0>\n",
            "이름: 오쌤\n",
            "국어 점수: 100\n",
            "영어 점수: 100\n",
            "수학 점수: 100\n",
            "총점: 300\n",
            "평균: 100.0\n"
          ],
          "name": "stdout"
        }
      ]
    },
    {
      "cell_type": "code",
      "metadata": {
        "colab": {
          "base_uri": "https://localhost:8080/"
        },
        "id": "3Xo4uMT3zOaD",
        "outputId": "1f8b08bc-576e-4256-b5d3-5b67de35a09d"
      },
      "source": [
        "student_2 = Student('홍길동', 100, 50, 98)\n",
        "print(student_2)    # 다른 주소값에 새로운 instance가 생성된 것 \n",
        "print('이름: ', student_2.name)\n",
        "print('국어 점수:', student_2.korean)"
      ],
      "execution_count": 11,
      "outputs": [
        {
          "output_type": "stream",
          "text": [
            "<__main__.Student object at 0x7fa57c24e110>\n",
            "이름:  홍길동\n",
            "국어 점수: 100\n"
          ],
          "name": "stdout"
        }
      ]
    },
    {
      "cell_type": "code",
      "metadata": {
        "id": "_6F8546h0M3k"
      },
      "source": [
        "students = [\n",
        "                        Student('aaa', 100, 90, 80), \n",
        "                        Student('bbb', 90, 70, 80), \n",
        "                        Student('ccc', 50, 60, 70)\n",
        "]"
      ],
      "execution_count": 12,
      "outputs": []
    },
    {
      "cell_type": "code",
      "metadata": {
        "colab": {
          "base_uri": "https://localhost:8080/"
        },
        "id": "TXJ3Hao1_Puo",
        "outputId": "f3394313-5410-45e6-bac1-f1f36c088021"
      },
      "source": [
        "for s in students:\n",
        "        # total = s.get_sum()\n",
        "        # avg = s.get_average()\n",
        "        # print(f'이름: {s.name}, 총점: {total}, 평균: {avg}')\n",
        "\n",
        "        print(f'이름: {s.name}, 총점: {s.get_sum()}, 평균: {s.get_average()}')"
      ],
      "execution_count": 13,
      "outputs": [
        {
          "output_type": "stream",
          "text": [
            "이름: aaa, 총점: 270, 평균: 90.0\n",
            "이름: bbb, 총점: 240, 평균: 80.0\n",
            "이름: ccc, 총점: 180, 평균: 60.0\n"
          ],
          "name": "stdout"
        }
      ]
    },
    {
      "cell_type": "markdown",
      "metadata": {
        "id": "984ec0u6jqfN"
      },
      "source": [
        "## 객체 사용 예제 "
      ]
    },
    {
      "cell_type": "code",
      "metadata": {
        "colab": {
          "base_uri": "https://localhost:8080/"
        },
        "id": "jEo8GwzNjsXW",
        "outputId": "51b38a07-623e-407e-ae3b-8825184f24fb"
      },
      "source": [
        "numbers1 = list( )      # list 클래스 생성자 호출 \n",
        "print(type(numbers1))"
      ],
      "execution_count": 14,
      "outputs": [
        {
          "output_type": "stream",
          "text": [
            "<class 'list'>\n"
          ],
          "name": "stdout"
        }
      ]
    },
    {
      "cell_type": "code",
      "metadata": {
        "colab": {
          "base_uri": "https://localhost:8080/"
        },
        "id": "9JfSb5kfkBaU",
        "outputId": "7186ddd7-80a9-4e05-fe0e-3bed4b47b2a5"
      },
      "source": [
        "numbers1.append(10)       # list 객체(인스턴스)의 메서드(append) 호출 \n",
        "numbers1.append(20)\n",
        "numbers1.append(30)\n",
        "\n",
        "print(numbers1)                 #10, 20, 30을 저장하는 list가 만들어짐 "
      ],
      "execution_count": 15,
      "outputs": [
        {
          "output_type": "stream",
          "text": [
            "[10, 20, 30]\n"
          ],
          "name": "stdout"
        }
      ]
    },
    {
      "cell_type": "code",
      "metadata": {
        "colab": {
          "base_uri": "https://localhost:8080/"
        },
        "id": "natWZKzokQ1S",
        "outputId": "ef56583f-6f3f-44cf-d013-c00b52d29278"
      },
      "source": [
        "numbers2 = list( )               # list 클래스 생성자 호출 - list 인스턴스 생성\n",
        "numbers2.append(100)    # list 인스턴스의 메서드 호출\n",
        "numbers2.append(50)\n",
        "print(numbers2)"
      ],
      "execution_count": 16,
      "outputs": [
        {
          "output_type": "stream",
          "text": [
            "[100, 50]\n"
          ],
          "name": "stdout"
        }
      ]
    }
  ]
}