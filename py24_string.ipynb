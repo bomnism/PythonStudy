{
  "nbformat": 4,
  "nbformat_minor": 0,
  "metadata": {
    "colab": {
      "name": "py24_string.ipynb",
      "provenance": [],
      "collapsed_sections": [],
      "authorship_tag": "ABX9TyMXwWg3MaU0LNXS099we89Y",
      "include_colab_link": true
    },
    "kernelspec": {
      "name": "python3",
      "display_name": "Python 3"
    },
    "language_info": {
      "name": "python"
    }
  },
  "cells": [
    {
      "cell_type": "markdown",
      "metadata": {
        "id": "view-in-github",
        "colab_type": "text"
      },
      "source": [
        "<a href=\"https://colab.research.google.com/github/bomnism/PythonStudy/blob/main/py24_string.ipynb\" target=\"_parent\"><img src=\"https://colab.research.google.com/assets/colab-badge.svg\" alt=\"Open In Colab\"/></a>"
      ]
    },
    {
      "cell_type": "markdown",
      "metadata": {
        "id": "fAfXDzbyDjvE"
      },
      "source": [
        "# 문자열 메서드(string method)"
      ]
    },
    {
      "cell_type": "code",
      "metadata": {
        "id": "v0A8rgV0Airg"
      },
      "source": [
        "s = 'heLLo pyTHOn!'         # str 클래스의 인스턴스 생성"
      ],
      "execution_count": 1,
      "outputs": []
    },
    {
      "cell_type": "code",
      "metadata": {
        "colab": {
          "base_uri": "https://localhost:8080/",
          "height": 36
        },
        "id": "Z4TZJukcFsl3",
        "outputId": "4400dd6a-dfce-451c-a6a7-c343046624a7"
      },
      "source": [
        "s"
      ],
      "execution_count": 3,
      "outputs": [
        {
          "output_type": "execute_result",
          "data": {
            "application/vnd.google.colaboratory.intrinsic+json": {
              "type": "string"
            },
            "text/plain": [
              "'heLLo pyTHOn!'"
            ]
          },
          "metadata": {
            "tags": []
          },
          "execution_count": 3
        }
      ]
    },
    {
      "cell_type": "code",
      "metadata": {
        "colab": {
          "base_uri": "https://localhost:8080/"
        },
        "id": "bXAChlywF6g7",
        "outputId": "5ae8ef83-068e-451f-a598-9a30835fb24a"
      },
      "source": [
        "# str.lower(): str을 소문자로 변환한 (새로운) 문자열을 리턴.  원본 문자열은 바뀌지 않음! \n",
        "print(s.lower( ))\n",
        "print(s)"
      ],
      "execution_count": 5,
      "outputs": [
        {
          "output_type": "stream",
          "text": [
            "hello python!\n",
            "heLLo pyTHOn!\n"
          ],
          "name": "stdout"
        }
      ]
    },
    {
      "cell_type": "code",
      "metadata": {
        "colab": {
          "base_uri": "https://localhost:8080/",
          "height": 36
        },
        "id": "A6UXptC6IhRH",
        "outputId": "1f6b8d39-63bf-4927-e48b-8875ca071487"
      },
      "source": [
        "# str.upper(): str을 대문자로 변환한 (새로운) 문자열 리턴. \n",
        "s.upper()"
      ],
      "execution_count": 11,
      "outputs": [
        {
          "output_type": "execute_result",
          "data": {
            "application/vnd.google.colaboratory.intrinsic+json": {
              "type": "string"
            },
            "text/plain": [
              "'HELLO PYTHON!'"
            ]
          },
          "metadata": {
            "tags": []
          },
          "execution_count": 11
        }
      ]
    },
    {
      "cell_type": "code",
      "metadata": {
        "colab": {
          "base_uri": "https://localhost:8080/"
        },
        "id": "jezMHXUzJO0h",
        "outputId": "4a2c61ff-e109-4032-aced-22ce51e02a2e"
      },
      "source": [
        "'hello' == 'HELLO'"
      ],
      "execution_count": 13,
      "outputs": [
        {
          "output_type": "execute_result",
          "data": {
            "text/plain": [
              "False"
            ]
          },
          "metadata": {
            "tags": []
          },
          "execution_count": 13
        }
      ]
    },
    {
      "cell_type": "code",
      "metadata": {
        "colab": {
          "base_uri": "https://localhost:8080/"
        },
        "id": "GXwWwaYvOnME",
        "outputId": "0d1d9c0b-b536-4164-ca08-9a7ac7094cfd"
      },
      "source": [
        "# list(iterable): iterable 객체를 list로 변환해서 리턴 \n",
        "for x in 'hello':\n",
        "    print(x)"
      ],
      "execution_count": 15,
      "outputs": [
        {
          "output_type": "stream",
          "text": [
            "h\n",
            "e\n",
            "l\n",
            "l\n",
            "o\n"
          ],
          "name": "stdout"
        }
      ]
    },
    {
      "cell_type": "code",
      "metadata": {
        "colab": {
          "base_uri": "https://localhost:8080/"
        },
        "id": "Mgw9rXGlPkqz",
        "outputId": "e4c3cf2c-8d6f-4377-8453-9d4051d86b3d"
      },
      "source": [
        "print(s)\n",
        "print(s.count('L'))\n",
        "print(s.count('o'))\n",
        "print(s.count('LL', 0, 5))    #0 <= index <5 범위의 문자열 내에서 "
      ],
      "execution_count": 16,
      "outputs": [
        {
          "output_type": "stream",
          "text": [
            "heLLo pyTHOn!\n",
            "2\n",
            "1\n"
          ],
          "name": "stdout"
        }
      ]
    },
    {
      "cell_type": "code",
      "metadata": {
        "colab": {
          "base_uri": "https://localhost:8080/"
        },
        "id": "CJBpOR9oTqaF",
        "outputId": "a25ccc3f-c707-4de8-b60c-7ee1f962e277"
      },
      "source": [
        "# str.startswith(패턴): 문자열 str이 '패턴'으로 시작하면 True, 그렇지 않으면 False 리턴 \n",
        "url = 'http://www.google.com/'\n",
        "url.startswith('http')"
      ],
      "execution_count": 19,
      "outputs": [
        {
          "output_type": "execute_result",
          "data": {
            "text/plain": [
              "True"
            ]
          },
          "metadata": {
            "tags": []
          },
          "execution_count": 19
        }
      ]
    },
    {
      "cell_type": "code",
      "metadata": {
        "colab": {
          "base_uri": "https://localhost:8080/"
        },
        "id": "Jw9ARhWqVAjf",
        "outputId": "660e79f7-4a4f-4bc9-deea-6211a405371e"
      },
      "source": [
        "# str.endswith(패턴): 문자열 str이 '패턴'으로 끝나면 True, 그렇지 않으면 False를 리턴 \n",
        "phone = '010-1234-5678'\n",
        "phone.endswith('0000')"
      ],
      "execution_count": 21,
      "outputs": [
        {
          "output_type": "execute_result",
          "data": {
            "text/plain": [
              "False"
            ]
          },
          "metadata": {
            "tags": []
          },
          "execution_count": 21
        }
      ]
    },
    {
      "cell_type": "code",
      "metadata": {
        "colab": {
          "base_uri": "https://localhost:8080/"
        },
        "id": "T12AJlqQV-Fp",
        "outputId": "4cc7b209-1ae6-484c-eff6-cd04e753dd58"
      },
      "source": [
        "# str.fine(패턴): 문자열 str에서 '패턴'이 등장하는 가장 낮은 인덱스를 리턴. \n",
        "# 만약 패턴이 없으면 '-1'을 리턴. \n",
        "\n",
        "email = 'abc.def@gmail.com'\n",
        "idx = email.find('@')\n",
        "print('idx = ', idx)\n",
        "# 인덱스를 사용한 문자열 slicing\n",
        "print(email[:idx])   # 0 <= index < idx 범위의 substring\n",
        "print(email[idx+1:])  # idx <= index 범위의 substring"
      ],
      "execution_count": 27,
      "outputs": [
        {
          "output_type": "stream",
          "text": [
            "idx =  7\n",
            "abc.def\n",
            "gmail.com\n"
          ],
          "name": "stdout"
        }
      ]
    }
  ]
}