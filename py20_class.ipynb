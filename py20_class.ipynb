{
  "nbformat": 4,
  "nbformat_minor": 0,
  "metadata": {
    "colab": {
      "name": "py20_class.ipynb",
      "provenance": [],
      "collapsed_sections": [],
      "authorship_tag": "ABX9TyPrU4krOUAs+IZ9H8dfoNmL",
      "include_colab_link": true
    },
    "kernelspec": {
      "name": "python3",
      "display_name": "Python 3"
    },
    "language_info": {
      "name": "python"
    }
  },
  "cells": [
    {
      "cell_type": "markdown",
      "metadata": {
        "id": "view-in-github",
        "colab_type": "text"
      },
      "source": [
        "<a href=\"https://colab.research.google.com/github/bomnism/PythonStudy/blob/main/py20_class.ipynb\" target=\"_parent\"><img src=\"https://colab.research.google.com/assets/colab-badge.svg\" alt=\"Open In Colab\"/></a>"
      ]
    },
    {
      "cell_type": "code",
      "metadata": {
        "id": "paKpwmrZpzOp"
      },
      "source": [
        "import math         # math.sqrt( ) 함수를 사용하기 위해서 "
      ],
      "execution_count": 14,
      "outputs": []
    },
    {
      "cell_type": "code",
      "metadata": {
        "id": "W3c_YQ7rp_4E"
      },
      "source": [
        "class Point:\n",
        "            \"\"\"2차원 평면의 점의 좌표를 표현하는 클래스\"\"\"\n",
        "\n",
        "            def __init__(self, x=0, y=0):\n",
        "                #  인스턴스의 속성들을 초기화 (클래스의  객체들이 가지고 있어야하는 속성들을 초기화)\n",
        "                self.x = x\n",
        "                self.y = y\n",
        "\n",
        "#__init__ = 파이썬에서 쓰이는 생성자\n",
        "# * 생성자의 매개변수의 갯수만큼 보내주어야 객체 생성 가능 (self 제외)\n",
        "# * self.name / self.hp == 멤버변수\n",
        "            \n",
        "            def move(self, dx, dy):\n",
        "                \"\"\"점의 좌표를 원래 위치에서 x축의 방향으로 dx만큼, y축의 방향으로 dy만큼 이동시키는 메서드\"\"\"\n",
        "                self.x += dx            # self.x = self.x + dx \n",
        "                self.y += dy              # self.y = self.y + dy\n",
        "\n",
        "            def distance_to(self, other):\n",
        "                    \"\"\"다른 Point 객체 other까지의 거리를 반환하는 메서드\n",
        "                    두 점 (x1, y1)과 (x2, y2) 사이의 거리 d:\n",
        "                    d = sqrt((x1 - x2)**2 + (y1 - y2)**2) \"\"\"\n",
        "                    d = math.sqrt((self.x - other.x)**2 + (self.y - other.y)**2)\n",
        "                    return d"
      ],
      "execution_count": 15,
      "outputs": []
    },
    {
      "cell_type": "code",
      "metadata": {
        "colab": {
          "base_uri": "https://localhost:8080/"
        },
        "id": "17tcnutctglP",
        "outputId": "4113c494-4267-4dfb-d077-18096a6fbdfe"
      },
      "source": [
        "# class 객체 생성 \n",
        "pt1 = Point(1, 2)      #__init__메서드의 default argument가 사용됨. \n",
        "print(pt1)\n",
        "print(f'(x={pt1.x}, y={pt1.y})')             # pt1.x, pt1.y : 인스턴스 속성 참조 "
      ],
      "execution_count": 16,
      "outputs": [
        {
          "output_type": "stream",
          "text": [
            "<__main__.Point object at 0x7efcbaa01e50>\n",
            "(x=1, y=2)\n"
          ],
          "name": "stdout"
        }
      ]
    },
    {
      "cell_type": "code",
      "metadata": {
        "colab": {
          "base_uri": "https://localhost:8080/"
        },
        "id": "qLm9Sb7R2wlI",
        "outputId": "2f67f58d-f9c8-48fe-82fe-4c4253077357"
      },
      "source": [
        "# pt1을 x축으로 2만큼, y축으로 3만큼 이동 \n",
        "pt1.move(dx=2, dy=3)\n",
        "# 이동 후 점의 좌표 출력\n",
        "print(f'(x = {pt1.x}, y={pt1.y})')"
      ],
      "execution_count": 17,
      "outputs": [
        {
          "output_type": "stream",
          "text": [
            "(x = 3, y=5)\n"
          ],
          "name": "stdout"
        }
      ]
    },
    {
      "cell_type": "code",
      "metadata": {
        "colab": {
          "base_uri": "https://localhost:8080/"
        },
        "id": "qT6SosExvx3n",
        "outputId": "a23c8d10-0d66-4f70-ba6f-c989c45531a3"
      },
      "source": [
        "pt2 = Point(1, 1)           # 생성자 호출(positional argument)\n",
        "print(pt2)\n",
        "print(f'(x = {pt2.x}, y={pt2.y})')"
      ],
      "execution_count": 18,
      "outputs": [
        {
          "output_type": "stream",
          "text": [
            "<__main__.Point object at 0x7efcba9fae50>\n",
            "(x = 1, y=1)\n"
          ],
          "name": "stdout"
        }
      ]
    },
    {
      "cell_type": "code",
      "metadata": {
        "colab": {
          "base_uri": "https://localhost:8080/"
        },
        "id": "qCtHYbFv5goO",
        "outputId": "b83c2990-58e4-4550-ae15-7144addf4e3a"
      },
      "source": [
        "#  pt2를 x축의 방향으로 1만큼, y축의 방향으로 -2만큼 이동\n",
        "pt2.move(dx=1, dy= -2)\n",
        "#  이동 후 점의 좌표 \n",
        "print(f'(x={pt2.x}, y={pt2.y})')"
      ],
      "execution_count": 19,
      "outputs": [
        {
          "output_type": "stream",
          "text": [
            "(x=2, y=-1)\n"
          ],
          "name": "stdout"
        }
      ]
    },
    {
      "cell_type": "code",
      "metadata": {
        "colab": {
          "base_uri": "https://localhost:8080/"
        },
        "id": "-5n8L_rV-FXu",
        "outputId": "57da5ed8-c512-44ce-8fea-4269830522ac"
      },
      "source": [
        "dist = pt1.distance_to(pt2)        #pt2~pt1의 거리라는 뜻이다.\n",
        "print(dist) "
      ],
      "execution_count": 20,
      "outputs": [
        {
          "output_type": "stream",
          "text": [
            "6.082762530298219\n"
          ],
          "name": "stdout"
        }
      ]
    },
    {
      "cell_type": "code",
      "metadata": {
        "id": "FWZg-0Mu_FpM"
      },
      "source": [
        "class Rectangle: \n",
        "    \"\"\"2차원 평면에서 직사각형을 표현하는 클래스\"\"\"\n",
        "\n",
        "    def __init__(self, x=0, y=0, width=0, height=0):\n",
        "        \"\"\"직사각형 객체에 속성들을 초기화.\n",
        "        x, y: 직사각형의 꼭지점의 x/y 좌표\n",
        "        width: 직사각형의 가로 길이. 기본값 0\n",
        "        height: 직사각형의 세로 길이.  기본값 0 \"\"\"   \n",
        " \n",
        "        self.x = x                          # 직사각형 꼭지점의 x좌표\n",
        "        self.y = y                          # 직사각형 꼭지점의 y좌표\n",
        "        self.width = width         # 직사각형 가로 길이\n",
        "        self.height = height      # 직사각형 세로 길이 \n",
        "\n",
        "    def area(self):\n",
        "        \"\"\"직사각형의 넓이를 리턴하는 메서드\"\"\"\n",
        "        return self.width * self.height\n",
        "\n",
        "    def perimeter(self):\n",
        "        \"\"\"직사각형의 둘레길이를 리턴하는 메서드\"\"\"\n",
        "        return 2 * (self.width + self.height)\n",
        "\n",
        "    def resize(self, dw=0, dh=0):\n",
        "        \"\"\"직사각형의 가로 길이를 dw만큼, 세로 길이는 dh만큼 변경하는 메서드.\n",
        "        dw와 dh의 기본값은 0.\"\"\"\n",
        "        self.width += dw\n",
        "        self.height += dh\n",
        "\n",
        "    def center(self):\n",
        "        \"\"\"직사각형의 중심 좌표를 리턴하는 메서드\"\"\"\n",
        "        center_x = self.x + (self.width / 2)\n",
        "        center_y = self.y + (self.height/2)\n",
        "        return center_x, center_y\n"
      ],
      "execution_count": 21,
      "outputs": []
    },
    {
      "cell_type": "code",
      "metadata": {
        "colab": {
          "base_uri": "https://localhost:8080/"
        },
        "id": "ZCZdARVFZRFp",
        "outputId": "6e507e49-38de-4666-ef39-a7f3ced4a14a"
      },
      "source": [
        "# (0, 0)에 꼭지점이 있고, 가로길이가 2, 세로길이가 3인 직사각형 생성 \n",
        "rect1 = Rectangle(width = 2, height = 3)\n",
        "print(rect1)\n",
        "print(f'Rectangle(x = {rect1.x}, y = {rect1.y}, w = {rect1.width}, h = {rect1.height})')\n",
        "# f는 formatted string 임. "
      ],
      "execution_count": 27,
      "outputs": [
        {
          "output_type": "stream",
          "text": [
            "<__main__.Rectangle object at 0x7efcbaad6a50>\n",
            "Rectangle(x = 0, y = 0, w = 2, h = 3)\n"
          ],
          "name": "stdout"
        }
      ]
    },
    {
      "cell_type": "code",
      "metadata": {
        "colab": {
          "base_uri": "https://localhost:8080/"
        },
        "id": "nC89AfKFmaVH",
        "outputId": "5b766973-b9db-4c81-c416-808a4ca1ba30"
      },
      "source": [
        "# rect1의 넓이 \n",
        "rect1.area()"
      ],
      "execution_count": 23,
      "outputs": [
        {
          "output_type": "execute_result",
          "data": {
            "text/plain": [
              "6"
            ]
          },
          "metadata": {
            "tags": []
          },
          "execution_count": 23
        }
      ]
    },
    {
      "cell_type": "code",
      "metadata": {
        "colab": {
          "base_uri": "https://localhost:8080/"
        },
        "id": "UqRXULISnHp9",
        "outputId": "9cbd7285-c33c-4144-b0e2-a66ff2a56c8b"
      },
      "source": [
        "# rect1의 둘레 길이\n",
        "rect1.perimeter( )"
      ],
      "execution_count": 24,
      "outputs": [
        {
          "output_type": "execute_result",
          "data": {
            "text/plain": [
              "10"
            ]
          },
          "metadata": {
            "tags": []
          },
          "execution_count": 24
        }
      ]
    },
    {
      "cell_type": "code",
      "metadata": {
        "colab": {
          "base_uri": "https://localhost:8080/"
        },
        "id": "hFXbWqo3nvrR",
        "outputId": "5d2d2d1e-04e1-4723-912e-a396f8e80f1d"
      },
      "source": [
        "# rect1의 중심 좌표 \n",
        "rect1.center()"
      ],
      "execution_count": 25,
      "outputs": [
        {
          "output_type": "execute_result",
          "data": {
            "text/plain": [
              "(1.0, 1.5)"
            ]
          },
          "metadata": {
            "tags": []
          },
          "execution_count": 25
        }
      ]
    },
    {
      "cell_type": "code",
      "metadata": {
        "colab": {
          "base_uri": "https://localhost:8080/"
        },
        "id": "0moVUr7QoTRd",
        "outputId": "51fac187-307c-4ae2-954e-139860518971"
      },
      "source": [
        "# rect1의 가로/세로 길이 변경 \n",
        "rect1.resize(dw =4)\n",
        "print(f'Rectangle(x = {rect1.x}, y = {rect1.y}, w = {rect1.width}, h = {rect1.height}')\n",
        "# 가로 길이 변경 후 넓이\n",
        "rect1.area( )\n"
      ],
      "execution_count": 26,
      "outputs": [
        {
          "output_type": "stream",
          "text": [
            "Rectangle(x = 0, y = 0, w = 6, h = 3\n"
          ],
          "name": "stdout"
        },
        {
          "output_type": "execute_result",
          "data": {
            "text/plain": [
              "18"
            ]
          },
          "metadata": {
            "tags": []
          },
          "execution_count": 26
        }
      ]
    },
    {
      "cell_type": "markdown",
      "metadata": {
        "id": "SYC3CmjfuH9s"
      },
      "source": [
        "# magic method"
      ]
    },
    {
      "cell_type": "code",
      "metadata": {
        "colab": {
          "base_uri": "https://localhost:8080/"
        },
        "id": "JzWW1F6-uJsJ",
        "outputId": "ce721685-603e-4aff-df9e-09c3bb4a5958"
      },
      "source": [
        "numbers = list([1, 2, 3])    # = [1, 2, 3] / 클래스 list의 객체(인스턴스) 생성 \n",
        "print(numbers)"
      ],
      "execution_count": 36,
      "outputs": [
        {
          "output_type": "stream",
          "text": [
            "[1, 2, 3]\n"
          ],
          "name": "stdout"
        }
      ]
    },
    {
      "cell_type": "code",
      "metadata": {
        "colab": {
          "base_uri": "https://localhost:8080/"
        },
        "id": "AMEaVOw1vvR2",
        "outputId": "c922c0aa-702b-46d7-f32a-7f9139f3dce0"
      },
      "source": [
        "dir(numbers)           # numbers 객체의 속성, 메서드들을 나열하는 함수 "
      ],
      "execution_count": 37,
      "outputs": [
        {
          "output_type": "execute_result",
          "data": {
            "text/plain": [
              "['__add__',\n",
              " '__class__',\n",
              " '__contains__',\n",
              " '__delattr__',\n",
              " '__delitem__',\n",
              " '__dir__',\n",
              " '__doc__',\n",
              " '__eq__',\n",
              " '__format__',\n",
              " '__ge__',\n",
              " '__getattribute__',\n",
              " '__getitem__',\n",
              " '__gt__',\n",
              " '__hash__',\n",
              " '__iadd__',\n",
              " '__imul__',\n",
              " '__init__',\n",
              " '__init_subclass__',\n",
              " '__iter__',\n",
              " '__le__',\n",
              " '__len__',\n",
              " '__lt__',\n",
              " '__mul__',\n",
              " '__ne__',\n",
              " '__new__',\n",
              " '__reduce__',\n",
              " '__reduce_ex__',\n",
              " '__repr__',\n",
              " '__reversed__',\n",
              " '__rmul__',\n",
              " '__setattr__',\n",
              " '__setitem__',\n",
              " '__sizeof__',\n",
              " '__str__',\n",
              " '__subclasshook__',\n",
              " 'append',\n",
              " 'clear',\n",
              " 'copy',\n",
              " 'count',\n",
              " 'extend',\n",
              " 'index',\n",
              " 'insert',\n",
              " 'pop',\n",
              " 'remove',\n",
              " 'reverse',\n",
              " 'sort']"
            ]
          },
          "metadata": {
            "tags": []
          },
          "execution_count": 37
        }
      ]
    },
    {
      "cell_type": "code",
      "metadata": {
        "colab": {
          "base_uri": "https://localhost:8080/"
        },
        "id": "Y-lj1Rz5u6Ix",
        "outputId": "437a99f2-243c-4b99-8ce2-ed76a715caab"
      },
      "source": [
        "num_tuple = tuple([1, 2, 3])        # 클래스 tuple의 인스턴스 생성 \n",
        "print(num_tuple)                           # num_tuple 객체의 __str__ 메서드가 리턴하는 문자열을 콘솔에 출력\n",
        "num_tuple                                       # num_tuple 객체의 __repr__ 메서드가 리턴하는 문자열을 콘솔에 출력 "
      ],
      "execution_count": 38,
      "outputs": [
        {
          "output_type": "stream",
          "text": [
            "(1, 2, 3)\n"
          ],
          "name": "stdout"
        }
      ]
    },
    {
      "cell_type": "code",
      "metadata": {
        "colab": {
          "base_uri": "https://localhost:8080/"
        },
        "id": "CkzfQle_wdLd",
        "outputId": "b99bfa2b-c3f1-4f71-db0d-1d65d6e05fd2"
      },
      "source": [
        "dir(num_tuple)"
      ],
      "execution_count": 39,
      "outputs": [
        {
          "output_type": "execute_result",
          "data": {
            "text/plain": [
              "['__add__',\n",
              " '__class__',\n",
              " '__contains__',\n",
              " '__delattr__',\n",
              " '__dir__',\n",
              " '__doc__',\n",
              " '__eq__',\n",
              " '__format__',\n",
              " '__ge__',\n",
              " '__getattribute__',\n",
              " '__getitem__',\n",
              " '__getnewargs__',\n",
              " '__gt__',\n",
              " '__hash__',\n",
              " '__init__',\n",
              " '__init_subclass__',\n",
              " '__iter__',\n",
              " '__le__',\n",
              " '__len__',\n",
              " '__lt__',\n",
              " '__mul__',\n",
              " '__ne__',\n",
              " '__new__',\n",
              " '__reduce__',\n",
              " '__reduce_ex__',\n",
              " '__repr__',\n",
              " '__rmul__',\n",
              " '__setattr__',\n",
              " '__sizeof__',\n",
              " '__str__',\n",
              " '__subclasshook__',\n",
              " 'count',\n",
              " 'index']"
            ]
          },
          "metadata": {
            "tags": []
          },
          "execution_count": 39
        }
      ]
    },
    {
      "cell_type": "code",
      "metadata": {
        "id": "xFHyJNhrw1F_"
      },
      "source": [
        "class MyClass:\n",
        "    # 생성자를 호출하면 자동으로 호출되는 메서드 \n",
        "    def __init__(self):\n",
        "            print('MyClass  객체 생성')\n",
        "    # print 함수가 호출하는 메서드: 파라미터는 없음. 리턴 값은 문자열. (print함수가 자동으로 str을 불러주는 것)\n",
        "    def __str__(self):\n",
        "            return 'MyClass 객체'\n",
        "    \n",
        "    # expression을 자동으로 출력할 때 호출되는 메서드(representation)\n",
        "    # print 함수가 __str__ 함수를 호출하지 못했을 때 자동으로 호출되는 메서드 \n",
        "    def __repr__ (self):\n",
        "        return 'MyClass 인스턴스'"
      ],
      "execution_count": 69,
      "outputs": []
    },
    {
      "cell_type": "code",
      "metadata": {
        "colab": {
          "base_uri": "https://localhost:8080/"
        },
        "id": "CwOozEzjxU1S",
        "outputId": "6fd73b4a-a45b-4fe8-8c9d-d714121cc764"
      },
      "source": [
        "my_cls = MyClass( )     # MyClass 클래스 생성자 호출 -> 인스턴스 생성"
      ],
      "execution_count": 65,
      "outputs": [
        {
          "output_type": "stream",
          "text": [
            "MyClass  객체 생성\n"
          ],
          "name": "stdout"
        }
      ]
    },
    {
      "cell_type": "code",
      "metadata": {
        "colab": {
          "base_uri": "https://localhost:8080/"
        },
        "id": "LUZgMxEoxZJh",
        "outputId": "7e699195-230a-45c6-9952-9db07d7fc9b3"
      },
      "source": [
        "print(my_cls)                 # 문장(statement) / 객체를 프린트를 하려면 객체의 폰트 어떻게 찾니? -> 그래서 프린트 함수가 문자열을 만든 것\n",
        "                                         # 객체가 가지고 있는 것을 콘솔창에 뿌려주는 것. "
      ],
      "execution_count": 66,
      "outputs": [
        {
          "output_type": "stream",
          "text": [
            "MyClass 객체\n"
          ],
          "name": "stdout"
        }
      ]
    },
    {
      "cell_type": "code",
      "metadata": {
        "colab": {
          "base_uri": "https://localhost:8080/"
        },
        "id": "jSCHjEnIxazb",
        "outputId": "9ac2505d-1ba8-4752-bd5b-2b672bccded9"
      },
      "source": [
        "my_cls                            # 표현식(expression)"
      ],
      "execution_count": 70,
      "outputs": [
        {
          "output_type": "execute_result",
          "data": {
            "text/plain": [
              "MyClass 인스턴스"
            ]
          },
          "metadata": {
            "tags": []
          },
          "execution_count": 70
        }
      ]
    },
    {
      "cell_type": "code",
      "metadata": {
        "id": "rQeMya3cyCBn"
      },
      "source": [
        "x = 1          # 문장(statement)"
      ],
      "execution_count": 49,
      "outputs": []
    },
    {
      "cell_type": "code",
      "metadata": {
        "colab": {
          "base_uri": "https://localhost:8080/"
        },
        "id": "7_XYCTtcyZz9",
        "outputId": "1fbb1a43-75c4-4605-d85c-95bcf5e685a1"
      },
      "source": [
        "x                 # 식\n",
        "print(x)      # statement"
      ],
      "execution_count": 52,
      "outputs": [
        {
          "output_type": "stream",
          "text": [
            "1\n"
          ],
          "name": "stdout"
        }
      ]
    },
    {
      "cell_type": "code",
      "metadata": {
        "colab": {
          "base_uri": "https://localhost:8080/"
        },
        "id": "TlZzWZX-yjNE",
        "outputId": "fe809e87-683c-43de-e884-059b36e34646"
      },
      "source": [
        "x + 1           # expression(식), 마지막에 있을 때만 출력된다."
      ],
      "execution_count": 53,
      "outputs": [
        {
          "output_type": "execute_result",
          "data": {
            "text/plain": [
              "2"
            ]
          },
          "metadata": {
            "tags": []
          },
          "execution_count": 53
        }
      ]
    },
    {
      "cell_type": "code",
      "metadata": {
        "colab": {
          "base_uri": "https://localhost:8080/"
        },
        "id": "-Bh-H0O13JT6",
        "outputId": "76fb1f2a-cd52-474e-faca-be2726b33255"
      },
      "source": [
        "id(my_cls)      # 객체가 생성된 주소를 리턴 "
      ],
      "execution_count": 68,
      "outputs": [
        {
          "output_type": "execute_result",
          "data": {
            "text/plain": [
              "139623860248208"
            ]
          },
          "metadata": {
            "tags": []
          },
          "execution_count": 68
        }
      ]
    },
    {
      "cell_type": "code",
      "metadata": {
        "id": "_tK4ahE97vfB"
      },
      "source": [
        "class MyPoint:\n",
        "    def __init__(self, x = 0, y = 0):\n",
        "        self.x = x\n",
        "        self.y = y\n",
        "    \n",
        "    def __repr__(self):\n",
        "        return f'({self.x}, {self.y})'"
      ],
      "execution_count": 77,
      "outputs": []
    },
    {
      "cell_type": "code",
      "metadata": {
        "colab": {
          "base_uri": "https://localhost:8080/"
        },
        "id": "BdqL7nCm8FOA",
        "outputId": "542159da-dd3f-433b-8571-c6548f3d49e1"
      },
      "source": [
        "my_pt = MyPoint( )\n",
        "print(my_pt)        # statement(문장)\n",
        "#> print 함수 my_pt 객체의 __str__ 메서드를 호출하려고 시도\n",
        "#> __str__ 메서드가 없으면 대신 __repr__ 메서드를 호출 \n",
        "my_pt       # expression(식) / str을 시도하지 않고 repr 만 시도한다. "
      ],
      "execution_count": 78,
      "outputs": [
        {
          "output_type": "stream",
          "text": [
            "(0, 0)\n"
          ],
          "name": "stdout"
        },
        {
          "output_type": "execute_result",
          "data": {
            "text/plain": [
              "(0, 0)"
            ]
          },
          "metadata": {
            "tags": []
          },
          "execution_count": 78
        }
      ]
    }
  ]
}