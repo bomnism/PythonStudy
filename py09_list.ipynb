{
  "nbformat": 4,
  "nbformat_minor": 0,
  "metadata": {
    "colab": {
      "name": "py09_list.ipynb",
      "provenance": [],
      "collapsed_sections": [],
      "authorship_tag": "ABX9TyPY8kHBqFlMICC1axMq1Ueh",
      "include_colab_link": true
    },
    "kernelspec": {
      "name": "python3",
      "display_name": "Python 3"
    },
    "language_info": {
      "name": "python"
    }
  },
  "cells": [
    {
      "cell_type": "markdown",
      "metadata": {
        "id": "view-in-github",
        "colab_type": "text"
      },
      "source": [
        "<a href=\"https://colab.research.google.com/github/bomnism/PythonStudy/blob/main/py09_list.ipynb\" target=\"_parent\"><img src=\"https://colab.research.google.com/assets/colab-badge.svg\" alt=\"Open In Colab\"/></a>"
      ]
    },
    {
      "cell_type": "markdown",
      "metadata": {
        "id": "1CHc5-Tj1JUg"
      },
      "source": [
        "# 2차원 리스트와 for 반복문"
      ]
    },
    {
      "cell_type": "code",
      "metadata": {
        "id": "WALcKH2V1Ppx"
      },
      "source": [
        "import random       # 난수 생성 함수를 가지고 있는 모듈 사용"
      ],
      "execution_count": null,
      "outputs": []
    },
    {
      "cell_type": "markdown",
      "metadata": {
        "id": "jhmAfhkU1aes"
      },
      "source": [
        "*  empty list 생성 - numbers\n",
        "*  10 ~ 100  범위의 정수 난수 10개를 리스트에 추가하고 출력 \n",
        "*  리스트의 원소들 중 짝수들로만 이루어진 새로운 리스트를 생성하고 출력 - evens\n",
        "*  리스트의 원소들 중 홀수들로만 이루어진 새로운 리스트를 생성하고 출력 - odds"
      ]
    },
    {
      "cell_type": "code",
      "metadata": {
        "colab": {
          "base_uri": "https://localhost:8080/"
        },
        "id": "a5RwvJ3f2URL",
        "outputId": "bb4f4172-4d3b-449b-8167-119dce134bae"
      },
      "source": [
        "numbers = []\n",
        "print(numbers)"
      ],
      "execution_count": 14,
      "outputs": [
        {
          "output_type": "stream",
          "text": [
            "[]\n"
          ],
          "name": "stdout"
        }
      ]
    },
    {
      "cell_type": "code",
      "metadata": {
        "colab": {
          "base_uri": "https://localhost:8080/"
        },
        "id": "FLHsn-eE2rLS",
        "outputId": "dcf56682-3fb5-4df1-c4b2-8fdd2e75ddcc"
      },
      "source": [
        "numbers=[]\n",
        "for _  in range(10):        #10번 append (10번 반복하겠다 라는 뜻) \n",
        "    numbers.append(random.randrange(10,101))\n",
        "\n",
        "print(numbers)"
      ],
      "execution_count": 21,
      "outputs": [
        {
          "output_type": "stream",
          "text": [
            "[96, 57, 21, 66, 94, 75, 23, 30, 76, 60]\n"
          ],
          "name": "stdout"
        }
      ]
    },
    {
      "cell_type": "markdown",
      "metadata": {
        "id": "rgj-tUUS9Hu2"
      },
      "source": [
        "\n",
        "* `random.randrange(start, stop)` : start <= r < stop 범위의 정수 난수를 생성\n",
        "* `random.randint(start, stop)` : start <= r <= stop 범위의 정수 난수를 생성 \n",
        "* 미만이냐 이하냐의 따라 달라짐 "
      ]
    },
    {
      "cell_type": "code",
      "metadata": {
        "colab": {
          "base_uri": "https://localhost:8080/"
        },
        "id": "82jID6Q03UZM",
        "outputId": "23f48abc-b60b-412b-cf9c-3d394d62391c"
      },
      "source": [
        "# 리스트의 원소들 중 짝수들로만 이루어진 새로운 리스트를 생성하고 출력 - evens\n",
        "# 리스트의 원소들 중 홀수들로만 이루어진 새로운 리스트를 생성하고 출력 - odds\n",
        "evens, odds = [], []\n",
        "\n",
        "for x in numbers:       # 리스트 numbers의 원소들을 반복하면서 \n",
        "    if x % 2 == 0 :         # 리스트의 원소가 짝수이면 \n",
        "        evens.append(x)\n",
        "    else:                         # 그렇지 않으면(홀수이면)\n",
        "        odds.append(x)\n",
        "print(evens)\n",
        "print(odds)"
      ],
      "execution_count": 22,
      "outputs": [
        {
          "output_type": "stream",
          "text": [
            "[96, 66, 94, 30, 76, 60]\n",
            "[57, 21, 75, 23]\n"
          ],
          "name": "stdout"
        }
      ]
    },
    {
      "cell_type": "markdown",
      "metadata": {
        "id": "Ly7J2PxHC7VB"
      },
      "source": [
        "```\n",
        "empty list를 생성 - numbers\n",
        "10 ~ 10 범위의 정수 난수 10개를 리스트에 추가, 출력\n",
        "리스트의 원소가 양수이면 True, 그렇지 않으면 False를 저장하는 리스트를 생성, 출력 - positives\n",
        "```"
      ]
    },
    {
      "cell_type": "code",
      "metadata": {
        "colab": {
          "base_uri": "https://localhost:8080/"
        },
        "id": "Okv9NfJPDMQB",
        "outputId": "4a6f4dc8-8c0a-49d1-d02a-bcc2992ae32b"
      },
      "source": [
        "numbers = []\n",
        "for _ in range(10): \n",
        "    numbers.append(random.randrange(-10, 11))\n",
        "\n",
        "print(numbers)\n",
        "\n",
        "positives = []               # 양수(True), 0 또는 음수(False)를 저장할 리스트 \n",
        "for x in numbers:       # 리스트 numbers의 원소들을 반복하면서 \n",
        "      # if x > 0 :\n",
        "      #     positives.append(True)\n",
        "      # else:\n",
        "      #     positives.append(False)\n",
        "      positives.append( x > 0 )\n",
        "print(positives)"
      ],
      "execution_count": 27,
      "outputs": [
        {
          "output_type": "stream",
          "text": [
            "[2, 6, -6, 6, 7, -4, 3, -9, 5, 1]\n",
            "[True, True, False, True, True, False, True, False, True, True]\n"
          ],
          "name": "stdout"
        }
      ]
    },
    {
      "cell_type": "markdown",
      "metadata": {
        "id": "sE5XkjS3Efzz"
      },
      "source": [
        "```\n",
        "empty list를 생성\n",
        "리스트에 0 또는 1을 랜덤하게 10번 추가, 출력\n",
        "리스트의 원소가 0이면 'Male', 1이면 'Female'을 저장하는 리스트를 생성, 출력.\n",
        "```"
      ]
    },
    {
      "cell_type": "code",
      "metadata": {
        "colab": {
          "base_uri": "https://localhost:8080/"
        },
        "id": "jK7HxHqXEkk0",
        "outputId": "0623e8e1-0983-4474-8c14-9d3caea5a383"
      },
      "source": [
        "gender_codes = []           # 0 또는 1들을 저장할 리스트 \n",
        "for _ in range(10):            # 10번 반복할거야 \n",
        "     gender_codes.append(random.randrange(0, 2))\n",
        "\n",
        "print(gender_codes)\n",
        "\n",
        "genders = []             # 'Male' 또는 'Female'들을 저장할 리스트 \n",
        "for x in gender_codes:\n",
        "          if x == 0: \n",
        "            genders.append('Male')\n",
        "          else:\n",
        "            genders.append('Female')\n",
        "\n",
        "print(genders)"
      ],
      "execution_count": 34,
      "outputs": [
        {
          "output_type": "stream",
          "text": [
            "[0, 0, 0, 0, 1, 0, 0, 0, 0, 1]\n",
            "['Male', 'Male', 'Male', 'Male', 'Female', 'Male', 'Male', 'Male', 'Male', 'Female']\n"
          ],
          "name": "stdout"
        }
      ]
    },
    {
      "cell_type": "markdown",
      "metadata": {
        "id": "KN_8h18hHlkd"
      },
      "source": [
        "# List Comprehension(리스트 내포) "
      ]
    },
    {
      "cell_type": "code",
      "metadata": {
        "colab": {
          "base_uri": "https://localhost:8080/"
        },
        "id": "POpxKb6THojK",
        "outputId": "fa3aa1ce-aa09-4f2d-8220-f6d47c541b21"
      },
      "source": [
        "# l = []\n",
        "# for _ in ...:\n",
        "#        l.append(x)\n",
        "\n",
        "# 1~10까지 정수들을 차례로 저장하는 리스트 \n",
        "l = []\n",
        "for _ in range(1, 11):\n",
        "    l.append(_)\n",
        "print(l)"
      ],
      "execution_count": 38,
      "outputs": [
        {
          "output_type": "stream",
          "text": [
            "[1, 2, 3, 4, 5, 6, 7, 8, 9, 10]\n"
          ],
          "name": "stdout"
        }
      ]
    },
    {
      "cell_type": "code",
      "metadata": {
        "colab": {
          "base_uri": "https://localhost:8080/"
        },
        "id": "jRPS67BwI9x7",
        "outputId": "d67cb1fb-99d8-47de-a203-e0440f1520bb"
      },
      "source": [
        "# list comprehension\n",
        "numbers = [x for x in range(1, 11)]\n",
        "print(numbers)"
      ],
      "execution_count": 40,
      "outputs": [
        {
          "output_type": "stream",
          "text": [
            "[1, 2, 3, 4, 5, 6, 7, 8, 9, 10]\n"
          ],
          "name": "stdout"
        }
      ]
    },
    {
      "cell_type": "code",
      "metadata": {
        "colab": {
          "base_uri": "https://localhost:8080/"
        },
        "id": "c-TfNOdzJnCI",
        "outputId": "cdda65e5-2711-464e-edd4-a90626a3b678"
      },
      "source": [
        "# [1, 4, 9, 16, 25, 36, 49, 64, 81, 100] 리스트를 만들어라\n",
        "squares = []\n",
        "for x in range(1, 11):\n",
        "    squares.append(x ** 2)\n",
        "\n",
        "print(squares)\n"
      ],
      "execution_count": 44,
      "outputs": [
        {
          "output_type": "stream",
          "text": [
            "[1, 4, 9, 16, 25, 36, 49, 64, 81, 100]\n"
          ],
          "name": "stdout"
        }
      ]
    },
    {
      "cell_type": "code",
      "metadata": {
        "colab": {
          "base_uri": "https://localhost:8080/"
        },
        "id": "aJwMEhMmKrMf",
        "outputId": "8a2db3d0-184b-4124-b9f5-cad71b40fc67"
      },
      "source": [
        "squares = [x ** 2 for x in range(1, 11)]        # squares은 x의 제곱을 저장하고 있고, x는 1~10까지 입니다. \n",
        "print(squares)"
      ],
      "execution_count": 45,
      "outputs": [
        {
          "output_type": "stream",
          "text": [
            "[1, 4, 9, 16, 25, 36, 49, 64, 81, 100]\n"
          ],
          "name": "stdout"
        }
      ]
    },
    {
      "cell_type": "code",
      "metadata": {
        "colab": {
          "base_uri": "https://localhost:8080/"
        },
        "id": "jGcbVIFiLeQt",
        "outputId": "c5dc39fb-5db6-45da-fbd5-2fd50364a07b"
      },
      "source": [
        "# 0 이상 10이하의 짝수들을 갖는 리스트 \n",
        "evens = []\n",
        "for x in range(0, 11, 2):\n",
        "      evens.append(x)\n",
        "\n",
        "print(evens)"
      ],
      "execution_count": 50,
      "outputs": [
        {
          "output_type": "stream",
          "text": [
            "[0, 2, 4, 6, 8, 10]\n"
          ],
          "name": "stdout"
        }
      ]
    },
    {
      "cell_type": "code",
      "metadata": {
        "colab": {
          "base_uri": "https://localhost:8080/"
        },
        "id": "370xLQutLtJE",
        "outputId": "456290cf-e69c-4163-f9bf-24c1b20add01"
      },
      "source": [
        "evens = [x for x in range(0, 11, 2)]\n",
        "print(evens)"
      ],
      "execution_count": 53,
      "outputs": [
        {
          "output_type": "stream",
          "text": [
            "[0, 2, 4, 6, 8, 10]\n"
          ],
          "name": "stdout"
        }
      ]
    }
  ]
}