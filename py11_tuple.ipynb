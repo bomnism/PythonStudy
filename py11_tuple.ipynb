{
  "nbformat": 4,
  "nbformat_minor": 0,
  "metadata": {
    "colab": {
      "name": "py11_tuple.ipynb",
      "provenance": [],
      "authorship_tag": "ABX9TyMGEoQOiV0eLVuJphyWMK7T",
      "include_colab_link": true
    },
    "kernelspec": {
      "name": "python3",
      "display_name": "Python 3"
    },
    "language_info": {
      "name": "python"
    }
  },
  "cells": [
    {
      "cell_type": "markdown",
      "metadata": {
        "id": "view-in-github",
        "colab_type": "text"
      },
      "source": [
        "<a href=\"https://colab.research.google.com/github/bomnism/PythonStudy/blob/main/py11_tuple.ipynb\" target=\"_parent\"><img src=\"https://colab.research.google.com/assets/colab-badge.svg\" alt=\"Open In Colab\"/></a>"
      ]
    },
    {
      "cell_type": "markdown",
      "metadata": {
        "id": "WasNZ0oZNVta"
      },
      "source": [
        "# 튜플(tuple)"
      ]
    },
    {
      "cell_type": "markdown",
      "metadata": {
        "id": "QfnyEKxoNecV"
      },
      "source": [
        "*        tuple: 저장된 원소(아이템)들을 변경할 수 없는 리스트\n",
        "*        인덱스 기반의 데이터 타입. 인덱스를 사용해서 원소를 참조함.  - indexing, slicing\n",
        "*        append(), insert(), extend(), remove(), pop()와 같은 기능(메서드)들은 제공되지 않음. "
      ]
    },
    {
      "cell_type": "code",
      "metadata": {
        "colab": {
          "base_uri": "https://localhost:8080/"
        },
        "id": "wuA41E_-NJLf",
        "outputId": "5cf1d780-066b-40e5-deaa-9a1a2d44495e"
      },
      "source": [
        "numbers = (1, 2, 3, 4, 5)       #튜플 만드는 방법\n",
        "print(numbers)\n",
        "print(type(numbers))"
      ],
      "execution_count": 2,
      "outputs": [
        {
          "output_type": "stream",
          "text": [
            "(1, 2, 3, 4, 5)\n",
            "<class 'tuple'>\n"
          ],
          "name": "stdout"
        }
      ]
    },
    {
      "cell_type": "markdown",
      "metadata": {
        "id": "1KcNCN-iO_pb"
      },
      "source": [
        "## indexing"
      ]
    },
    {
      "cell_type": "code",
      "metadata": {
        "colab": {
          "base_uri": "https://localhost:8080/"
        },
        "id": "s-ae0L_hPAuQ",
        "outputId": "e07a2892-0c28-4b46-f4e9-597f1a590399"
      },
      "source": [
        "print(numbers[2])"
      ],
      "execution_count": 4,
      "outputs": [
        {
          "output_type": "stream",
          "text": [
            "3\n"
          ],
          "name": "stdout"
        }
      ]
    },
    {
      "cell_type": "markdown",
      "metadata": {
        "id": "4b2ZwMHTPPpR"
      },
      "source": [
        "*  [   ] 는 리스트를 만들때, 인덱스를 만들 때 각각의 상황에서 사용됨. \n",
        "*  모든 인덱스는 대괄호를 사용한다. "
      ]
    },
    {
      "cell_type": "code",
      "metadata": {
        "colab": {
          "base_uri": "https://localhost:8080/"
        },
        "id": "HEFf4xbXPcvo",
        "outputId": "58b84f3d-4fc3-484e-cdb7-5beb118eb3c3"
      },
      "source": [
        "print(numbers[0])        # 인덱스는 0부터 시작\n",
        "print(numbers[4])        # 마지막 인덱스는 (원소 개수 -1)\n",
        "print(numbers[-1])      # 음수 인덱스 - 튜플의 마지막 우너소부터 거꾸로 매겨지는 인덱스    "
      ],
      "execution_count": 8,
      "outputs": [
        {
          "output_type": "stream",
          "text": [
            "1\n",
            "5\n",
            "5\n"
          ],
          "name": "stdout"
        }
      ]
    },
    {
      "cell_type": "markdown",
      "metadata": {
        "id": "GTAZctCFQRqo"
      },
      "source": [
        "## slicing"
      ]
    },
    {
      "cell_type": "code",
      "metadata": {
        "colab": {
          "base_uri": "https://localhost:8080/"
        },
        "id": "NhlQ5EAePn5C",
        "outputId": "ebfd207f-89b2-4ee5-fa90-fd0afa9a1378"
      },
      "source": [
        "print(numbers)\n",
        "print(numbers[1:3])     # start <= index < stop 범위의 원소들로 이루어진 튜플 \n",
        "print(numbers[:3])\n",
        "print(numbers[3:])\n",
        "print(numbers[-3:])"
      ],
      "execution_count": 15,
      "outputs": [
        {
          "output_type": "stream",
          "text": [
            "(1, 2, 3, 4, 5)\n",
            "(2, 3)\n",
            "(1, 2, 3)\n",
            "(4, 5)\n",
            "(3, 4, 5)\n"
          ],
          "name": "stdout"
        }
      ]
    },
    {
      "cell_type": "code",
      "metadata": {
        "colab": {
          "base_uri": "https://localhost:8080/"
        },
        "id": "VSoANsouSZuE",
        "outputId": "d655d29e-3496-43de-af8b-07cfee288eb2"
      },
      "source": [
        "print(numbers[1])       #> 원소(아이템) - 숫자\n",
        "print(numbers[1:2])    #> 원소(아이템) 1개로 이루어진 튜플 "
      ],
      "execution_count": 18,
      "outputs": [
        {
          "output_type": "stream",
          "text": [
            "2\n",
            "(2,)\n"
          ],
          "name": "stdout"
        }
      ]
    },
    {
      "cell_type": "code",
      "metadata": {
        "id": "qjySZQCXSmYy"
      },
      "source": [
        "#numbers[0] = 100   # 안 돼요, 튜플 객체(numbers)는 아이템을 못 바꿔요(값 못 바꿔)\n",
        "#> TypeError 발생 - 튜플은 기존 원소의 값을 변경할 수 없다  "
      ],
      "execution_count": 20,
      "outputs": []
    },
    {
      "cell_type": "code",
      "metadata": {
        "colab": {
          "base_uri": "https://localhost:8080/"
        },
        "id": "BBabqNwrT5Lp",
        "outputId": "7837d723-b0fa-47d8-d5df-b70f007c6a8a"
      },
      "source": [
        "t = (x for x in range(5))     # 불가능 \n",
        "print(t)"
      ],
      "execution_count": 21,
      "outputs": [
        {
          "output_type": "stream",
          "text": [
            "<generator object <genexpr> at 0x7f8df77ede50>\n"
          ],
          "name": "stdout"
        }
      ]
    },
    {
      "cell_type": "markdown",
      "metadata": {
        "id": "mh7HBMmnUTlz"
      },
      "source": [
        "# decomposition(분해) "
      ]
    },
    {
      "cell_type": "code",
      "metadata": {
        "colab": {
          "base_uri": "https://localhost:8080/"
        },
        "id": "ARCPfWLdUWEN",
        "outputId": "0aa68ea4-c439-4ec8-8918-1f189fade0d3"
      },
      "source": [
        "first, second = (1, 2)\n",
        "print('first =', first)\n",
        "print('second = ', second)"
      ],
      "execution_count": 23,
      "outputs": [
        {
          "output_type": "stream",
          "text": [
            "first = 1\n",
            "second =  2\n"
          ],
          "name": "stdout"
        }
      ]
    },
    {
      "cell_type": "markdown",
      "metadata": {
        "id": "MJq9dOCQoQoM"
      },
      "source": [
        "# 튜플과 반복문"
      ]
    },
    {
      "cell_type": "code",
      "metadata": {
        "colab": {
          "base_uri": "https://localhost:8080/"
        },
        "id": "e0UdVQgKoSYu",
        "outputId": "b3bf6f15-ac0a-44b1-a5d2-3e031c3f9a04"
      },
      "source": [
        "numbers = {1, 2, 10, 20, 100, 200}\n",
        "for x in numbers:\n",
        "    print(x)"
      ],
      "execution_count": 25,
      "outputs": [
        {
          "output_type": "stream",
          "text": [
            "1\n",
            "2\n",
            "100\n",
            "200\n",
            "10\n",
            "20\n"
          ],
          "name": "stdout"
        }
      ]
    },
    {
      "cell_type": "code",
      "metadata": {
        "colab": {
          "base_uri": "https://localhost:8080/"
        },
        "id": "Kc5WsERmo2jU",
        "outputId": "e2109a49-4c40-4bdf-adca-8eb8fb3c97dc"
      },
      "source": [
        "numbers = ((1, 2), \n",
        "                       (3, 4), \n",
        "                       (5, 6))\n",
        "for row in numbers:\n",
        "      for x in row:\n",
        "            print(x, end='\\t')\n",
        "      print()"
      ],
      "execution_count": 29,
      "outputs": [
        {
          "output_type": "stream",
          "text": [
            "1\t2\t\n",
            "3\t4\t\n",
            "5\t6\t\n"
          ],
          "name": "stdout"
        }
      ]
    },
    {
      "cell_type": "code",
      "metadata": {
        "colab": {
          "base_uri": "https://localhost:8080/"
        },
        "id": "pWrS3x-Kp-_N",
        "outputId": "ec44c2e7-11dd-40a5-cb49-7f030ac63c49"
      },
      "source": [
        "# decomposition을 사용한 for 반복문 \n",
        "for x, y in numbers:\n",
        "    print(x, y)"
      ],
      "execution_count": 31,
      "outputs": [
        {
          "output_type": "stream",
          "text": [
            "1 2\n",
            "3 4\n",
            "5 6\n"
          ],
          "name": "stdout"
        }
      ]
    },
    {
      "cell_type": "code",
      "metadata": {
        "id": "sUdgUM21q136"
      },
      "source": [
        "for i, v in enumerate(numbers):\n",
        "    pass\n",
        "\n",
        "for x, y in zip(numbers, numbers):\n",
        "    pass"
      ],
      "execution_count": 33,
      "outputs": []
    }
  ]
}