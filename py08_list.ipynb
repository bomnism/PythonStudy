{
  "nbformat": 4,
  "nbformat_minor": 0,
  "metadata": {
    "colab": {
      "name": "py08_list.ipynb",
      "provenance": [],
      "collapsed_sections": [],
      "authorship_tag": "ABX9TyOEA7SaZE7I/zRiC0PSsyK6",
      "include_colab_link": true
    },
    "kernelspec": {
      "name": "python3",
      "display_name": "Python 3"
    },
    "language_info": {
      "name": "python"
    }
  },
  "cells": [
    {
      "cell_type": "markdown",
      "metadata": {
        "id": "view-in-github",
        "colab_type": "text"
      },
      "source": [
        "<a href=\"https://colab.research.google.com/github/bomnism/PythonStudy/blob/main/py08_list.ipynb\" target=\"_parent\"><img src=\"https://colab.research.google.com/assets/colab-badge.svg\" alt=\"Open In Colab\"/></a>"
      ]
    },
    {
      "cell_type": "markdown",
      "metadata": {
        "id": "gDKHcmW1mDT4"
      },
      "source": [
        "# List(리스트)"
      ]
    },
    {
      "cell_type": "markdown",
      "metadata": {
        "id": "8Nz3jgYamIwW"
      },
      "source": [
        "*     list: 여러개의 값들을 하나의 변수에 저장하기 위한 데이터 타입. \n",
        "*     element(원소, 요소): 리스트에 저장된 각각의 값.\n",
        "*     index(인덱스): 리스트에 값이 저장된 위치(번호). \n",
        "       * 리스트의 인덱스는 0부터 시작!! (r, oracle에서는 시작하는 숫자가 1이다)\n",
        "       * 리스트의 마지막 원소의 인덱스는 (원소개수 -1)\n",
        "*    리스트는 원소들을 변경(추가/삭제) 할 수 있음. \n",
        "       * tuple과 다른점!! "
      ]
    },
    {
      "cell_type": "code",
      "metadata": {
        "colab": {
          "base_uri": "https://localhost:8080/"
        },
        "id": "1lzSpl5sl7yI",
        "outputId": "9a7a3b6d-10dd-483d-8bfa-6367d1139f52"
      },
      "source": [
        "# 숫자들을 저장하는 list\n",
        "numbers = [10, 20, 100, 90, 80]\n",
        "print(numbers)\n",
        "print(type(numbers))"
      ],
      "execution_count": 43,
      "outputs": [
        {
          "output_type": "stream",
          "text": [
            "[10, 20, 100, 90, 80]\n",
            "<class 'list'>\n"
          ],
          "name": "stdout"
        }
      ]
    },
    {
      "cell_type": "markdown",
      "metadata": {
        "id": "xCYhSMklqAxI"
      },
      "source": [
        "## indexing"
      ]
    },
    {
      "cell_type": "markdown",
      "metadata": {
        "id": "hbNAPfQJqC2K"
      },
      "source": [
        "인덱스를 사용해서 리스트의 원소를 사용하는 방법"
      ]
    },
    {
      "cell_type": "code",
      "metadata": {
        "colab": {
          "base_uri": "https://localhost:8080/"
        },
        "id": "ap1TmImhqGyj",
        "outputId": "1bb50f8c-0cff-4787-9ebe-a7b3a3a2b2cb"
      },
      "source": [
        "print(numbers[0])        # 리스트의 첫번째 원소 \n",
        "print(numbers[4])        # 리스트의 인덱스 4번 원소 \n",
        "print(numbers[-1])      # 리스트의 마지막 원소\n",
        "# print( numbers[5])   #> IndexError 발생 - 인덱스의 범위를 벗어난 인덱스를 사용했기 때문. \n"
      ],
      "execution_count": 44,
      "outputs": [
        {
          "output_type": "stream",
          "text": [
            "10\n",
            "80\n",
            "80\n"
          ],
          "name": "stdout"
        }
      ]
    },
    {
      "cell_type": "markdown",
      "metadata": {
        "id": "4iJgU11RxR1z"
      },
      "source": [
        "\n",
        "\n",
        "```\n",
        "list_name[start:end]\n",
        "    * start <= index < end 범위의 인덱스 위치의 원소들을 선택 \n",
        "    * start가 생략되면 리스트의 첫번째 원소부터 선택 \n",
        "    * end가 생략되면 리스트의 마지막 원소까지 선택 \n",
        "    * slicing의 결과는 새로운 리스트 \n",
        "```\n",
        "\n"
      ]
    },
    {
      "cell_type": "code",
      "metadata": {
        "colab": {
          "base_uri": "https://localhost:8080/"
        },
        "id": "cTgUxa6FxQJB",
        "outputId": "3ce46bed-4bda-4fc9-c587-089fda1c0df4"
      },
      "source": [
        "numbers[1:4]    # 1 <= index < 4 인덱스 범위의 원소들로 이루어진 리스트 "
      ],
      "execution_count": 45,
      "outputs": [
        {
          "output_type": "execute_result",
          "data": {
            "text/plain": [
              "[20, 100, 90]"
            ]
          },
          "metadata": {
            "tags": []
          },
          "execution_count": 45
        }
      ]
    },
    {
      "cell_type": "code",
      "metadata": {
        "colab": {
          "base_uri": "https://localhost:8080/"
        },
        "id": "xkENeViwyzCt",
        "outputId": "d6a0256d-ea27-4c1e-9748-ed10b4eaeda5"
      },
      "source": [
        "numbers[:3]      # 0 <= index < 3 인덱스 범위의 원소들로 이루어진 리스트 "
      ],
      "execution_count": 46,
      "outputs": [
        {
          "output_type": "execute_result",
          "data": {
            "text/plain": [
              "[10, 20, 100]"
            ]
          },
          "metadata": {
            "tags": []
          },
          "execution_count": 46
        }
      ]
    },
    {
      "cell_type": "code",
      "metadata": {
        "colab": {
          "base_uri": "https://localhost:8080/"
        },
        "id": "Nglps7AEzGKg",
        "outputId": "14f09653-ff65-4689-daba-bb970cc9357d"
      },
      "source": [
        "numbers[3:]      # 3 <= index < 마지막 인덱스 범위의 원소들로 이루어진 리스트 "
      ],
      "execution_count": 47,
      "outputs": [
        {
          "output_type": "execute_result",
          "data": {
            "text/plain": [
              "[90, 80]"
            ]
          },
          "metadata": {
            "tags": []
          },
          "execution_count": 47
        }
      ]
    },
    {
      "cell_type": "code",
      "metadata": {
        "colab": {
          "base_uri": "https://localhost:8080/"
        },
        "id": "GL6fkEwZzdwh",
        "outputId": "48f54f53-f0f2-4553-82d8-79d7abe2528d"
      },
      "source": [
        "numbers[:]"
      ],
      "execution_count": 48,
      "outputs": [
        {
          "output_type": "execute_result",
          "data": {
            "text/plain": [
              "[10, 20, 100, 90, 80]"
            ]
          },
          "metadata": {
            "tags": []
          },
          "execution_count": 48
        }
      ]
    },
    {
      "cell_type": "code",
      "metadata": {
        "colab": {
          "base_uri": "https://localhost:8080/"
        },
        "id": "FOqtT0mIzs_H",
        "outputId": "ac77aae0-330b-4a33-c20b-65968510a878"
      },
      "source": [
        "# 끝에서 3개 선택 \n",
        "numbers[-3:]"
      ],
      "execution_count": 49,
      "outputs": [
        {
          "output_type": "execute_result",
          "data": {
            "text/plain": [
              "[100, 90, 80]"
            ]
          },
          "metadata": {
            "tags": []
          },
          "execution_count": 49
        }
      ]
    },
    {
      "cell_type": "code",
      "metadata": {
        "colab": {
          "base_uri": "https://localhost:8080/"
        },
        "id": "W7o6eSnB0f5e",
        "outputId": "cca77cca-309d-481b-c108-9fa3b7a5b1d0"
      },
      "source": [
        "print(numbers[1])       # 인덱스 1번 위치의 \"원소\" -> 숫자 1개 \n",
        "print(numbers[1:2])   # 1 <= index < 2 범위의 원소들로 이루어진 \"리스트\" -> 숫자 1개를 갖고 있는 리스트 "
      ],
      "execution_count": 50,
      "outputs": [
        {
          "output_type": "stream",
          "text": [
            "20\n",
            "[20]\n"
          ],
          "name": "stdout"
        }
      ]
    },
    {
      "cell_type": "markdown",
      "metadata": {
        "id": "_7OPegX41keG"
      },
      "source": [
        "## 문자열 - 문자들의 리스트 "
      ]
    },
    {
      "cell_type": "code",
      "metadata": {
        "colab": {
          "base_uri": "https://localhost:8080/"
        },
        "id": "WOwh2Ie11nDW",
        "outputId": "e76e0720-a11a-4014-ec7e-d20842598750"
      },
      "source": [
        "# 문자열 -> 인덱스, 인덱싱, 슬라이싱 \n",
        "message = 'Hello, Python!'      # 14개의 문자를 가지고 있는 문자열 \n",
        "print(message[0])       # 인덱싱\n",
        "print(message[-1])\n",
        "print(message[:5])"
      ],
      "execution_count": 51,
      "outputs": [
        {
          "output_type": "stream",
          "text": [
            "H\n",
            "!\n",
            "Hello\n"
          ],
          "name": "stdout"
        }
      ]
    },
    {
      "cell_type": "markdown",
      "metadata": {
        "id": "XfwCl1lb2-xq"
      },
      "source": [
        "## list의 산술 연산 "
      ]
    },
    {
      "cell_type": "markdown",
      "metadata": {
        "id": "mQdZXjRw3ECS"
      },
      "source": [
        "문자열의 산술 연산: `+, *`"
      ]
    },
    {
      "cell_type": "code",
      "metadata": {
        "colab": {
          "base_uri": "https://localhost:8080/",
          "height": 35
        },
        "id": "OslKrqBj3C-T",
        "outputId": "d86f2330-6935-45a0-d84f-977e722ac7fe"
      },
      "source": [
        "'Hello' + 'Python'"
      ],
      "execution_count": 52,
      "outputs": [
        {
          "output_type": "execute_result",
          "data": {
            "application/vnd.google.colaboratory.intrinsic+json": {
              "type": "string"
            },
            "text/plain": [
              "'HelloPython'"
            ]
          },
          "metadata": {
            "tags": []
          },
          "execution_count": 52
        }
      ]
    },
    {
      "cell_type": "code",
      "metadata": {
        "colab": {
          "base_uri": "https://localhost:8080/",
          "height": 35
        },
        "id": "nrG2gDCM3q3q",
        "outputId": "e8f95e94-df94-42cb-ff96-0187f4c6b15d"
      },
      "source": [
        "'Hello' * 3         #  * : replicate "
      ],
      "execution_count": 53,
      "outputs": [
        {
          "output_type": "execute_result",
          "data": {
            "application/vnd.google.colaboratory.intrinsic+json": {
              "type": "string"
            },
            "text/plain": [
              "'HelloHelloHello'"
            ]
          },
          "metadata": {
            "tags": []
          },
          "execution_count": 53
        }
      ]
    },
    {
      "cell_type": "markdown",
      "metadata": {
        "id": "sOZXiMkn3036"
      },
      "source": [
        "list의 산술 연산: `+, *`"
      ]
    },
    {
      "cell_type": "code",
      "metadata": {
        "colab": {
          "base_uri": "https://localhost:8080/"
        },
        "id": "Y8x2yza83yRm",
        "outputId": "fc8af050-2fd5-4284-e80a-019e62a3cae5"
      },
      "source": [
        "[1, 2, 3] + [10, 20, 30]        #  +: concatenate(이어 붙이기)"
      ],
      "execution_count": 54,
      "outputs": [
        {
          "output_type": "execute_result",
          "data": {
            "text/plain": [
              "[1, 2, 3, 10, 20, 30]"
            ]
          },
          "metadata": {
            "tags": []
          },
          "execution_count": 54
        }
      ]
    },
    {
      "cell_type": "code",
      "metadata": {
        "colab": {
          "base_uri": "https://localhost:8080/"
        },
        "id": "_7euBI_24JX7",
        "outputId": "bab76d0e-70b0-4510-9824-b93167db66ae"
      },
      "source": [
        "[1, 2, 3] * 3           #  *: replicate(복제하기)"
      ],
      "execution_count": 55,
      "outputs": [
        {
          "output_type": "execute_result",
          "data": {
            "text/plain": [
              "[1, 2, 3, 1, 2, 3, 1, 2, 3]"
            ]
          },
          "metadata": {
            "tags": []
          },
          "execution_count": 55
        }
      ]
    },
    {
      "cell_type": "markdown",
      "metadata": {
        "id": "o7oHP6al5TBJ"
      },
      "source": [
        "## list의 메서드(함수) - 기능"
      ]
    },
    {
      "cell_type": "markdown",
      "metadata": {
        "id": "AfHFe6Az5XlY"
      },
      "source": [
        "## element 추가 "
      ]
    },
    {
      "cell_type": "code",
      "metadata": {
        "colab": {
          "base_uri": "https://localhost:8080/"
        },
        "id": "oJZiEKjw5j-v",
        "outputId": "7f941284-af23-4e18-d7d9-f84aefe166d9"
      },
      "source": [
        "# list.append(값) : 리스트의 가장 마지막에 새로운 원소를 추가 \n",
        "print(numbers)\n",
        "numbers.append(0)   # 새로운 원소 추가 \n",
        "print(numbers)      #원소추가 후 "
      ],
      "execution_count": 57,
      "outputs": [
        {
          "output_type": "stream",
          "text": [
            "[10, 20, 100, 90, 80, 0]\n",
            "[10, 20, 100, 90, 80, 0, 0]\n"
          ],
          "name": "stdout"
        }
      ]
    },
    {
      "cell_type": "code",
      "metadata": {
        "colab": {
          "base_uri": "https://localhost:8080/"
        },
        "id": "gBqSr0-R6tal",
        "outputId": "cf41b0fd-3667-4397-ec09-8501c5fe63f5"
      },
      "source": [
        "numbers.remove(0)\n",
        "print(numbers)"
      ],
      "execution_count": 58,
      "outputs": [
        {
          "output_type": "stream",
          "text": [
            "[10, 20, 100, 90, 80, 0]\n"
          ],
          "name": "stdout"
        }
      ]
    },
    {
      "cell_type": "code",
      "metadata": {
        "colab": {
          "base_uri": "https://localhost:8080/"
        },
        "id": "iN2ITrqX-mgI",
        "outputId": "da895540-e927-4747-a73d-a5365700da52"
      },
      "source": [
        "# list. insert(index, object): list의 index 위치에 object(값)을 추가(삽입)\n",
        "print(numbers)   # insert 전\n",
        "numbers.insert(1, 123)      # index 1 위치에 123을 추가 \n",
        "print(numbers)   # insert 후"
      ],
      "execution_count": 59,
      "outputs": [
        {
          "output_type": "stream",
          "text": [
            "[10, 20, 100, 90, 80, 0]\n",
            "[10, 123, 20, 100, 90, 80, 0]\n"
          ],
          "name": "stdout"
        }
      ]
    },
    {
      "cell_type": "code",
      "metadata": {
        "colab": {
          "base_uri": "https://localhost:8080/"
        },
        "id": "hospBoi-AB0H",
        "outputId": "a7a320ba-8e85-4ba3-93a5-bb97e57dbda9"
      },
      "source": [
        "# list.extend(iterable): 리스트 이어붙이기(concatenate) + 연산과 동일 \n",
        "print(numbers)          # extend 전\n",
        "numbers.extend([1, 2, 3])           #numbers + [1, 2, 3]   / 하나씩 append 하는 + 라고 생각하자 \n",
        "print(numbers)"
      ],
      "execution_count": 67,
      "outputs": [
        {
          "output_type": "stream",
          "text": [
            "[10, 123, 20, 100, 90, 80, 0, 1, 2, 3, 1, 2, 3]\n",
            "[10, 123, 20, 100, 90, 80, 0, 1, 2, 3, 1, 2, 3, 1, 2, 3]\n"
          ],
          "name": "stdout"
        }
      ]
    },
    {
      "cell_type": "code",
      "metadata": {
        "colab": {
          "base_uri": "https://localhost:8080/"
        },
        "id": "fMybLUqK_LrK",
        "outputId": "d8bb53f2-da5f-4985-e2cc-54d082a348a6"
      },
      "source": [
        "list1 = [1, 2, 3]\n",
        "list1.append([4, 5, 6])\n",
        "print(list1)"
      ],
      "execution_count": 73,
      "outputs": [
        {
          "output_type": "stream",
          "text": [
            "[1, 2, 3, [4, 5, 6]]\n"
          ],
          "name": "stdout"
        }
      ]
    },
    {
      "cell_type": "code",
      "metadata": {
        "colab": {
          "base_uri": "https://localhost:8080/"
        },
        "id": "3bkgTggJA5Hq",
        "outputId": "8865c5e4-9452-4bec-9b81-46b982c8f865"
      },
      "source": [
        "list2 = [1, 2, 3]\n",
        "list2.extend([4, 5, 6])\n",
        "print(list2)"
      ],
      "execution_count": 70,
      "outputs": [
        {
          "output_type": "stream",
          "text": [
            "[1, 2, 3, 4, 5, 6]\n"
          ],
          "name": "stdout"
        }
      ]
    },
    {
      "cell_type": "markdown",
      "metadata": {
        "id": "zRjjcwkEB6Pd"
      },
      "source": [
        "## element 삭제 "
      ]
    },
    {
      "cell_type": "code",
      "metadata": {
        "colab": {
          "base_uri": "https://localhost:8080/"
        },
        "id": "ixhVDGG0B7-T",
        "outputId": "02490acb-fd91-4d6c-8718-dd6559e88160"
      },
      "source": [
        "# list.remove(값): 리스트에서 처음 등장하는 값을 삭제 \n",
        "numbers = [1, 2, 3, 1, 2, 10, 20]\n",
        "print(numbers)   # 삭제 전\n",
        "numbers.remove(1)   # 값 1을 삭제 \n",
        "print(numbers)   # 삭제 후 "
      ],
      "execution_count": 74,
      "outputs": [
        {
          "output_type": "stream",
          "text": [
            "[1, 2, 3, 1, 2, 10, 20]\n",
            "[2, 3, 1, 2, 10, 20]\n"
          ],
          "name": "stdout"
        }
      ]
    },
    {
      "cell_type": "code",
      "metadata": {
        "colab": {
          "base_uri": "https://localhost:8080/"
        },
        "id": "v9-8ELyhCSsD",
        "outputId": "58c67576-f31b-4957-9e7b-ec93edb67a0b"
      },
      "source": [
        "# list. pop(index): 인덱스 위치의 원소를 삭제. index를 생략하면 가장 마지막 원소를 삭제. \n",
        "numbers = [1, 2, 3, 1, 2, 10, 20]\n",
        "print(numbers) \n",
        "numbers.pop(1)      # index 1 위치의 값을 삭제 \n",
        "print(numbers)\n",
        "numbers.pop( )        # 가장 마지막 원소 삭제\n",
        "print(numbers)"
      ],
      "execution_count": 80,
      "outputs": [
        {
          "output_type": "stream",
          "text": [
            "[1, 2, 3, 1, 2, 10, 20]\n",
            "[1, 3, 1, 2, 10, 20]\n",
            "[1, 3, 1, 2, 10]\n"
          ],
          "name": "stdout"
        }
      ]
    },
    {
      "cell_type": "code",
      "metadata": {
        "colab": {
          "base_uri": "https://localhost:8080/"
        },
        "id": "r0n-y7_3Dttu",
        "outputId": "5495fbfe-960b-40a6-fc39-439dbada3e4e"
      },
      "source": [
        "# list. clear() : 리스트의 모든 원소 삭제 \n",
        "numbers = [1, 2, 3, 1, 2, 10, 20]\n",
        "print(numbers)\n",
        "numbers.clear()\n",
        "print(numbers)"
      ],
      "execution_count": 81,
      "outputs": [
        {
          "output_type": "stream",
          "text": [
            "[1, 2, 3, 1, 2, 10, 20]\n",
            "[]\n"
          ],
          "name": "stdout"
        }
      ]
    },
    {
      "cell_type": "markdown",
      "metadata": {
        "id": "JYpy4VrZD519"
      },
      "source": [
        "###리스트의 값 수정"
      ]
    },
    {
      "cell_type": "code",
      "metadata": {
        "colab": {
          "base_uri": "https://localhost:8080/"
        },
        "id": "M8XuamuID5ko",
        "outputId": "6cef7a3e-ccde-47a6-a89e-a4a46c93b669"
      },
      "source": [
        "# list[index] = value\n",
        "numbers = [1, 2, 3, 4, 5]\n",
        "print(numbers)\n",
        "numbers[0] = 100\n",
        "print(numbers)"
      ],
      "execution_count": 86,
      "outputs": [
        {
          "output_type": "stream",
          "text": [
            "[1, 2, 3, 4, 5]\n",
            "[100, 2, 3, 4, 5]\n"
          ],
          "name": "stdout"
        }
      ]
    },
    {
      "cell_type": "markdown",
      "metadata": {
        "id": "3e9zpwCoEkRZ"
      },
      "source": [
        "# list와 for 반복문 "
      ]
    },
    {
      "cell_type": "code",
      "metadata": {
        "colab": {
          "base_uri": "https://localhost:8080/"
        },
        "id": "sUg5Vrm1EmuU",
        "outputId": "6aebdf19-7bcf-4941-cac8-91fdc0011ab3"
      },
      "source": [
        "#   for  x  in iterable: \n",
        "numbers = [1, 10, 100, 1000]\n",
        "for x in numbers:\n",
        "    print(x)"
      ],
      "execution_count": 87,
      "outputs": [
        {
          "output_type": "stream",
          "text": [
            "1\n",
            "10\n",
            "100\n",
            "1000\n"
          ],
          "name": "stdout"
        }
      ]
    },
    {
      "cell_type": "code",
      "metadata": {
        "colab": {
          "base_uri": "https://localhost:8080/"
        },
        "id": "pIymvaySGIZY",
        "outputId": "835b1e24-3fb9-4bb3-e203-41436e4cff31"
      },
      "source": [
        "# 리스트의 인덱스와 값을 모두 반복(iteration)\n",
        "for index, value in enumerate(numbers):\n",
        "        print(index, ':', value)"
      ],
      "execution_count": 89,
      "outputs": [
        {
          "output_type": "stream",
          "text": [
            "0 : 1\n",
            "1 : 10\n",
            "2 : 100\n",
            "3 : 1000\n"
          ],
          "name": "stdout"
        }
      ]
    },
    {
      "cell_type": "code",
      "metadata": {
        "colab": {
          "base_uri": "https://localhost:8080/"
        },
        "id": "-PSq9GxkG5Jr",
        "outputId": "3193f03f-aaf4-4513-9b66-d68a12b97495"
      },
      "source": [
        "# 리스트의 인덱스와 값을 동시에 반복(iteration)\n",
        "for index, value in enumerate(numbers):\n",
        "    print(index, ':', value)"
      ],
      "execution_count": 90,
      "outputs": [
        {
          "output_type": "stream",
          "text": [
            "0 : 1\n",
            "1 : 10\n",
            "2 : 100\n",
            "3 : 1000\n"
          ],
          "name": "stdout"
        }
      ]
    }
  ]
}