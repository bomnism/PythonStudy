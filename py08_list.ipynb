{
  "nbformat": 4,
  "nbformat_minor": 0,
  "metadata": {
    "colab": {
      "name": "py08_list.ipynb",
      "provenance": [],
      "collapsed_sections": [],
      "authorship_tag": "ABX9TyMXuUPpoLNEOPsIzzggXDes",
      "include_colab_link": true
    },
    "kernelspec": {
      "name": "python3",
      "display_name": "Python 3"
    },
    "language_info": {
      "name": "python"
    }
  },
  "cells": [
    {
      "cell_type": "markdown",
      "metadata": {
        "id": "view-in-github",
        "colab_type": "text"
      },
      "source": [
        "<a href=\"https://colab.research.google.com/github/bomnism/PythonStudy/blob/main/py08_list.ipynb\" target=\"_parent\"><img src=\"https://colab.research.google.com/assets/colab-badge.svg\" alt=\"Open In Colab\"/></a>"
      ]
    },
    {
      "cell_type": "markdown",
      "metadata": {
        "id": "gDKHcmW1mDT4"
      },
      "source": [
        "# List(리스트)"
      ]
    },
    {
      "cell_type": "markdown",
      "metadata": {
        "id": "8Nz3jgYamIwW"
      },
      "source": [
        "*     list: 여러개의 값들을 하나의 변수에 저장하기 위한 데이터 타입. \n",
        "*     element(원소, 요소): 리스트에 저장된 각각의 값.\n",
        "*     index(인덱스): 리스트에 값이 저장된 위치(번호). \n",
        "       * 리스트의 인덱스는 0부터 시작!! (r, oracle에서는 시작하는 숫자가 1이다)\n",
        "       * 리스트의 마지막 원소의 인덱스는 (원소개수 -1)\n",
        "*    리스트는 원소들을 변경(추가/삭제) 할 수 있음. \n",
        "       * tuple과 다른점!! "
      ]
    },
    {
      "cell_type": "code",
      "metadata": {
        "colab": {
          "base_uri": "https://localhost:8080/"
        },
        "id": "1lzSpl5sl7yI",
        "outputId": "88e5f1a4-784b-4b6a-c8e1-b81d38904411"
      },
      "source": [
        "# 숫자들을 저장하는 list\n",
        "numbers = [10, 20, 100, 90, 80]\n",
        "print(numbers)\n",
        "print(type(numbers))"
      ],
      "execution_count": 9,
      "outputs": [
        {
          "output_type": "stream",
          "text": [
            "[10, 20, 100, 90, 80]\n",
            "<class 'list'>\n"
          ],
          "name": "stdout"
        }
      ]
    },
    {
      "cell_type": "markdown",
      "metadata": {
        "id": "xCYhSMklqAxI"
      },
      "source": [
        "## indexing"
      ]
    },
    {
      "cell_type": "markdown",
      "metadata": {
        "id": "hbNAPfQJqC2K"
      },
      "source": [
        "인덱스를 사용해서 리스트의 원소를 사용하는 방법"
      ]
    },
    {
      "cell_type": "code",
      "metadata": {
        "colab": {
          "base_uri": "https://localhost:8080/"
        },
        "id": "ap1TmImhqGyj",
        "outputId": "a885a113-0f35-473f-bcaf-caf4a871cb5d"
      },
      "source": [
        "print(numbers[0])        # 리스트의 첫번째 원소 \n",
        "print(numbers[4])        # 리스트의 인덱스 4번 원소 \n",
        "print(numbers[-1])      # 리스트의 마지막 원소\n",
        "# print( numbers[5])   #> IndexError 발생 - 인덱스의 범위를 벗어난 인덱스를 사용했기 때문. \n"
      ],
      "execution_count": 10,
      "outputs": [
        {
          "output_type": "stream",
          "text": [
            "10\n",
            "80\n",
            "80\n"
          ],
          "name": "stdout"
        }
      ]
    },
    {
      "cell_type": "markdown",
      "metadata": {
        "id": "4iJgU11RxR1z"
      },
      "source": [
        "\n",
        "\n",
        "```\n",
        "list_name[start:end]\n",
        "    * start <= index < end 범위의 인덱스 위치의 원소들을 선택 \n",
        "    * start가 생략되면 리스트의 첫번째 원소부터 선택 \n",
        "    * end가 생략되면 리스트의 마지막 원소까지 선택 \n",
        "    * slicing의 결과는 새로운 리스트 \n",
        "```\n",
        "\n"
      ]
    },
    {
      "cell_type": "code",
      "metadata": {
        "colab": {
          "base_uri": "https://localhost:8080/"
        },
        "id": "cTgUxa6FxQJB",
        "outputId": "691d5a12-2f7f-45a4-e0d7-6e4db0c19412"
      },
      "source": [
        "numbers[1:4]    # 1 <= index < 4 인덱스 범위의 원소들로 이루어진 리스트 "
      ],
      "execution_count": 11,
      "outputs": [
        {
          "output_type": "execute_result",
          "data": {
            "text/plain": [
              "[20, 100, 90]"
            ]
          },
          "metadata": {
            "tags": []
          },
          "execution_count": 11
        }
      ]
    },
    {
      "cell_type": "code",
      "metadata": {
        "colab": {
          "base_uri": "https://localhost:8080/"
        },
        "id": "xkENeViwyzCt",
        "outputId": "fc1410f7-fb9c-453d-bbb6-c0aac26d69ee"
      },
      "source": [
        "numbers[:3]      # 0 <= index < 3 인덱스 범위의 원소들로 이루어진 리스트 "
      ],
      "execution_count": 12,
      "outputs": [
        {
          "output_type": "execute_result",
          "data": {
            "text/plain": [
              "[10, 20, 100]"
            ]
          },
          "metadata": {
            "tags": []
          },
          "execution_count": 12
        }
      ]
    },
    {
      "cell_type": "code",
      "metadata": {
        "colab": {
          "base_uri": "https://localhost:8080/"
        },
        "id": "Nglps7AEzGKg",
        "outputId": "714204ba-cb36-4737-ae54-fcfdfeae7012"
      },
      "source": [
        "numbers[3:]      # 3 <= index < 마지막 인덱스 범위의 원소들로 이루어진 리스트 "
      ],
      "execution_count": 13,
      "outputs": [
        {
          "output_type": "execute_result",
          "data": {
            "text/plain": [
              "[90, 80]"
            ]
          },
          "metadata": {
            "tags": []
          },
          "execution_count": 13
        }
      ]
    },
    {
      "cell_type": "code",
      "metadata": {
        "colab": {
          "base_uri": "https://localhost:8080/"
        },
        "id": "GL6fkEwZzdwh",
        "outputId": "09af7187-aadc-43eb-ffc7-1797037fed67"
      },
      "source": [
        "numbers[:]"
      ],
      "execution_count": 14,
      "outputs": [
        {
          "output_type": "execute_result",
          "data": {
            "text/plain": [
              "[10, 20, 100, 90, 80]"
            ]
          },
          "metadata": {
            "tags": []
          },
          "execution_count": 14
        }
      ]
    },
    {
      "cell_type": "code",
      "metadata": {
        "colab": {
          "base_uri": "https://localhost:8080/"
        },
        "id": "FOqtT0mIzs_H",
        "outputId": "5b8a6d35-d96c-4bce-f6cb-d86cc7bb49a6"
      },
      "source": [
        "# 끝에서 3개 선택 \n",
        "numbers[-3:]"
      ],
      "execution_count": 15,
      "outputs": [
        {
          "output_type": "execute_result",
          "data": {
            "text/plain": [
              "[100, 90, 80]"
            ]
          },
          "metadata": {
            "tags": []
          },
          "execution_count": 15
        }
      ]
    },
    {
      "cell_type": "code",
      "metadata": {
        "colab": {
          "base_uri": "https://localhost:8080/"
        },
        "id": "W7o6eSnB0f5e",
        "outputId": "95086860-49ed-4b00-8582-aaa9dba2fdd1"
      },
      "source": [
        "print(numbers[1])       # 인덱스 1번 위치의 \"원소\" -> 숫자 1개 \n",
        "print(numbers[1:2])   # 1 <= index < 2 범위의 원소들로 이루어진 \"리스트\" -> 숫자 1개를 갖고 있는 리스트 "
      ],
      "execution_count": 16,
      "outputs": [
        {
          "output_type": "stream",
          "text": [
            "20\n",
            "[20]\n"
          ],
          "name": "stdout"
        }
      ]
    },
    {
      "cell_type": "markdown",
      "metadata": {
        "id": "_7OPegX41keG"
      },
      "source": [
        "## 문자열 - 문자들의 리스트 "
      ]
    },
    {
      "cell_type": "code",
      "metadata": {
        "colab": {
          "base_uri": "https://localhost:8080/"
        },
        "id": "WOwh2Ie11nDW",
        "outputId": "ea195cc0-2263-4998-e7b5-68e75fd4e033"
      },
      "source": [
        "# 문자열 -> 인덱스, 인덱싱, 슬라이싱 \n",
        "message = 'Hello, Python!'      # 14개의 문자를 가지고 있는 문자열 \n",
        "print(message[0])       # 인덱싱\n",
        "print(message[-1])\n",
        "print(message[:5])"
      ],
      "execution_count": 17,
      "outputs": [
        {
          "output_type": "stream",
          "text": [
            "H\n",
            "!\n",
            "Hello\n"
          ],
          "name": "stdout"
        }
      ]
    },
    {
      "cell_type": "markdown",
      "metadata": {
        "id": "XfwCl1lb2-xq"
      },
      "source": [
        "## list의 산술 연산 "
      ]
    },
    {
      "cell_type": "markdown",
      "metadata": {
        "id": "mQdZXjRw3ECS"
      },
      "source": [
        "문자열의 산술 연산: `+, *`"
      ]
    },
    {
      "cell_type": "code",
      "metadata": {
        "colab": {
          "base_uri": "https://localhost:8080/",
          "height": 35
        },
        "id": "OslKrqBj3C-T",
        "outputId": "7e2b611d-e970-408e-c641-388dc6eb6157"
      },
      "source": [
        "'Hello' + 'Python'"
      ],
      "execution_count": 18,
      "outputs": [
        {
          "output_type": "execute_result",
          "data": {
            "application/vnd.google.colaboratory.intrinsic+json": {
              "type": "string"
            },
            "text/plain": [
              "'HelloPython'"
            ]
          },
          "metadata": {
            "tags": []
          },
          "execution_count": 18
        }
      ]
    },
    {
      "cell_type": "code",
      "metadata": {
        "colab": {
          "base_uri": "https://localhost:8080/",
          "height": 35
        },
        "id": "nrG2gDCM3q3q",
        "outputId": "3a9ec67a-f6ed-4d1b-c7da-76c6794f3663"
      },
      "source": [
        "'Hello' * 3         #  * : replicate "
      ],
      "execution_count": 19,
      "outputs": [
        {
          "output_type": "execute_result",
          "data": {
            "application/vnd.google.colaboratory.intrinsic+json": {
              "type": "string"
            },
            "text/plain": [
              "'HelloHelloHello'"
            ]
          },
          "metadata": {
            "tags": []
          },
          "execution_count": 19
        }
      ]
    },
    {
      "cell_type": "markdown",
      "metadata": {
        "id": "sOZXiMkn3036"
      },
      "source": [
        "list의 산술 연산: `+, *`"
      ]
    },
    {
      "cell_type": "code",
      "metadata": {
        "colab": {
          "base_uri": "https://localhost:8080/"
        },
        "id": "Y8x2yza83yRm",
        "outputId": "46e2931c-d4e7-49e3-9c99-a749f3380efb"
      },
      "source": [
        "[1, 2, 3] + [10, 20, 30]        #  +: concatenate(이어 붙이기)"
      ],
      "execution_count": 20,
      "outputs": [
        {
          "output_type": "execute_result",
          "data": {
            "text/plain": [
              "[1, 2, 3, 10, 20, 30]"
            ]
          },
          "metadata": {
            "tags": []
          },
          "execution_count": 20
        }
      ]
    },
    {
      "cell_type": "code",
      "metadata": {
        "colab": {
          "base_uri": "https://localhost:8080/"
        },
        "id": "_7euBI_24JX7",
        "outputId": "d07287aa-e06c-4bfe-fbfe-d5cca8fa2c30"
      },
      "source": [
        "[1, 2, 3] * 3           #  *: replicate(복제하기)"
      ],
      "execution_count": 21,
      "outputs": [
        {
          "output_type": "execute_result",
          "data": {
            "text/plain": [
              "[1, 2, 3, 1, 2, 3, 1, 2, 3]"
            ]
          },
          "metadata": {
            "tags": []
          },
          "execution_count": 21
        }
      ]
    },
    {
      "cell_type": "markdown",
      "metadata": {
        "id": "o7oHP6al5TBJ"
      },
      "source": [
        "## list의 메서드(함수) - 기능"
      ]
    },
    {
      "cell_type": "markdown",
      "metadata": {
        "id": "AfHFe6Az5XlY"
      },
      "source": [
        "## element 추가 "
      ]
    },
    {
      "cell_type": "code",
      "metadata": {
        "colab": {
          "base_uri": "https://localhost:8080/"
        },
        "id": "oJZiEKjw5j-v",
        "outputId": "5e2f6b1b-88a3-4451-c14e-a634d39e98bf"
      },
      "source": [
        "# list.append(값) : 리스트의 가장 마지막에 새로운 원소를 추가 \n",
        "print(numbers)\n",
        "numbers.append(0)   # 새로운 원소 추가 \n",
        "print(numbers)      #원소추가 후 "
      ],
      "execution_count": 22,
      "outputs": [
        {
          "output_type": "stream",
          "text": [
            "[10, 20, 100, 90, 80]\n",
            "[10, 20, 100, 90, 80, 0]\n"
          ],
          "name": "stdout"
        }
      ]
    },
    {
      "cell_type": "code",
      "metadata": {
        "colab": {
          "base_uri": "https://localhost:8080/"
        },
        "id": "gBqSr0-R6tal",
        "outputId": "a1518b73-4e50-4580-8fb9-877a89143eb6"
      },
      "source": [
        "numbers.remove(0)\n",
        "print(numbers)"
      ],
      "execution_count": 23,
      "outputs": [
        {
          "output_type": "stream",
          "text": [
            "[10, 20, 100, 90, 80]\n"
          ],
          "name": "stdout"
        }
      ]
    },
    {
      "cell_type": "code",
      "metadata": {
        "colab": {
          "base_uri": "https://localhost:8080/"
        },
        "id": "iN2ITrqX-mgI",
        "outputId": "46e66ec7-c97a-4891-b33f-d7ae61ae7cf2"
      },
      "source": [
        "# list. insert(index, object): list의 index 위치에 object(값)을 추가(삽입)\n",
        "print(numbers)   # insert 전\n",
        "numbers.insert(1, 123)      # index 1 위치에 123을 추가 \n",
        "print(numbers)   # insert 후"
      ],
      "execution_count": 24,
      "outputs": [
        {
          "output_type": "stream",
          "text": [
            "[10, 20, 100, 90, 80]\n",
            "[10, 123, 20, 100, 90, 80]\n"
          ],
          "name": "stdout"
        }
      ]
    },
    {
      "cell_type": "code",
      "metadata": {
        "colab": {
          "base_uri": "https://localhost:8080/"
        },
        "id": "hospBoi-AB0H",
        "outputId": "8313e4e3-02c8-497f-c400-ea04464f774e"
      },
      "source": [
        "# list.extend(iterable): 리스트 이어붙이기(concatenate) + 연산과 동일 \n",
        "print(numbers)          # extend 전\n",
        "numbers.extend([1, 2, 3])           #numbers + [1, 2, 3]   / 하나씩 append 하는 + 라고 생각하자 \n",
        "print(numbers)"
      ],
      "execution_count": 25,
      "outputs": [
        {
          "output_type": "stream",
          "text": [
            "[10, 123, 20, 100, 90, 80]\n",
            "[10, 123, 20, 100, 90, 80, 1, 2, 3]\n"
          ],
          "name": "stdout"
        }
      ]
    },
    {
      "cell_type": "code",
      "metadata": {
        "colab": {
          "base_uri": "https://localhost:8080/"
        },
        "id": "fMybLUqK_LrK",
        "outputId": "c96c3d93-22f4-40ab-ea3c-e9951b718243"
      },
      "source": [
        "list1 = [1, 2, 3]\n",
        "list1.append([4, 5, 6])\n",
        "print(list1)"
      ],
      "execution_count": 26,
      "outputs": [
        {
          "output_type": "stream",
          "text": [
            "[1, 2, 3, [4, 5, 6]]\n"
          ],
          "name": "stdout"
        }
      ]
    },
    {
      "cell_type": "code",
      "metadata": {
        "colab": {
          "base_uri": "https://localhost:8080/"
        },
        "id": "3bkgTggJA5Hq",
        "outputId": "99bcafbd-a7b4-46f3-9027-ae6181159481"
      },
      "source": [
        "list2 = [1, 2, 3]\n",
        "list2.extend([4, 5, 6])\n",
        "print(list2)"
      ],
      "execution_count": 27,
      "outputs": [
        {
          "output_type": "stream",
          "text": [
            "[1, 2, 3, 4, 5, 6]\n"
          ],
          "name": "stdout"
        }
      ]
    },
    {
      "cell_type": "markdown",
      "metadata": {
        "id": "zRjjcwkEB6Pd"
      },
      "source": [
        "## element 삭제 "
      ]
    },
    {
      "cell_type": "code",
      "metadata": {
        "colab": {
          "base_uri": "https://localhost:8080/"
        },
        "id": "ixhVDGG0B7-T",
        "outputId": "57628a98-e39c-414d-ab8e-c93e2cf1fb0b"
      },
      "source": [
        "# list.remove(값): 리스트에서 처음 등장하는 값을 삭제 \n",
        "numbers = [1, 2, 3, 1, 2, 10, 20]\n",
        "print(numbers)   # 삭제 전\n",
        "numbers.remove(1)   # 값 1을 삭제 \n",
        "print(numbers)   # 삭제 후 "
      ],
      "execution_count": 28,
      "outputs": [
        {
          "output_type": "stream",
          "text": [
            "[1, 2, 3, 1, 2, 10, 20]\n",
            "[2, 3, 1, 2, 10, 20]\n"
          ],
          "name": "stdout"
        }
      ]
    },
    {
      "cell_type": "code",
      "metadata": {
        "colab": {
          "base_uri": "https://localhost:8080/"
        },
        "id": "v9-8ELyhCSsD",
        "outputId": "3bb8d781-2dd1-445b-f4b7-c279f386207e"
      },
      "source": [
        "# list. pop(index): 인덱스 위치의 원소를 삭제. index를 생략하면 가장 마지막 원소를 삭제. \n",
        "numbers = [1, 2, 3, 1, 2, 10, 20]\n",
        "print(numbers) \n",
        "numbers.pop(1)      # index 1 위치의 값을 삭제 \n",
        "print(numbers)\n",
        "numbers.pop( )        # 가장 마지막 원소 삭제\n",
        "print(numbers)"
      ],
      "execution_count": 29,
      "outputs": [
        {
          "output_type": "stream",
          "text": [
            "[1, 2, 3, 1, 2, 10, 20]\n",
            "[1, 3, 1, 2, 10, 20]\n",
            "[1, 3, 1, 2, 10]\n"
          ],
          "name": "stdout"
        }
      ]
    },
    {
      "cell_type": "code",
      "metadata": {
        "colab": {
          "base_uri": "https://localhost:8080/"
        },
        "id": "r0n-y7_3Dttu",
        "outputId": "b7e5a7e7-fcd6-4593-b875-fca89352b8dc"
      },
      "source": [
        "# list. clear() : 리스트의 모든 원소 삭제 \n",
        "numbers = [1, 2, 3, 1, 2, 10, 20]\n",
        "print(numbers)\n",
        "numbers.clear()\n",
        "print(numbers)"
      ],
      "execution_count": 30,
      "outputs": [
        {
          "output_type": "stream",
          "text": [
            "[1, 2, 3, 1, 2, 10, 20]\n",
            "[]\n"
          ],
          "name": "stdout"
        }
      ]
    },
    {
      "cell_type": "markdown",
      "metadata": {
        "id": "JYpy4VrZD519"
      },
      "source": [
        "###리스트의 값 수정"
      ]
    },
    {
      "cell_type": "code",
      "metadata": {
        "colab": {
          "base_uri": "https://localhost:8080/"
        },
        "id": "M8XuamuID5ko",
        "outputId": "b643b019-b44e-4d19-b3db-e094ba69509f"
      },
      "source": [
        "# list[index] = value\n",
        "numbers = [1, 2, 3, 4, 5]\n",
        "print(numbers)\n",
        "numbers[0] = 100\n",
        "print(numbers)"
      ],
      "execution_count": 31,
      "outputs": [
        {
          "output_type": "stream",
          "text": [
            "[1, 2, 3, 4, 5]\n",
            "[100, 2, 3, 4, 5]\n"
          ],
          "name": "stdout"
        }
      ]
    },
    {
      "cell_type": "markdown",
      "metadata": {
        "id": "3e9zpwCoEkRZ"
      },
      "source": [
        "# list와 for 반복문 "
      ]
    },
    {
      "cell_type": "code",
      "metadata": {
        "colab": {
          "base_uri": "https://localhost:8080/"
        },
        "id": "sUg5Vrm1EmuU",
        "outputId": "3bf6f014-04de-4471-af89-d7a1e4cbb728"
      },
      "source": [
        "#   for  x  in iterable: \n",
        "numbers = [1, 10, 100, 1000]\n",
        "for x in numbers:\n",
        "    print(x)"
      ],
      "execution_count": 32,
      "outputs": [
        {
          "output_type": "stream",
          "text": [
            "1\n",
            "10\n",
            "100\n",
            "1000\n"
          ],
          "name": "stdout"
        }
      ]
    },
    {
      "cell_type": "code",
      "metadata": {
        "colab": {
          "base_uri": "https://localhost:8080/"
        },
        "id": "pIymvaySGIZY",
        "outputId": "b6d9ee74-bd2c-42ac-e132-f617c4b6ae01"
      },
      "source": [
        "# 리스트의 인덱스와 값을 모두 반복(iteration)\n",
        "for index, value in enumerate(numbers):\n",
        "        print(index, ':', value)"
      ],
      "execution_count": 33,
      "outputs": [
        {
          "output_type": "stream",
          "text": [
            "0 : 1\n",
            "1 : 10\n",
            "2 : 100\n",
            "3 : 1000\n"
          ],
          "name": "stdout"
        }
      ]
    },
    {
      "cell_type": "code",
      "metadata": {
        "colab": {
          "base_uri": "https://localhost:8080/"
        },
        "id": "-PSq9GxkG5Jr",
        "outputId": "95006827-2068-483c-ba18-aad88dd54e6c"
      },
      "source": [
        "# 리스트의 인덱스와 값을 동시에 반복(iteration)\n",
        "for index, value in enumerate(numbers):\n",
        "    print(index, ':', value)"
      ],
      "execution_count": 34,
      "outputs": [
        {
          "output_type": "stream",
          "text": [
            "0 : 1\n",
            "1 : 10\n",
            "2 : 100\n",
            "3 : 1000\n"
          ],
          "name": "stdout"
        }
      ]
    },
    {
      "cell_type": "markdown",
      "metadata": {
        "id": "yyXGdKkWl87V"
      },
      "source": [
        "#Exercise"
      ]
    },
    {
      "cell_type": "code",
      "metadata": {
        "id": "xrSBXbArptwG"
      },
      "source": [
        "import random   # 난수 생성 함수들을 가지고 있는 모듈 "
      ],
      "execution_count": 50,
      "outputs": []
    },
    {
      "cell_type": "code",
      "metadata": {
        "colab": {
          "base_uri": "https://localhost:8080/"
        },
        "id": "gXkqAgJjl-Vk",
        "outputId": "1c9e1307-0055-4812-cd97-3c8300b39adb"
      },
      "source": [
        "# 1.  빈 리스트(empty list) 생성\n",
        "numbers = []\n",
        "print(numbers)"
      ],
      "execution_count": 51,
      "outputs": [
        {
          "output_type": "stream",
          "text": [
            "[]\n"
          ],
          "name": "stdout"
        }
      ]
    },
    {
      "cell_type": "code",
      "metadata": {
        "colab": {
          "base_uri": "https://localhost:8080/"
        },
        "id": "KYkoJAbomEMr",
        "outputId": "0e256a06-ddcb-4f4b-aa53-78f0553d761f"
      },
      "source": [
        "# 2. 1에서 생성한 빈 리스트에 1 ~ 10 사이의 정수 난수 5개를 저장\n",
        "random.seed(1)\n",
        "\n",
        "for _  in range(5):        #문법에 맞추기 위해 변수 이름을 선언한 것 \n",
        "    numbers.append(random.randrange(1,11))\n",
        "    print(numbers)"
      ],
      "execution_count": 52,
      "outputs": [
        {
          "output_type": "stream",
          "text": [
            "[3]\n",
            "[3, 10]\n",
            "[3, 10, 2]\n",
            "[3, 10, 2, 5]\n",
            "[3, 10, 2, 5, 2]\n"
          ],
          "name": "stdout"
        }
      ]
    },
    {
      "cell_type": "code",
      "metadata": {
        "colab": {
          "base_uri": "https://localhost:8080/"
        },
        "id": "TQfNNlfemH2d",
        "outputId": "d5c04a7d-3886-416b-c2ca-bd36ce1cadd7"
      },
      "source": [
        "# 3. 리스트에 저장된 모든 숫자들의 합(sum)을 계산하고 출력\n",
        "print(sum(numbers))\n",
        "total = sum(numbers)\n",
        "print(total)\n",
        "\n",
        "total = 0                   # 변수에 0이라는 값을 저장하겠다라는 뜻 / 변수를 초기화 한다 \n",
        "for x in numbers:   # 3, 10, 2, 5, 2를 다 더해나가겠다. \n",
        "        total += x\n",
        "print('total=', total)"
      ],
      "execution_count": 57,
      "outputs": [
        {
          "output_type": "stream",
          "text": [
            "22\n",
            "22\n",
            "total= 22\n"
          ],
          "name": "stdout"
        }
      ]
    },
    {
      "cell_type": "code",
      "metadata": {
        "colab": {
          "base_uri": "https://localhost:8080/"
        },
        "id": "Im7Ivkr7mKxj",
        "outputId": "09dc32c0-4fda-4448-c734-78d306ece21d"
      },
      "source": [
        "# 4. 리스트에 저장된 모든 숫자들의 평균을 계산하고 출력\n",
        "    # len(반복가능한타입):\n",
        "avg = total /len(numbers)\n",
        "print('average = ', avg)"
      ],
      "execution_count": 60,
      "outputs": [
        {
          "output_type": "stream",
          "text": [
            "average =  4.4\n"
          ],
          "name": "stdout"
        }
      ]
    }
  ]
}