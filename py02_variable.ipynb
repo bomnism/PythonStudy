{
  "nbformat": 4,
  "nbformat_minor": 0,
  "metadata": {
    "colab": {
      "name": "py02_variable.ipynb",
      "provenance": [],
      "collapsed_sections": [
        "3xYruB3FrbTm"
      ],
      "authorship_tag": "ABX9TyPFurDpeDlkgwoNm1VuY5W1",
      "include_colab_link": true
    },
    "kernelspec": {
      "name": "python3",
      "display_name": "Python 3"
    },
    "language_info": {
      "name": "python"
    }
  },
  "cells": [
    {
      "cell_type": "markdown",
      "metadata": {
        "id": "view-in-github",
        "colab_type": "text"
      },
      "source": [
        "<a href=\"https://colab.research.google.com/github/bomnism/PythonStudy/blob/main/py02_variable.ipynb\" target=\"_parent\"><img src=\"https://colab.research.google.com/assets/colab-badge.svg\" alt=\"Open In Colab\"/></a>"
      ]
    },
    {
      "cell_type": "markdown",
      "metadata": {
        "id": "3xYruB3FrbTm"
      },
      "source": [
        "# Python Data Type (자료형)    "
      ]
    },
    {
      "cell_type": "markdown",
      "metadata": {
        "id": "MNXuP1C7sdYq"
      },
      "source": [
        "* 숫자 타입:\n",
        "  *   int: 정수\n",
        "  *   float: 실수\n",
        "* 문자열 타입: str\n",
        "* 논리 타입: bool - True/False 두 가지 상태를 저장하는 변수 "
      ]
    },
    {
      "cell_type": "code",
      "metadata": {
        "colab": {
          "base_uri": "https://localhost:8080/"
        },
        "id": "a4zn2JL1tGmX",
        "outputId": "62160614-38ec-4082-e8bd-2130914b5862"
      },
      "source": [
        " # 변수 n에 정수 100을 저장 \n",
        " n = 100\n",
        " print(n)"
      ],
      "execution_count": 6,
      "outputs": [
        {
          "output_type": "stream",
          "text": [
            "100\n"
          ],
          "name": "stdout"
        }
      ]
    },
    {
      "cell_type": "code",
      "metadata": {
        "colab": {
          "base_uri": "https://localhost:8080/"
        },
        "id": "i3ju57X7tOmi",
        "outputId": "c64f2b02-a0e3-41f5-987a-2465874a900a"
      },
      "source": [
        " type(n) # type(x): 변수 x의 자료형(data type)을 반환 "
      ],
      "execution_count": 4,
      "outputs": [
        {
          "output_type": "execute_result",
          "data": {
            "text/plain": [
              "int"
            ]
          },
          "metadata": {
            "tags": []
          },
          "execution_count": 4
        }
      ]
    },
    {
      "cell_type": "code",
      "metadata": {
        "colab": {
          "base_uri": "https://localhost:8080/"
        },
        "id": "VlqLa3JDuALZ",
        "outputId": "762ece0b-c356-45a0-e411-60d139b98bc8"
      },
      "source": [
        "pi = 3.141592\n",
        "print(pi)\n",
        "type(pi)"
      ],
      "execution_count": 12,
      "outputs": [
        {
          "output_type": "stream",
          "text": [
            "3.141592\n",
            "pretty\n"
          ],
          "name": "stdout"
        }
      ]
    },
    {
      "cell_type": "code",
      "metadata": {
        "colab": {
          "base_uri": "https://localhost:8080/"
        },
        "id": "cecuEdx9uDQL",
        "outputId": "6a7889ea-f9f0-46c2-ab5c-974b7885c18a"
      },
      "source": [
        " x = 'pretty'\n",
        "print(x)"
      ],
      "execution_count": 13,
      "outputs": [
        {
          "output_type": "stream",
          "text": [
            "pretty\n"
          ],
          "name": "stdout"
        }
      ]
    },
    {
      "cell_type": "code",
      "metadata": {
        "colab": {
          "base_uri": "https://localhost:8080/"
        },
        "id": "NCQRXpu1CR57",
        "outputId": "754dc36b-d433-4a1c-c534-1a89a4691a54"
      },
      "source": [
        " s = '안녕하세요'\n",
        " print(s)\n",
        "type(s)"
      ],
      "execution_count": 5,
      "outputs": [
        {
          "output_type": "stream",
          "text": [
            "안녕하세요\n"
          ],
          "name": "stdout"
        },
        {
          "output_type": "execute_result",
          "data": {
            "text/plain": [
              "str"
            ]
          },
          "metadata": {
            "tags": []
          },
          "execution_count": 5
        }
      ]
    },
    {
      "cell_type": "code",
      "metadata": {
        "colab": {
          "base_uri": "https://localhost:8080/"
        },
        "id": "6VVFIa1EC1sy",
        "outputId": "0c1a466e-5843-43a9-d5fd-9bfbd1509c3c"
      },
      "source": [
        " b = True   # Python의 예약어들은 대/소문자를 구분함 \n",
        " print(b)\n",
        " type(b)    # bool : True나 False를 저장하는 타입 "
      ],
      "execution_count": 8,
      "outputs": [
        {
          "output_type": "stream",
          "text": [
            "True\n"
          ],
          "name": "stdout"
        },
        {
          "output_type": "execute_result",
          "data": {
            "text/plain": [
              "bool"
            ]
          },
          "metadata": {
            "tags": []
          },
          "execution_count": 8
        }
      ]
    },
    {
      "cell_type": "code",
      "metadata": {
        "colab": {
          "base_uri": "https://localhost:8080/"
        },
        "id": "UQSCJL8MDaB9",
        "outputId": "18ef9a0b-abaf-4261-e05f-9d49e13c6c54"
      },
      "source": [
        "b = 5 > 1\n",
        "print(b, type(b))"
      ],
      "execution_count": 13,
      "outputs": [
        {
          "output_type": "stream",
          "text": [
            "True <class 'bool'>\n"
          ],
          "name": "stdout"
        }
      ]
    },
    {
      "cell_type": "markdown",
      "metadata": {
        "id": "f7szf_30D5fm"
      },
      "source": [
        "# 명시적 타입 변환(explicit type conversion)"
      ]
    },
    {
      "cell_type": "markdown",
      "metadata": {
        "id": "9RivqZZ4EmIl"
      },
      "source": [
        "*  `int(값)` : 값을 정수로 변환하는 함수 \n",
        "*  `float(값)` : 값을 실수로 변환하는 함수\n",
        "*  `str(값)` : 값을 문자열로 변환하는 함수 "
      ]
    },
    {
      "cell_type": "code",
      "metadata": {
        "colab": {
          "base_uri": "https://localhost:8080/"
        },
        "id": "FYexWrEFFZno",
        "outputId": "b1535158-6114-4bfd-bf9e-c72ab8ab1fe0"
      },
      "source": [
        "num_str = '123'\n",
        "type(num_str)   # 문자열로 저장"
      ],
      "execution_count": 16,
      "outputs": [
        {
          "output_type": "execute_result",
          "data": {
            "text/plain": [
              "str"
            ]
          },
          "metadata": {
            "tags": []
          },
          "execution_count": 16
        }
      ]
    },
    {
      "cell_type": "code",
      "metadata": {
        "colab": {
          "base_uri": "https://localhost:8080/"
        },
        "id": "alWM-E5cFqdr",
        "outputId": "bd0ef0a9-c6e6-4735-88ff-ee095b4fcc32"
      },
      "source": [
        "num_int = int(num_str)  # 문자열 '123'을  정수 123으로 변환 후 변수 num_int에 저장\n",
        "type(num_int)"
      ],
      "execution_count": 20,
      "outputs": [
        {
          "output_type": "execute_result",
          "data": {
            "text/plain": [
              "int"
            ]
          },
          "metadata": {
            "tags": []
          },
          "execution_count": 20
        }
      ]
    },
    {
      "cell_type": "code",
      "metadata": {
        "colab": {
          "base_uri": "https://localhost:8080/"
        },
        "id": "zUJaVbP0HMO3",
        "outputId": "119d86e1-8988-4c78-fff9-55e12de5aa26"
      },
      "source": [
        "pi = float('3.141592')  \n",
        "type(pi)"
      ],
      "execution_count": 22,
      "outputs": [
        {
          "output_type": "execute_result",
          "data": {
            "text/plain": [
              "float"
            ]
          },
          "metadata": {
            "tags": []
          },
          "execution_count": 22
        }
      ]
    },
    {
      "cell_type": "code",
      "metadata": {
        "colab": {
          "base_uri": "https://localhost:8080/",
          "height": 213
        },
        "id": "ovRoEsnDHhDJ",
        "outputId": "6ed72352-9cc4-4eb5-b230-9bdb0e55455b"
      },
      "source": [
        " # int('3.14)  #> 문자열 '3.14'는 정수로 변환 불가능\n",
        " int('1,000')  #> 문자열 '1,000'은 정수로 변환 불가능 \n",
        " float('1,000.0') #> 문자열 '1,000.0'은 실수로 변환 불가능 "
      ],
      "execution_count": 24,
      "outputs": [
        {
          "output_type": "error",
          "ename": "ValueError",
          "evalue": "ignored",
          "traceback": [
            "\u001b[0;31m---------------------------------------------------------------------------\u001b[0m",
            "\u001b[0;31mValueError\u001b[0m                                Traceback (most recent call last)",
            "\u001b[0;32m<ipython-input-24-23875af16e17>\u001b[0m in \u001b[0;36m<module>\u001b[0;34m()\u001b[0m\n\u001b[1;32m      1\u001b[0m \u001b[0;31m# int('3.14)  #> 문자열 '3.14'는 정수로 변환 불가능\u001b[0m\u001b[0;34m\u001b[0m\u001b[0;34m\u001b[0m\u001b[0;34m\u001b[0m\u001b[0m\n\u001b[0;32m----> 2\u001b[0;31m \u001b[0mint\u001b[0m\u001b[0;34m(\u001b[0m\u001b[0;34m'1,000'\u001b[0m\u001b[0;34m)\u001b[0m  \u001b[0;31m#> 문자열 '1,000'은 정수로 변환 불가능\u001b[0m\u001b[0;34m\u001b[0m\u001b[0;34m\u001b[0m\u001b[0m\n\u001b[0m\u001b[1;32m      3\u001b[0m \u001b[0mfloat\u001b[0m\u001b[0;34m(\u001b[0m\u001b[0;34m'1,000.0'\u001b[0m\u001b[0;34m)\u001b[0m \u001b[0;31m#> 문자열 '1,000.0'은 실수로 변환 불가능\u001b[0m\u001b[0;34m\u001b[0m\u001b[0;34m\u001b[0m\u001b[0m\n",
            "\u001b[0;31mValueError\u001b[0m: invalid literal for int() with base 10: '1,000'"
          ]
        }
      ]
    },
    {
      "cell_type": "markdown",
      "metadata": {
        "id": "G2JbcuIbIicb"
      },
      "source": [
        "# 산술 연산자"
      ]
    },
    {
      "cell_type": "markdown",
      "metadata": {
        "id": "qnTz6MEJIu0Q"
      },
      "source": [
        "* 산술 연산자 종류 : `+`, `-`, `*`, `/`, `**`, `//`, `%`\n",
        "* 산술 연산자는 숫자 타입(int, float)의 값 또는 변수에서 사용할 수 있음 "
      ]
    },
    {
      "cell_type": "code",
      "metadata": {
        "id": "6xz08FP5JYEC"
      },
      "source": [
        " n1 = 10\n",
        " n2 = 3"
      ],
      "execution_count": 32,
      "outputs": []
    },
    {
      "cell_type": "code",
      "metadata": {
        "colab": {
          "base_uri": "https://localhost:8080/"
        },
        "id": "lL0QYVA0JcZA",
        "outputId": "fb6071cb-da49-437a-d555-a72642049c9e"
      },
      "source": [
        "print(f'{n1} + {n2} = {n1 + n2}')\n",
        "print(f'{n1} - {n2} = {n1 - n2}')\n",
        "print(f'{n1} * {n2} = {n1 * n2}')\n",
        "print(f'{n1} / {n2} = {n1 / n2}')\n",
        "print(f'{n1}의 {n2} 거듭제곱 = {n1 ** n2}')\n",
        "print(f'{n1}을 {n2}로 나눈 몫 = {n1 // n2}')\n",
        "print(f'{n1}을 {n2}로 나눈 나머지 = {n1 % n2}')"
      ],
      "execution_count": 34,
      "outputs": [
        {
          "output_type": "stream",
          "text": [
            "10 + 3 = 13\n",
            "10 - 3 = 7\n",
            "10 * 3 = 30\n",
            "10 / 3 = 3.3333333333333335\n",
            "10의 3 거듭제곱 = 1000\n",
            "10을 3로 나눈 몫 = 3\n",
            "10을 3로 나눈 나머지 = 1\n"
          ],
          "name": "stdout"
        }
      ]
    },
    {
      "cell_type": "code",
      "metadata": {
        "colab": {
          "base_uri": "https://localhost:8080/"
        },
        "id": "qM2Bkt5PPFdZ",
        "outputId": "bad9ebca-1578-4981-8c04-62b16d71b3a5"
      },
      "source": [
        "print(10 ** -1)   # 10의 -1승 \n",
        "print(10 ** -2)   # 10의 -2승 "
      ],
      "execution_count": 37,
      "outputs": [
        {
          "output_type": "stream",
          "text": [
            "0.1\n",
            "0.01\n"
          ],
          "name": "stdout"
        }
      ]
    },
    {
      "cell_type": "markdown",
      "metadata": {
        "id": "S_N7aSjWPsSi"
      },
      "source": [
        "문자열(str)에서 사용 가능한 산술연산자 : \n",
        "*   `+`: concatenate. 문자열 이어 붙이기 \n",
        "*   `*`: replicate. 문자열 복제 "
      ]
    },
    {
      "cell_type": "code",
      "metadata": {
        "colab": {
          "base_uri": "https://localhost:8080/",
          "height": 36
        },
        "id": "Con-_UTiQDat",
        "outputId": "a29adda1-0414-4596-fa1b-0a4c9ff5de97"
      },
      "source": [
        "'Hello' + ' Python'"
      ],
      "execution_count": 50,
      "outputs": [
        {
          "output_type": "execute_result",
          "data": {
            "application/vnd.google.colaboratory.intrinsic+json": {
              "type": "string"
            },
            "text/plain": [
              "'Hello Python'"
            ]
          },
          "metadata": {
            "tags": []
          },
          "execution_count": 50
        }
      ]
    },
    {
      "cell_type": "markdown",
      "metadata": {
        "id": "IF9kK30nQW4v"
      },
      "source": [
        "Colab 노트북의 코드 셀에서 가장 마지막 문장이 변수(객체)이면, 그 객체의 값이 \n",
        "콘솔 창에 출력됨. "
      ]
    },
    {
      "cell_type": "code",
      "metadata": {
        "colab": {
          "base_uri": "https://localhost:8080/",
          "height": 73
        },
        "id": "kgP5q-00QIQ-",
        "outputId": "f1488f8f-facc-452a-cea7-7742dcf7ce61"
      },
      "source": [
        "print(1)\n",
        "print(2)\n",
        "3\n",
        "'Hello' * 5"
      ],
      "execution_count": 51,
      "outputs": [
        {
          "output_type": "stream",
          "text": [
            "1\n",
            "2\n"
          ],
          "name": "stdout"
        },
        {
          "output_type": "execute_result",
          "data": {
            "application/vnd.google.colaboratory.intrinsic+json": {
              "type": "string"
            },
            "text/plain": [
              "'HelloHelloHelloHelloHello'"
            ]
          },
          "metadata": {
            "tags": []
          },
          "execution_count": 51
        }
      ]
    },
    {
      "cell_type": "markdown",
      "metadata": {
        "id": "0yH0RCjBTaLS"
      },
      "source": [
        "bool 타입의 값들은 산술 연산을 하면, True = 1 / False = 0이 된다. "
      ]
    },
    {
      "cell_type": "code",
      "metadata": {
        "colab": {
          "base_uri": "https://localhost:8080/"
        },
        "id": "gw1AirtMTf8a",
        "outputId": "fc472ba4-bf14-484c-90eb-e2c11f71c94c"
      },
      "source": [
        "True+True"
      ],
      "execution_count": 53,
      "outputs": [
        {
          "output_type": "execute_result",
          "data": {
            "text/plain": [
              "2"
            ]
          },
          "metadata": {
            "tags": []
          },
          "execution_count": 53
        }
      ]
    },
    {
      "cell_type": "code",
      "metadata": {
        "colab": {
          "base_uri": "https://localhost:8080/"
        },
        "id": "PiLEnoUFTiLZ",
        "outputId": "87c313ff-2641-4a68-936d-5107581da9ba"
      },
      "source": [
        "(True + False + True) / 3"
      ],
      "execution_count": 54,
      "outputs": [
        {
          "output_type": "execute_result",
          "data": {
            "text/plain": [
              "0.6666666666666666"
            ]
          },
          "metadata": {
            "tags": []
          },
          "execution_count": 54
        }
      ]
    },
    {
      "cell_type": "markdown",
      "metadata": {
        "id": "RnWXsmWpToLO"
      },
      "source": [
        "# 비교 연산자 "
      ]
    },
    {
      "cell_type": "markdown",
      "metadata": {
        "id": "KnN3jyJsTrEc"
      },
      "source": [
        "* 비교 연산자: `==`, `!=`, `>`, `>=`, `<`, `<=`\n",
        "* 논리 연산자: and, or, not \n"
      ]
    },
    {
      "cell_type": "code",
      "metadata": {
        "id": "8ic_02lMUjKu"
      },
      "source": [
        "x = 100"
      ],
      "execution_count": 55,
      "outputs": []
    },
    {
      "cell_type": "code",
      "metadata": {
        "colab": {
          "base_uri": "https://localhost:8080/"
        },
        "id": "7b0NNq4xTqDq",
        "outputId": "dcc476ec-19a8-4466-eba6-4685b9e9d163"
      },
      "source": [
        "print(x==100)\n",
        "print(x != 100)\n",
        "print(x > 100)"
      ],
      "execution_count": 57,
      "outputs": [
        {
          "output_type": "stream",
          "text": [
            "True\n",
            "False\n",
            "False\n"
          ],
          "name": "stdout"
        }
      ]
    },
    {
      "cell_type": "code",
      "metadata": {
        "colab": {
          "base_uri": "https://localhost:8080/"
        },
        "id": "jAu6HvHmVWmB",
        "outputId": "ac1558d9-c151-4b80-fa6d-fc4ae715e8e2"
      },
      "source": [
        "print(x > 50) and (x < 150)\n",
        "print((x > 100) and (x < 150))\n",
        "print((x > 100) or (x < 150))"
      ],
      "execution_count": 59,
      "outputs": [
        {
          "output_type": "stream",
          "text": [
            "True\n",
            "False\n",
            "True\n"
          ],
          "name": "stdout"
        }
      ]
    },
    {
      "cell_type": "markdown",
      "metadata": {
        "id": "BD6pM2pCWMou"
      },
      "source": [
        "#*** Exercise"
      ]
    },
    {
      "cell_type": "markdown",
      "metadata": {
        "id": "MvCq-wENWQxy"
      },
      "source": [
        "섭씨 온도를 입력 받아서 화씨 온도로 변환 후 출력하는 모드를 작성 \n",
        "\n",
        "```\n",
        "fahrenheit = celcius * 1.8 + 32\n",
        "```"
      ]
    },
    {
      "cell_type": "code",
      "metadata": {
        "colab": {
          "base_uri": "https://localhost:8080/"
        },
        "id": "NtZj89i8WPOB",
        "outputId": "8e6c417f-fa34-4e67-bbb9-fe99ffbd7bf1"
      },
      "source": [
        "# 섭씨 온도 입력\n",
        "celcius = float(input('섭씨온도입력>>>'))   # 사용자가 입력한 문자열을 float타입으로 변환해서 저장 \n",
        "# 섭씨 온도를 화씨 온도로 변환\n",
        "fahrenheit = celcius * 1.8 + 32     # celcius 는 문자열이 저장되어 있다. 따라서 * 할 수 없음 \n",
        "# 화씨 온도를 출력\n",
        "print(fahrenheit)"
      ],
      "execution_count": 64,
      "outputs": [
        {
          "output_type": "stream",
          "text": [
            "섭씨온도입력>>>32\n",
            "89.6\n"
          ],
          "name": "stdout"
        }
      ]
    },
    {
      "cell_type": "code",
      "metadata": {
        "id": "2JXjipAvYgWa"
      },
      "source": [
        ""
      ],
      "execution_count": null,
      "outputs": []
    }
  ]
}