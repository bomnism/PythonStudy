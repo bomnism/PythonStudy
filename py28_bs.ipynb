{
  "nbformat": 4,
  "nbformat_minor": 0,
  "metadata": {
    "colab": {
      "name": "py28_bs.ipynb",
      "provenance": [],
      "mount_file_id": "1XcDJHMzmfoSECevKw2Jl8y_skgN7y5TB",
      "authorship_tag": "ABX9TyPNsTVFg/EMUrBJocDopmeN",
      "include_colab_link": true
    },
    "kernelspec": {
      "name": "python3",
      "display_name": "Python 3"
    },
    "language_info": {
      "name": "python"
    }
  },
  "cells": [
    {
      "cell_type": "markdown",
      "metadata": {
        "id": "view-in-github",
        "colab_type": "text"
      },
      "source": [
        "<a href=\"https://colab.research.google.com/github/bomnism/PythonStudy/blob/main/py28_bs.ipynb\" target=\"_parent\"><img src=\"https://colab.research.google.com/assets/colab-badge.svg\" alt=\"Open In Colab\"/></a>"
      ]
    },
    {
      "cell_type": "code",
      "metadata": {
        "id": "iu6J1qjI26FU"
      },
      "source": [
        "web03 = '/content/drive/MyDrive/Colab Notebooks/Lab_python/web03.html'"
      ],
      "execution_count": 5,
      "outputs": []
    },
    {
      "cell_type": "code",
      "metadata": {
        "id": "Mf0LTGeT3J6e"
      },
      "source": [
        "from bs4 import BeautifulSoup       #bs4 모듈에서 beautifulSoup 클래스 임포트"
      ],
      "execution_count": 6,
      "outputs": []
    },
    {
      "cell_type": "markdown",
      "metadata": {
        "id": "hAOLEKg-3mZ_"
      },
      "source": [
        "# CSS Selector\n",
        "\n",
        "HTML 요소(element)들을 찾는 방법\n",
        "* tag_name\n",
        "* .class_name\n",
        "* #id_name\n",
        "* "
      ]
    },
    {
      "cell_type": "code",
      "metadata": {
        "id": "gUFkmrho4Gkl"
      },
      "source": [
        "with open(file=web03) as html:\n",
        "    # HTML 파일을 오픈해서 BeautifulSoup 객체를 생성\n",
        "    soup = BeautifulSoup(markup=html, features='html5lib')"
      ],
      "execution_count": 7,
      "outputs": []
    },
    {
      "cell_type": "markdown",
      "metadata": {
        "id": "J1vf8qNs5nMY"
      },
      "source": [
        "#Tag selector"
      ]
    },
    {
      "cell_type": "code",
      "metadata": {
        "colab": {
          "base_uri": "https://localhost:8080/"
        },
        "id": "Ien05ROS3yjk",
        "outputId": "76f16121-6d9e-426e-86de-0ef29c6c15c3"
      },
      "source": [
        "# Bs.select('css-selector'): css-selector로 찾을 수 있는 모든 요소들의 리스트 \n",
        "# 태그 이름이 'div'인 모든 요소들\n",
        "soup.select('div')"
      ],
      "execution_count": 8,
      "outputs": [
        {
          "output_type": "execute_result",
          "data": {
            "text/plain": [
              "[<div class=\"c1\">여기는 c1 클래스입니다.</div>,\n",
              " <div class=\"c1\">여기도 c1 클래스입니다.</div>,\n",
              " <div class=\"c2\">여기는 c2 클래스입니다.</div>,\n",
              " <div class=\"c2\" id=\"id1\">여기는 c2 클래스, 아이디는 id1입니다.</div>]"
            ]
          },
          "metadata": {
            "tags": []
          },
          "execution_count": 8
        }
      ]
    },
    {
      "cell_type": "code",
      "metadata": {
        "colab": {
          "base_uri": "https://localhost:8080/"
        },
        "id": "5o81wSWX4awk",
        "outputId": "c98424e4-cdb4-4ead-9052-a61d479ea51f"
      },
      "source": [
        "# 태그 이름이 'a'인 모든 요소들\n",
        "soup.select('a')"
      ],
      "execution_count": 9,
      "outputs": [
        {
          "output_type": "execute_result",
          "data": {
            "text/plain": [
              "[<a href=\"https://www.daum.net/\">다음</a>,\n",
              " <a href=\"https://www.naver.com/\">네이버</a>,\n",
              " <a href=\"https://www.google.com/\">구글</a>]"
            ]
          },
          "metadata": {
            "tags": []
          },
          "execution_count": 9
        }
      ]
    },
    {
      "cell_type": "code",
      "metadata": {
        "colab": {
          "base_uri": "https://localhost:8080/"
        },
        "id": "nHTj1A3_5bal",
        "outputId": "9b5d3339-9628-49a5-93ad-b755ded1e17f"
      },
      "source": [
        "# 태그 이름이 'h1'인 모든 요소들\n",
        "soup.select('h1')"
      ],
      "execution_count": 11,
      "outputs": [
        {
          "output_type": "execute_result",
          "data": {
            "text/plain": [
              "[<h1>CSS(Cascade Style Sheet)</h1>]"
            ]
          },
          "metadata": {
            "tags": []
          },
          "execution_count": 11
        }
      ]
    },
    {
      "cell_type": "markdown",
      "metadata": {
        "id": "QEvcfpVa5wPf"
      },
      "source": [
        "# Class Selector"
      ]
    },
    {
      "cell_type": "code",
      "metadata": {
        "colab": {
          "base_uri": "https://localhost:8080/"
        },
        "id": "gBlzVX7w5tM6",
        "outputId": "17dd6b0f-99ff-4341-c0a4-b5eb51a3f0d1"
      },
      "source": [
        "# class 속성의 값이 'menu_item'인 모든 요소들\n",
        "soup.find(attrs={'class': 'menu_item'})\n",
        "soup.select('.menu_item')"
      ],
      "execution_count": 13,
      "outputs": [
        {
          "output_type": "execute_result",
          "data": {
            "text/plain": [
              "[<li class=\"menu_item\">  <!-- list item -->\n",
              "             <a href=\"https://www.daum.net/\">다음</a>\n",
              "         </li>, <li class=\"menu_item\">  <!-- list item -->\n",
              "             <a href=\"https://www.naver.com/\">네이버</a>\n",
              "         </li>, <li class=\"menu_item\">  <!-- list item -->\n",
              "             <a href=\"https://www.google.com/\">구글</a>\n",
              "         </li>]"
            ]
          },
          "metadata": {
            "tags": []
          },
          "execution_count": 13
        }
      ]
    },
    {
      "cell_type": "code",
      "metadata": {
        "colab": {
          "base_uri": "https://localhost:8080/"
        },
        "id": "Q7K7uDQC7MMS",
        "outputId": "98fbe694-d1da-40eb-e142-539b80805d50"
      },
      "source": [
        "# class 속성의 값이 'c1'인 모든 요소들\n",
        "soup.select('.c1')"
      ],
      "execution_count": 15,
      "outputs": [
        {
          "output_type": "execute_result",
          "data": {
            "text/plain": [
              "[<div class=\"c1\">여기는 c1 클래스입니다.</div>, <div class=\"c1\">여기도 c1 클래스입니다.</div>]"
            ]
          },
          "metadata": {
            "tags": []
          },
          "execution_count": 15
        }
      ]
    },
    {
      "cell_type": "markdown",
      "metadata": {
        "id": "Q3oDEfLx7a_x"
      },
      "source": [
        "# ID selector"
      ]
    },
    {
      "cell_type": "code",
      "metadata": {
        "colab": {
          "base_uri": "https://localhost:8080/"
        },
        "id": "ZVULlipZ7Z8t",
        "outputId": "2d767a01-fa98-4198-8dbd-fe1ea5dc4068"
      },
      "source": [
        "# id 속성의 값이 'id1'인 모든 요소들 \n",
        "soup.select('#id1')"
      ],
      "execution_count": 16,
      "outputs": [
        {
          "output_type": "execute_result",
          "data": {
            "text/plain": [
              "[<div class=\"c2\" id=\"id1\">여기는 c2 클래스, 아이디는 id1입니다.</div>]"
            ]
          },
          "metadata": {
            "tags": []
          },
          "execution_count": 16
        }
      ]
    },
    {
      "cell_type": "markdown",
      "metadata": {
        "id": "k1oasHa_9NEh"
      },
      "source": [
        "tag, class, id selector는 연결해서 사용 가능"
      ]
    },
    {
      "cell_type": "code",
      "metadata": {
        "colab": {
          "base_uri": "https://localhost:8080/"
        },
        "id": "K-QPZzXl9PYV",
        "outputId": "58de6754-12d9-4b4b-b288-f06007c25b2b"
      },
      "source": [
        "# 태그 이름이 'div'이고, class 속성의 값이 'c1'인 모든 요소들\n",
        "# soup.find_all(name='div', attrs={'class':'c1'})\n",
        "soup.select('div.c1')"
      ],
      "execution_count": 17,
      "outputs": [
        {
          "output_type": "execute_result",
          "data": {
            "text/plain": [
              "[<div class=\"c1\">여기는 c1 클래스입니다.</div>, <div class=\"c1\">여기도 c1 클래스입니다.</div>]"
            ]
          },
          "metadata": {
            "tags": []
          },
          "execution_count": 17
        }
      ]
    },
    {
      "cell_type": "code",
      "metadata": {
        "colab": {
          "base_uri": "https://localhost:8080/"
        },
        "id": "VTc-yzIQ9csm",
        "outputId": "b9ec1d09-7ab3-430d-9425-0305718429f9"
      },
      "source": [
        "# 태그 이름이 'div'이고, id 속성의 값이 'id1'인 모든 요소들\n",
        "# soup.find_all(name='div', attrs={'id': 'id1})\n",
        "soup.select('div#id1')"
      ],
      "execution_count": 18,
      "outputs": [
        {
          "output_type": "execute_result",
          "data": {
            "text/plain": [
              "[<div class=\"c2\" id=\"id1\">여기는 c2 클래스, 아이디는 id1입니다.</div>]"
            ]
          },
          "metadata": {
            "tags": []
          },
          "execution_count": 18
        }
      ]
    }
  ]
}