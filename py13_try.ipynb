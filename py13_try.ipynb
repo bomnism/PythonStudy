{
  "nbformat": 4,
  "nbformat_minor": 0,
  "metadata": {
    "colab": {
      "name": "py13_try.ipynb",
      "provenance": [],
      "collapsed_sections": [],
      "authorship_tag": "ABX9TyOMj21rrZ7kvZkbHzH4vRU5",
      "include_colab_link": true
    },
    "kernelspec": {
      "name": "python3",
      "display_name": "Python 3"
    },
    "language_info": {
      "name": "python"
    }
  },
  "cells": [
    {
      "cell_type": "markdown",
      "metadata": {
        "id": "view-in-github",
        "colab_type": "text"
      },
      "source": [
        "<a href=\"https://colab.research.google.com/github/bomnism/PythonStudy/blob/main/py13_try.ipynb\" target=\"_parent\"><img src=\"https://colab.research.google.com/assets/colab-badge.svg\" alt=\"Open In Colab\"/></a>"
      ]
    },
    {
      "cell_type": "markdown",
      "metadata": {
        "id": "k_fQdsb7hYyi"
      },
      "source": [
        "# 예외(exception), 오류(error) 종류 "
      ]
    },
    {
      "cell_type": "code",
      "metadata": {
        "colab": {
          "base_uri": "https://localhost:8080/"
        },
        "id": "jwuqfPD6hxWh",
        "outputId": "f72b7757-5cdb-4abc-918c-5b7421b64604"
      },
      "source": [
        "# prnit('Hello')  #> NameError: 사용하려는 함수 또는 변수 이름이 정의되지 않은 경우 \n",
        "print('Hello') "
      ],
      "execution_count": 2,
      "outputs": [
        {
          "output_type": "stream",
          "text": [
            "Hello\n"
          ],
          "name": "stdout"
        }
      ]
    },
    {
      "cell_type": "code",
      "metadata": {
        "id": "5mxutOqsigHG"
      },
      "source": [
        "# x += 1        #> NameError\n",
        "x = 0\n",
        "x += 1"
      ],
      "execution_count": 3,
      "outputs": []
    },
    {
      "cell_type": "code",
      "metadata": {
        "id": "8hfJCgLqiqBV"
      },
      "source": [
        "# x = int('100. ')      # ValueError: 잘못된 값이 사용된 경우(함수 argument로 전달된 경우)\n",
        "x = int('100')"
      ],
      "execution_count": 6,
      "outputs": []
    },
    {
      "cell_type": "code",
      "metadata": {
        "colab": {
          "base_uri": "https://localhost:8080/"
        },
        "id": "mCyQrUCVjTm7",
        "outputId": "fb02839b-70f0-4cfb-aadb-a0e0a7c0dde2"
      },
      "source": [
        "# 100 + '200'         #> TypeError: 잘못된 타입의 값이 사용된 경우 \n",
        "print(100 + 200)\n",
        "print('100' + '200')"
      ],
      "execution_count": 8,
      "outputs": [
        {
          "output_type": "stream",
          "text": [
            "300\n",
            "100200\n"
          ],
          "name": "stdout"
        }
      ]
    },
    {
      "cell_type": "code",
      "metadata": {
        "colab": {
          "base_uri": "https://localhost:8080/"
        },
        "id": "DpYdkR-okKMC",
        "outputId": "f83b25f9-1599-4aa0-ac6b-61dd41a4691a"
      },
      "source": [
        "numbers = [1, 2, 3]\n",
        "# print(numbers[3])       #> IndexError: 리스트의 인덱스가 범위를 벗어나는 경우 \n",
        "print(numbers[2])"
      ],
      "execution_count": 12,
      "outputs": [
        {
          "output_type": "stream",
          "text": [
            "3\n"
          ],
          "name": "stdout"
        }
      ]
    },
    {
      "cell_type": "code",
      "metadata": {
        "colab": {
          "base_uri": "https://localhost:8080/"
        },
        "id": "0_-X5nTck3AX",
        "outputId": "0bda754c-908a-4b89-c5ad-527374acbc74"
      },
      "source": [
        "# 123 / 0     #> ZeroDivisionError: 0으로 나누려고 할 때 (어떤 숫자를 0으로 나눌 수 없으니까 Error)\n",
        "123 / 0.001 "
      ],
      "execution_count": 16,
      "outputs": [
        {
          "output_type": "execute_result",
          "data": {
            "text/plain": [
              "123000.0"
            ]
          },
          "metadata": {
            "tags": []
          },
          "execution_count": 16
        }
      ]
    },
    {
      "cell_type": "markdown",
      "metadata": {
        "id": "4Fzdg4MrpEib"
      },
      "source": [
        "# try-except 구문 "
      ]
    },
    {
      "cell_type": "markdown",
      "metadata": {
        "id": "ekZVHkutptO9"
      },
      "source": [
        "프로그램 실행 중에 오류(예외)가 발생하는 경우 해결 방법:\n",
        "\n",
        "*    예외가 발생한 위치와 원인을 파악해서 예외가 발생하지 ㅇ낳도록 코드 수정. \n",
        "*    오류가 발생하더라도 프로그램이 (비정상적으로) 종료되지 않고 계속 실행될 수 있도록 처리\n",
        "\n",
        "\n",
        "```\n",
        "try:\n",
        "        실행할 코드들(블록) \n",
        "except [에러 이름 [as 별명]]:\n",
        "            에러가 발생했을 때 실행할 문장들(블록)\n",
        "[else:\n",
        "        try 블록이 에러없이 정상적으로 모두 실행됐을 때 실행할 문장들]\n",
        "[finally:\n",
        "        try블록 실행중 에러 발생 여부와 상관없이 항상 실행할 문장들]\n",
        "```\n",
        "\n"
      ]
    },
    {
      "cell_type": "code",
      "metadata": {
        "colab": {
          "base_uri": "https://localhost:8080/"
        },
        "id": "5qQCesf_pCDo",
        "outputId": "646f3be6-52b4-4235-8368-c9868b160a02"
      },
      "source": [
        " try:\n",
        "    x = float(input('숫자 x 입력>>>   '))\n",
        "    y = float(input('숫자 y 입력>>>   '))\n",
        "    print (f'{x} + {y} = {x + y}')\n",
        "    print (f'{x} - {y} = {x - y}')\n",
        "    print (f'{x} * {y} = {x * y}')\n",
        "    print (f'{x} / {y} = {x / y}')\n",
        "except Error:                           #모든 에러를 처리 \n",
        "    print('오류발생')"
      ],
      "execution_count": 23,
      "outputs": [
        {
          "output_type": "stream",
          "text": [
            "숫자 x 입력>>>   1\n",
            "숫자 y 입력>>>   1\n",
            "1.0 + 1.0 = 2.0\n",
            "1.0 - 1.0 = 0.0\n",
            "1.0 * 1.0 = 1.0\n",
            "1.0 / 1.0 = 1.0\n"
          ],
          "name": "stdout"
        }
      ]
    },
    {
      "cell_type": "code",
      "metadata": {
        "colab": {
          "base_uri": "https://localhost:8080/",
          "height": 317
        },
        "id": "pPiM40IsuwHh",
        "outputId": "8041a860-0b27-4c1b-aab7-5e8a36c6a06a"
      },
      "source": [
        " try:\n",
        "    x = float(input('숫자 x 입력>>>   '))\n",
        "    y = float(input('숫자 y 입력>>>   '))\n",
        "    print (f'{x} + {y} = {x + y}')\n",
        "    print (f'{x} - {y} = {x - y}')\n",
        "    print (f'{x} * {y} = {x * y}')\n",
        "    print (f'{x} / {y} = {x / y}')\n",
        "except ValueError:                  # ValueError 오류만 처리 \n",
        "    print('ValueError가 발생')"
      ],
      "execution_count": 27,
      "outputs": [
        {
          "output_type": "stream",
          "text": [
            "숫자 x 입력>>>   1\n",
            "숫자 y 입력>>>   0\n",
            "1.0 + 0.0 = 1.0\n",
            "1.0 - 0.0 = 1.0\n",
            "1.0 * 0.0 = 0.0\n"
          ],
          "name": "stdout"
        },
        {
          "output_type": "error",
          "ename": "ZeroDivisionError",
          "evalue": "ignored",
          "traceback": [
            "\u001b[0;31m---------------------------------------------------------------------------\u001b[0m",
            "\u001b[0;31mZeroDivisionError\u001b[0m                         Traceback (most recent call last)",
            "\u001b[0;32m<ipython-input-27-2cb89b65367b>\u001b[0m in \u001b[0;36m<module>\u001b[0;34m()\u001b[0m\n\u001b[1;32m      5\u001b[0m    \u001b[0mprint\u001b[0m \u001b[0;34m(\u001b[0m\u001b[0;34mf'{x} - {y} = {x - y}'\u001b[0m\u001b[0;34m)\u001b[0m\u001b[0;34m\u001b[0m\u001b[0;34m\u001b[0m\u001b[0m\n\u001b[1;32m      6\u001b[0m    \u001b[0mprint\u001b[0m \u001b[0;34m(\u001b[0m\u001b[0;34mf'{x} * {y} = {x * y}'\u001b[0m\u001b[0;34m)\u001b[0m\u001b[0;34m\u001b[0m\u001b[0;34m\u001b[0m\u001b[0m\n\u001b[0;32m----> 7\u001b[0;31m    \u001b[0mprint\u001b[0m \u001b[0;34m(\u001b[0m\u001b[0;34mf'{x} / {y} = {x / y}'\u001b[0m\u001b[0;34m)\u001b[0m\u001b[0;34m\u001b[0m\u001b[0;34m\u001b[0m\u001b[0m\n\u001b[0m\u001b[1;32m      8\u001b[0m \u001b[0;32mexcept\u001b[0m \u001b[0mValueError\u001b[0m\u001b[0;34m:\u001b[0m                  \u001b[0;31m# ValueError 오류만 처리\u001b[0m\u001b[0;34m\u001b[0m\u001b[0;34m\u001b[0m\u001b[0m\n\u001b[1;32m      9\u001b[0m    \u001b[0mprint\u001b[0m\u001b[0;34m(\u001b[0m\u001b[0;34m'ValueError가 발생'\u001b[0m\u001b[0;34m)\u001b[0m\u001b[0;34m\u001b[0m\u001b[0;34m\u001b[0m\u001b[0m\n",
            "\u001b[0;31mZeroDivisionError\u001b[0m: float division by zero"
          ]
        }
      ]
    },
    {
      "cell_type": "code",
      "metadata": {
        "colab": {
          "base_uri": "https://localhost:8080/"
        },
        "id": "BOu_VfM7xRBL",
        "outputId": "e41f24b5-7e12-43fa-9f27-d0c2672a60a6"
      },
      "source": [
        " try:\n",
        "    x = float(input('숫자 x 입력>>>   '))\n",
        "    y = float(input('숫자 y 입력>>>   '))\n",
        "    print (f'{x} + {y} = {x + y}')\n",
        "    print (f'{x} - {y} = {x - y}')\n",
        "    print (f'{x} * {y} = {x * y}')\n",
        "    print (f'{x} / {y} = {x / y}')\n",
        "except ValueError:\n",
        "    print('입력값은 숫자여야 합니다!')\n",
        "except ZeroDivisionError:\n",
        "    print('0으로는 나눌 수 없습니다.')"
      ],
      "execution_count": 1,
      "outputs": [
        {
          "output_type": "stream",
          "text": [
            "숫자 x 입력>>>   1\n",
            "숫자 y 입력>>>   \n",
            "입력값은 숫자여야 합니다!\n"
          ],
          "name": "stdout"
        }
      ]
    },
    {
      "cell_type": "code",
      "metadata": {
        "colab": {
          "base_uri": "https://localhost:8080/"
        },
        "id": "wSwFL684F9q-",
        "outputId": "1d5e281f-d955-4d6d-92e5-942fbcb5b5dd"
      },
      "source": [
        "try:\n",
        "    n = int(input('정수 입력>>>  '))\n",
        "    print('n = ', n)\n",
        "    print('[1] try 구문 끝')\n",
        "except ValueError as e:         #ValueError가 발생했을 때 \n",
        "    print('[2]', e)\n",
        "else:               # 오류가 발생하지 않았을 때 \n",
        "    print('[3] try에서 에러가 발생하지 않은 경우')\n",
        "finally:            # 항상 \n",
        "    print('[4] finally')\n"
      ],
      "execution_count": 4,
      "outputs": [
        {
          "output_type": "stream",
          "text": [
            "정수 입력>>>  2\n",
            "n =  2\n",
            "[1] try 구문 끝\n",
            "[3] try에서 에러가 발생하지 않은 경우\n",
            "[4] finally\n"
          ],
          "name": "stdout"
        }
      ]
    },
    {
      "cell_type": "markdown",
      "metadata": {
        "id": "PKgj5SGKJNeA"
      },
      "source": [
        "# try-except 응용 "
      ]
    },
    {
      "cell_type": "markdown",
      "metadata": {
        "id": "r-dz53nFJS6H"
      },
      "source": [
        "word counting"
      ]
    },
    {
      "cell_type": "code",
      "metadata": {
        "colab": {
          "base_uri": "https://localhost:8080/"
        },
        "id": "a1AQCxszJMiq",
        "outputId": "91e0ca88-7c6f-4b72-8d1a-eb6c4c0ecbb4"
      },
      "source": [
        "words = ['one', 'two', 'two', 'three', 'three', 'three']\n",
        "word_counts = {}      #empth dict\n",
        "for w in words:\n",
        "    try:\n",
        "       word_counts[w] += 1      #word_counts[w] = word_counts[w] + 1\n",
        "    except:\n",
        "        word_counts[w] = 1    # word_counts[w] = word_counts[w] + 1\n",
        "\n",
        "print(word_counts)"
      ],
      "execution_count": 8,
      "outputs": [
        {
          "output_type": "stream",
          "text": [
            "{'one': 1, 'two': 2, 'three': 3}\n"
          ],
          "name": "stdout"
        }
      ]
    },
    {
      "cell_type": "code",
      "metadata": {
        "colab": {
          "base_uri": "https://localhost:8080/"
        },
        "id": "8AoUyuRmLKrF",
        "outputId": "07212ba0-589b-4a87-9bc2-3653ffd9d2e1"
      },
      "source": [
        "while True:                #무한 반복문 \n",
        "    try:\n",
        "        n = int(input('정수 입력>>>  '))\n",
        "        print('n = ', n)\n",
        "        break                 # while 반복문 종료\n",
        "    except:\n",
        "        print('입력값은 정수여야 합니다!')"
      ],
      "execution_count": 11,
      "outputs": [
        {
          "output_type": "stream",
          "text": [
            "정수 입력>>>  3\n",
            "n =  3\n"
          ],
          "name": "stdout"
        }
      ]
    },
    {
      "cell_type": "code",
      "metadata": {
        "colab": {
          "base_uri": "https://localhost:8080/"
        },
        "id": "tkiAEXxROaNO",
        "outputId": "68baf0ce-2f2e-4da2-dc1f-7d11f0fdf2ac"
      },
      "source": [
        "while True:                #무한 반복문 \n",
        "    try:\n",
        "        n = int(input('정수 입력>>>  '))\n",
        "    except:                 # 에러가 발생한 경우\n",
        "        print('입력값은 정수여야 합니다!')\n",
        "    else:                       # 에러가 발생하지 않은 경우\n",
        "        print('n', n)\n",
        "        break                  # 무한 반목문 종료\n"
      ],
      "execution_count": 12,
      "outputs": [
        {
          "output_type": "stream",
          "text": [
            "정수 입력>>>  ㅁ\n",
            "입력값은 정수여야 합니다!\n",
            "정수 입력>>>  1\n",
            "n 1\n"
          ],
          "name": "stdout"
        }
      ]
    },
    {
      "cell_type": "markdown",
      "metadata": {
        "id": "HdqVoSaISgCH"
      },
      "source": [
        "# 사용자 정의 에러 생성 "
      ]
    },
    {
      "cell_type": "code",
      "metadata": {
        "colab": {
          "base_uri": "https://localhost:8080/"
        },
        "id": "L49Fjo6kSiKQ",
        "outputId": "fd9938c4-3d0b-454d-d2bd-915382a0edf6"
      },
      "source": [
        "try:\n",
        "    age = int(input('나이 입력>>> '))\n",
        "    if age < 0:         # 입력받은 값이 0보다 작으면 \n",
        "         raise ValueError(' 나이는 0보다 크거나 같아야 합니다')\n",
        "    print('나이: ', age)\n",
        "except ValueError as e:\n",
        "    print(e)"
      ],
      "execution_count": 18,
      "outputs": [
        {
          "output_type": "stream",
          "text": [
            "나이 입력>>> 뮤\n",
            "invalid literal for int() with base 10: '뮤'\n"
          ],
          "name": "stdout"
        }
      ]
    },
    {
      "cell_type": "code",
      "metadata": {
        "id": "krTeY_X2T70o"
      },
      "source": [
        ""
      ],
      "execution_count": null,
      "outputs": []
    }
  ]
}