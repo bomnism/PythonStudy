{
  "nbformat": 4,
  "nbformat_minor": 0,
  "metadata": {
    "colab": {
      "name": "py12_dict.ipynb",
      "provenance": [],
      "collapsed_sections": [],
      "authorship_tag": "ABX9TyN9CcFYM3kxJgMa/t25qXZ2",
      "include_colab_link": true
    },
    "kernelspec": {
      "name": "python3",
      "display_name": "Python 3"
    },
    "language_info": {
      "name": "python"
    }
  },
  "cells": [
    {
      "cell_type": "markdown",
      "metadata": {
        "id": "view-in-github",
        "colab_type": "text"
      },
      "source": [
        "<a href=\"https://colab.research.google.com/github/bomnism/PythonStudy/blob/main/py12_dict.ipynb\" target=\"_parent\"><img src=\"https://colab.research.google.com/assets/colab-badge.svg\" alt=\"Open In Colab\"/></a>"
      ]
    },
    {
      "cell_type": "markdown",
      "metadata": {
        "id": "YQ5ogv7zr8hm"
      },
      "source": [
        "# dict"
      ]
    },
    {
      "cell_type": "markdown",
      "metadata": {
        "id": "sRVyEREAsCPI"
      },
      "source": [
        "**dict**\n",
        "*    사전(dictionary)형식의 데이터 타입\n",
        "*    키(key)를 기반으로 값(value)을 저장하는 데이터 타입\n",
        "    *    list, tuple: index를 기반으로 값을 저장하는 데이터 타입\n",
        "    *    key의 역할은 list나 tuple에서 인덱스의 역할과 마찬가지로, 사전에 저장되어 있는 유일한 1개의 값을 찾아가기(참조하기) 위한 용도     "
      ]
    },
    {
      "cell_type": "markdown",
      "metadata": {
        "id": "teD1erLmt38Z"
      },
      "source": [
        "* list = [1, 2, 3, 4, ...]\n",
        "* tuple = (1, 2, 3, 4, ...)\n",
        "* dict = {key: value}"
      ]
    },
    {
      "cell_type": "code",
      "metadata": {
        "colab": {
          "base_uri": "https://localhost:8080/"
        },
        "id": "T5p_2MkZtbfs",
        "outputId": "6262b7c4-322b-400d-f494-c22af123a594"
      },
      "source": [
        "students = {1: '홍길동', 2: '오쌤', 10: 'Scott'}\n",
        "print(students)\n",
        "print(type(students))\n",
        "print(students.keys())      # dict의 key들 \n",
        "print(students.values())    # dict의 value들 "
      ],
      "execution_count": null,
      "outputs": [
        {
          "output_type": "stream",
          "text": [
            "{1: '홍길동', 2: '오쌤', 10: 'Scott'}\n",
            "<class 'dict'>\n",
            "dict_keys([1, 2, 10])\n"
          ],
          "name": "stdout"
        }
      ]
    },
    {
      "cell_type": "code",
      "metadata": {
        "colab": {
          "base_uri": "https://localhost:8080/"
        },
        "id": "btXnYWoFul78",
        "outputId": "6a71945e-27f6-4959-ac7e-33e808ab8947"
      },
      "source": [
        "# dict[key] - dict에서 key에 해당하는 value\n",
        "print(students[2])"
      ],
      "execution_count": null,
      "outputs": [
        {
          "output_type": "stream",
          "text": [
            "오쌤\n"
          ],
          "name": "stdout"
        }
      ]
    },
    {
      "cell_type": "code",
      "metadata": {
        "colab": {
          "base_uri": "https://localhost:8080/"
        },
        "id": "Qh35rdL3weC6",
        "outputId": "d159aab6-48aa-4c63-8a1b-430ff1f17b26"
      },
      "source": [
        "#  dict[key] = value \n",
        "#  1) key가 dict에 없는 경우, 새로운 key: value 아이템을 dict에 추가 \n",
        "students[11] = 'tiger'\n",
        "print(students)\n",
        "\n",
        "#  2) key가 dict에 있는 경우, 기존 값을 새로운 값으로 변경 \n",
        "students[1] = '김길동'\n",
        "print(students)"
      ],
      "execution_count": null,
      "outputs": [
        {
          "output_type": "stream",
          "text": [
            "{1: '김길동', 2: '오쌤', 10: 'Scott', 11: 'tiger'}\n",
            "{1: '김길동', 2: '오쌤', 10: 'Scott', 11: 'tiger'}\n"
          ],
          "name": "stdout"
        }
      ]
    },
    {
      "cell_type": "code",
      "metadata": {
        "colab": {
          "base_uri": "https://localhost:8080/"
        },
        "id": "jVLlKAR-17VZ",
        "outputId": "fff7cc9f-55eb-4a35-89b2-13e3f9e2eab2"
      },
      "source": [
        "book = {'title' : '혼자 공부하는 파이썬', \n",
        "               'author': '윤인성', \n",
        "               'price' : 18000}\n",
        "print(book)"
      ],
      "execution_count": null,
      "outputs": [
        {
          "output_type": "stream",
          "text": [
            "{'title': '혼자 공부하는 파이썬', 'author': '윤인성', 'price': 18000}\n"
          ],
          "name": "stdout"
        }
      ]
    },
    {
      "cell_type": "code",
      "metadata": {
        "colab": {
          "base_uri": "https://localhost:8080/"
        },
        "id": "BBUNOmgG3Nh4",
        "outputId": "8d900cf2-5e1b-4a3d-f481-2512776a51e7"
      },
      "source": [
        "book.keys()         # dict의 key들을 확인"
      ],
      "execution_count": null,
      "outputs": [
        {
          "output_type": "execute_result",
          "data": {
            "text/plain": [
              "dict_keys(['title', 'author', 'price'])"
            ]
          },
          "metadata": {
            "tags": []
          },
          "execution_count": 14
        }
      ]
    },
    {
      "cell_type": "code",
      "metadata": {
        "colab": {
          "base_uri": "https://localhost:8080/"
        },
        "id": "w_B9FPR330OL",
        "outputId": "547dbe30-d34e-4b63-ef3f-ebff57e4357a"
      },
      "source": [
        "book.values()     # dict의 value들만 확인"
      ],
      "execution_count": null,
      "outputs": [
        {
          "output_type": "execute_result",
          "data": {
            "text/plain": [
              "dict_values(['혼자 공부하는 파이썬', '윤인성', 18000])"
            ]
          },
          "metadata": {
            "tags": []
          },
          "execution_count": 16
        }
      ]
    },
    {
      "cell_type": "code",
      "metadata": {
        "colab": {
          "base_uri": "https://localhost:8080/"
        },
        "id": "oFLOeHWG35zJ",
        "outputId": "3996641d-9ba6-4789-e41f-e1dd944f1d9d"
      },
      "source": [
        "book.items( )      # (key, value)   item들의 리스트 "
      ],
      "execution_count": null,
      "outputs": [
        {
          "output_type": "execute_result",
          "data": {
            "text/plain": [
              "dict_items([('title', '혼자 공부하는 파이썬'), ('author', '윤인성'), ('price', 18000)])"
            ]
          },
          "metadata": {
            "tags": []
          },
          "execution_count": 19
        }
      ]
    },
    {
      "cell_type": "code",
      "metadata": {
        "colab": {
          "base_uri": "https://localhost:8080/"
        },
        "id": "JeaLk-HA4vYX",
        "outputId": "d39a84ad-3ac5-4697-f0a7-e049431959fa"
      },
      "source": [
        "# dict.get(key) : key에 해당하는 value를 반환\n",
        "print(book.get( 'title' ))\n",
        "print(book['title'])"
      ],
      "execution_count": null,
      "outputs": [
        {
          "output_type": "stream",
          "text": [
            "혼자 공부하는 파이썬\n",
            "혼자 공부하는 파이썬\n"
          ],
          "name": "stdout"
        }
      ]
    },
    {
      "cell_type": "code",
      "metadata": {
        "colab": {
          "base_uri": "https://localhost:8080/"
        },
        "id": "xiNcy7i04y-Y",
        "outputId": "dbd9a88a-f5b3-45b4-d854-689c4e898a57"
      },
      "source": [
        "# book['isbn']\n",
        "# dict[key]를 사용하는 경우, key가 dict에 없는 경우에는 KeyError가 발생함. \n",
        "\n",
        "print(book.get('isbn'))\n",
        "#> dict.get(key) 메서드를 사용하는 경우, key가 dict에 없는 경우에 에러 대신 None을 반환. "
      ],
      "execution_count": null,
      "outputs": [
        {
          "output_type": "stream",
          "text": [
            "None\n"
          ],
          "name": "stdout"
        }
      ]
    },
    {
      "cell_type": "code",
      "metadata": {
        "id": "9B3uj5N86pIl"
      },
      "source": [
        "# # key 변경 방법 -> 그 key값을 삭제한 후 넣는 방법\n",
        "# list.pop()\n",
        "# list.remove()\n",
        "# index의 경우 "
      ],
      "execution_count": null,
      "outputs": []
    },
    {
      "cell_type": "code",
      "metadata": {
        "colab": {
          "base_uri": "https://localhost:8080/"
        },
        "id": "YGS7HEwi7M5I",
        "outputId": "c5ce4484-b239-45d0-f703-a2f897891842"
      },
      "source": [
        "# book.pop('price')   # key에 해당하는 아이템(key: value)삭제 \n",
        "print(book)"
      ],
      "execution_count": null,
      "outputs": [
        {
          "output_type": "stream",
          "text": [
            "{'title': '혼자 공부하는 파이썬', 'author': '윤인성', '가격': 18000}\n"
          ],
          "name": "stdout"
        }
      ]
    },
    {
      "cell_type": "code",
      "metadata": {
        "colab": {
          "base_uri": "https://localhost:8080/"
        },
        "id": "TzQhOzHt8Fzi",
        "outputId": "0023d5ca-4b4a-411e-d1f5-dbb3fe0d2339"
      },
      "source": [
        "book['가격'] = 18000        # dict에 새로운 아이템(key: value)추가 \n",
        "print(book)"
      ],
      "execution_count": null,
      "outputs": [
        {
          "output_type": "stream",
          "text": [
            "{'title': '혼자 공부하는 파이썬', 'author': '윤인성', '가격': 18000}\n"
          ],
          "name": "stdout"
        }
      ]
    },
    {
      "cell_type": "markdown",
      "metadata": {
        "id": "swFz20p-8d6J"
      },
      "source": [
        "### dic는 key와 value 모두 다양한 타입의 자료들을 사용할 수 있음. "
      ]
    },
    {
      "cell_type": "code",
      "metadata": {
        "colab": {
          "base_uri": "https://localhost:8080/"
        },
        "id": "nVI6qJ2t8kjh",
        "outputId": "c45d43ca-aa1a-488a-ee27-f333f3934f0d"
      },
      "source": [
        "contact = {'name' : '봄니',\n",
        "                    'phone' : ['010-0000-0000', '02-0000-0000', '02-1234-5678'],\n",
        "                    'email' : {'personal' : 'starletbm@naver.com', 'company' : 'media.indemb@gmail.com'}}\n",
        "\n",
        "print(contact)"
      ],
      "execution_count": null,
      "outputs": [
        {
          "output_type": "stream",
          "text": [
            "{'name': '봄니', 'phone': ['010-0000-0000', '02-0000-0000', '02-1234-5678'], 'email': {'personal': 'starletbm@naver.com', 'company': 'media.indemb@gmail.com'}}\n"
          ],
          "name": "stdout"
        }
      ]
    },
    {
      "cell_type": "code",
      "metadata": {
        "colab": {
          "base_uri": "https://localhost:8080/"
        },
        "id": "PClcTa_a8w4s",
        "outputId": "28fdf40c-9eab-4f13-d7ce-24312a5dc182"
      },
      "source": [
        "print(contact['phone'])     #> 리스트(list)\n",
        "print(contact['phone'] [1])   #> 인덱스 - 리스트의 원소를 참조 "
      ],
      "execution_count": null,
      "outputs": [
        {
          "output_type": "stream",
          "text": [
            "['010-0000-0000', '02-0000-0000', '02-1234-5678']\n",
            "02-0000-0000\n"
          ],
          "name": "stdout"
        }
      ]
    },
    {
      "cell_type": "code",
      "metadata": {
        "colab": {
          "base_uri": "https://localhost:8080/"
        },
        "id": "Prvb18rr-202",
        "outputId": "7e0a56c0-621a-4bd1-c3e8-014dd6770a35"
      },
      "source": [
        "print(contact['email'])        #> dict\n",
        "print(contact['email']['company'])      #> key -> value를 참조 "
      ],
      "execution_count": null,
      "outputs": [
        {
          "output_type": "stream",
          "text": [
            "{'personal': 'starletbm@naver.com', 'company': 'media.indemb@gmail.com'}\n",
            "media.indemb@gmail.com\n"
          ],
          "name": "stdout"
        }
      ]
    },
    {
      "cell_type": "code",
      "metadata": {
        "colab": {
          "base_uri": "https://localhost:8080/"
        },
        "id": "zW5NSEWrDQoP",
        "outputId": "1969122a-6c69-46c0-885b-3aa2a1b7c75d"
      },
      "source": [
        "#  list\n",
        "numbers = [10, 5, 7]\n",
        "print(numbers[0])      # list_name[index]"
      ],
      "execution_count": null,
      "outputs": [
        {
          "output_type": "stream",
          "text": [
            "10\n"
          ],
          "name": "stdout"
        }
      ]
    },
    {
      "cell_type": "code",
      "metadata": {
        "colab": {
          "base_uri": "https://localhost:8080/"
        },
        "id": "SeCEScH2Dwd-",
        "outputId": "7bcd603f-4cb9-4bb5-8fa1-549ebc9c1389"
      },
      "source": [
        "data = {'name' : '봄', \n",
        "                'age' : 16,  1: 100, 2: 'abc'}          # dict\n",
        "print(data['name'])\n",
        "print(data[1])"
      ],
      "execution_count": null,
      "outputs": [
        {
          "output_type": "stream",
          "text": [
            "봄\n",
            "100\n"
          ],
          "name": "stdout"
        }
      ]
    },
    {
      "cell_type": "code",
      "metadata": {
        "colab": {
          "base_uri": "https://localhost:8080/"
        },
        "id": "BDWLArslFrFy",
        "outputId": "79b0f9bb-6cdf-4b4f-a29b-1870a0914afc"
      },
      "source": [
        "s = '안녕하세요'\n",
        "print(s)"
      ],
      "execution_count": null,
      "outputs": [
        {
          "output_type": "stream",
          "text": [
            "안녕하세요\n"
          ],
          "name": "stdout"
        }
      ]
    },
    {
      "cell_type": "code",
      "metadata": {
        "colab": {
          "base_uri": "https://localhost:8080/",
          "height": 35
        },
        "id": "Kdx0dJluF7fx",
        "outputId": "b239c72c-9ef8-413a-8b73-c0256590bf18"
      },
      "source": [
        "s 문장(statement) vs 식(expression)"
      ],
      "execution_count": null,
      "outputs": [
        {
          "output_type": "execute_result",
          "data": {
            "application/vnd.google.colaboratory.intrinsic+json": {
              "type": "string"
            },
            "text/plain": [
              "'안녕하세요'"
            ]
          },
          "metadata": {
            "tags": []
          },
          "execution_count": 54
        }
      ]
    },
    {
      "cell_type": "markdown",
      "metadata": {
        "id": "rQhta8Q0HHoZ"
      },
      "source": [
        "# dic와 for반복문"
      ]
    },
    {
      "cell_type": "code",
      "metadata": {
        "id": "oypF94vHF8xc"
      },
      "source": [
        "for 변수 in 반복가능한타입:\n",
        "        코드 블록"
      ],
      "execution_count": null,
      "outputs": []
    },
    {
      "cell_type": "code",
      "metadata": {
        "id": "skHhWk4_I1jQ"
      },
      "source": [
        "menu = {'짜장면' : 5000, '짬뽕' : 6000, '볶음밥' : 6000}"
      ],
      "execution_count": null,
      "outputs": []
    },
    {
      "cell_type": "code",
      "metadata": {
        "colab": {
          "base_uri": "https://localhost:8080/"
        },
        "id": "ssZWybvJJVbs",
        "outputId": "a78fa4c2-3d45-4216-c44f-4d8f355bbd62"
      },
      "source": [
        "for x in menu:\n",
        "        print(x)            # dict의 key를 꺼내준다\n",
        "\n",
        "# for-in구문에서 dict를 사용하면 key를 iteration 한다."
      ],
      "execution_count": null,
      "outputs": [
        {
          "output_type": "stream",
          "text": [
            "짜장면\n",
            "짬뽕\n",
            "볶음밥\n"
          ],
          "name": "stdout"
        }
      ]
    },
    {
      "cell_type": "code",
      "metadata": {
        "colab": {
          "base_uri": "https://localhost:8080/"
        },
        "id": "wWMqXhpbJyBJ",
        "outputId": "a143aabb-3e51-4071-9b04-fc8261fb3163"
      },
      "source": [
        "for key in menu:\n",
        "    print(key, ':', menu[key])     # menu[key] 메뉴에서 짜장면이 가지고 있는 value를 찾아라 \n",
        "    "
      ],
      "execution_count": null,
      "outputs": [
        {
          "output_type": "stream",
          "text": [
            "짜장면 : 5000\n",
            "짬뽕 : 6000\n",
            "볶음밥 : 6000\n"
          ],
          "name": "stdout"
        }
      ]
    },
    {
      "cell_type": "code",
      "metadata": {
        "colab": {
          "base_uri": "https://localhost:8080/"
        },
        "id": "yOpd1TA9Mq5P",
        "outputId": "fc047e7d-cc31-4e74-b293-85d0d0ed5b21"
      },
      "source": [
        "for k, v in menu.items( ):          # [('짜장면', 5000), ('짬뽕', 6000), ('볶음밥', 6000)]\n",
        "    print(k, ':', v)"
      ],
      "execution_count": null,
      "outputs": [
        {
          "output_type": "stream",
          "text": [
            "짜장면 : 5000\n",
            "짬뽕 : 6000\n",
            "볶음밥 : 6000\n"
          ],
          "name": "stdout"
        }
      ]
    },
    {
      "cell_type": "markdown",
      "metadata": {
        "id": "1jt1fvQCS6tq"
      },
      "source": [
        "# Dictionary Comprehension"
      ]
    },
    {
      "cell_type": "code",
      "metadata": {
        "id": "kc9ED8XPS9oO"
      },
      "source": [
        "emp_no = [101, 102, 201, 202]   # 사번 리스트 \n",
        "emp_name = ['King', 'Scott', 'Allen', 'Bomni']"
      ],
      "execution_count": null,
      "outputs": []
    },
    {
      "cell_type": "code",
      "metadata": {
        "colab": {
          "base_uri": "https://localhost:8080/"
        },
        "id": "5AGzwFauTk3J",
        "outputId": "0516352c-44a8-468d-830e-8a428b6e3074"
      },
      "source": [
        "# 1) empty dict 생성\n",
        "employees = { }   #employees = dict()\n",
        "\n",
        "# 2) emp_no, emp_name 리스트의 원소들을 차례로 반복하면서, employees[key] = value\n",
        "for k, v in zip(emp_no, emp_name):\n",
        "    employees[k] = v\n",
        "\n",
        "print(employees)"
      ],
      "execution_count": null,
      "outputs": [
        {
          "output_type": "stream",
          "text": [
            "{101: 'King', 102: 'Scott', 201: 'Allen', 202: 'Bomni'}\n"
          ],
          "name": "stdout"
        }
      ]
    },
    {
      "cell_type": "code",
      "metadata": {
        "colab": {
          "base_uri": "https://localhost:8080/"
        },
        "id": "rj1bvNbgUIUC",
        "outputId": "ce996475-85b6-4e0c-a9b2-f5adf7e4c36b"
      },
      "source": [
        "# dictionary comprehension: {k : v for, k, v iterable}  [ 값 for x in list ]\n",
        "emp = {no: name for no, name in zip(emp_no, emp_name)}      # emp = {k: v  for k, v. in zip(emp_no, emp_name)}\n",
        "print(emp) "
      ],
      "execution_count": null,
      "outputs": [
        {
          "output_type": "stream",
          "text": [
            "{101: 'King', 102: 'Scott', 201: 'Allen', 202: 'Bomni'}\n"
          ],
          "name": "stdout"
        }
      ]
    },
    {
      "cell_type": "code",
      "metadata": {
        "colab": {
          "base_uri": "https://localhost:8080/"
        },
        "id": "HSGAcPuhWguA",
        "outputId": "c46fd001-9f54-43c0-e719-57e3f8fe38fd"
      },
      "source": [
        "fruits = ['apple', 'banana', 'cherry', 'pineapple', 'watermelon', '딸기', '복숭아']\n",
        "print(fruits)\n",
        "# {과일이름: key, 이름길이: values} 형식의  dict 생성 "
      ],
      "execution_count": null,
      "outputs": [
        {
          "output_type": "stream",
          "text": [
            "['apple', 'banana', 'cherry', 'pineapple', 'watermelon', '딸기', '복숭아']\n"
          ],
          "name": "stdout"
        }
      ]
    },
    {
      "cell_type": "code",
      "metadata": {
        "colab": {
          "base_uri": "https://localhost:8080/"
        },
        "id": "w6oA2NgFXlPs",
        "outputId": "48985364-5917-415c-f82f-515b6605c1cc"
      },
      "source": [
        "Fruits = {'apple' : len('apple'), 'banana' : len('banana'), 'cherry' : len('cherry'), 'pineapple' : len('pineapple'), \n",
        "                    'watermelon' : len('watermelon'), '딸기' : len('딸기'), '복숭아' : len('복숭아')}\n",
        "print(Fruits)"
      ],
      "execution_count": null,
      "outputs": [
        {
          "output_type": "stream",
          "text": [
            "{'apple': 5, 'banana': 6, 'cherry': 6, 'pineapple': 9, 'watermelon': 10, '딸기': 2, '복숭아': 3}\n"
          ],
          "name": "stdout"
        }
      ]
    },
    {
      "cell_type": "code",
      "metadata": {
        "colab": {
          "base_uri": "https://localhost:8080/",
          "height": 130
        },
        "id": "rJqhx-NxWtiE",
        "outputId": "42caa16f-2a33-459c-f339-3196d4c468ec"
      },
      "source": [
        "# empty dict 생성\n",
        "fruit_lengths = { }\n",
        "\n",
        "for x in fruits :   #fruits 원소들을 반복하면서 \n",
        "    print(x, len(x))           #fruit_lengths[과일이름] = 과일이름 길이 \n",
        "\n",
        "  # 같결 \n",
        "  fruit_lengths = {}\n",
        "  for x in fruits:\n",
        "        fruit_lengths[x] = len(x)\n",
        "\n",
        "    print(fruit_lengths)  "
      ],
      "execution_count": null,
      "outputs": [
        {
          "output_type": "error",
          "ename": "IndentationError",
          "evalue": "ignored",
          "traceback": [
            "\u001b[0;36m  File \u001b[0;32m\"<ipython-input-96-c747adf981c0>\"\u001b[0;36m, line \u001b[0;32m8\u001b[0m\n\u001b[0;31m    fruit_lengths = {}\u001b[0m\n\u001b[0m                      ^\u001b[0m\n\u001b[0;31mIndentationError\u001b[0m\u001b[0;31m:\u001b[0m unindent does not match any outer indentation level\n"
          ]
        }
      ]
    },
    {
      "cell_type": "code",
      "metadata": {
        "colab": {
          "base_uri": "https://localhost:8080/"
        },
        "id": "_0Q6IDoFZ8g3",
        "outputId": "782098f9-ecea-452e-b34c-c18a60a18c05"
      },
      "source": [
        "fruit_length2 = {x : len(x) for x in fruits}\n",
        "print(fruit_length2)"
      ],
      "execution_count": null,
      "outputs": [
        {
          "output_type": "stream",
          "text": [
            "{'apple': 5, 'banana': 6, 'cherry': 6, 'pineapple': 9, 'watermelon': 10, '딸기': 2, '복숭아': 3}\n"
          ],
          "name": "stdout"
        }
      ]
    },
    {
      "cell_type": "markdown",
      "metadata": {
        "id": "UdOJrDN0XFjL"
      },
      "source": [
        ""
      ]
    },
    {
      "cell_type": "code",
      "metadata": {
        "id": "nE7cSphxTPOq"
      },
      "source": [
        "words = ['one', 'little', 'two', 'little', 'three', 'little', 'indian', 'indian']"
      ],
      "execution_count": 2,
      "outputs": []
    },
    {
      "cell_type": "code",
      "metadata": {
        "colab": {
          "base_uri": "https://localhost:8080/"
        },
        "id": "SHZjInh5TB7f",
        "outputId": "a0ea8688-be91-43c9-b3af-6c9063710ab3"
      },
      "source": [
        "# empty dict 생성\n",
        "word_counts = {}    # word_counts = dict( )\n",
        "\n",
        "for w in words:                       # 리스트 words가 가지고 있는 문자열 w에 대해 반복하면서 \n",
        "    if w in word_counts:         # 문자열 w가 word_counts의 key로 존재하는지 검사 \n",
        "        word_counts[w] += 1     # 단어 등장 횟수를 1 증가 \n",
        "    else:                                      # 문자열 w가 처음 등장한 경우\n",
        "        word_counts[w] = 1      # 단어 등장 횟수를 1로 설정 \n",
        "    print(word_counts)"
      ],
      "execution_count": 3,
      "outputs": [
        {
          "output_type": "stream",
          "text": [
            "{'one': 1}\n",
            "{'one': 1, 'little': 1}\n",
            "{'one': 1, 'little': 1, 'two': 1}\n",
            "{'one': 1, 'little': 2, 'two': 1}\n",
            "{'one': 1, 'little': 2, 'two': 1, 'three': 1}\n",
            "{'one': 1, 'little': 3, 'two': 1, 'three': 1}\n",
            "{'one': 1, 'little': 3, 'two': 1, 'three': 1, 'indian': 1}\n",
            "{'one': 1, 'little': 3, 'two': 1, 'three': 1, 'indian': 2}\n"
          ],
          "name": "stdout"
        }
      ]
    },
    {
      "cell_type": "code",
      "metadata": {
        "id": "bvCRyTlAWZnZ"
      },
      "source": [
        "from collections import defaultdict\n",
        "# collections 모듈에서 defaultdict 데이터 타입을 import "
      ],
      "execution_count": 6,
      "outputs": []
    },
    {
      "cell_type": "code",
      "metadata": {
        "colab": {
          "base_uri": "https://localhost:8080/"
        },
        "id": "cW59IRswbe__",
        "outputId": "07fdb523-e6a0-40a3-ad93-3810ef240a28"
      },
      "source": [
        "word_counts2 = defaultdict(int)\n",
        "# dictionary의 value의 데이터 타입은 int임을 설정 \n",
        "for w in words:\n",
        "    word_counts2[w] += 1        #word_counts2[w] = word_counts2[w] + 1\n",
        "    print(word_counts2)"
      ],
      "execution_count": 8,
      "outputs": [
        {
          "output_type": "stream",
          "text": [
            "defaultdict(<class 'int'>, {'one': 1})\n",
            "defaultdict(<class 'int'>, {'one': 1, 'little': 1})\n",
            "defaultdict(<class 'int'>, {'one': 1, 'little': 1, 'two': 1})\n",
            "defaultdict(<class 'int'>, {'one': 1, 'little': 2, 'two': 1})\n",
            "defaultdict(<class 'int'>, {'one': 1, 'little': 2, 'two': 1, 'three': 1})\n",
            "defaultdict(<class 'int'>, {'one': 1, 'little': 3, 'two': 1, 'three': 1})\n",
            "defaultdict(<class 'int'>, {'one': 1, 'little': 3, 'two': 1, 'three': 1, 'indian': 1})\n",
            "defaultdict(<class 'int'>, {'one': 1, 'little': 3, 'two': 1, 'three': 1, 'indian': 2})\n"
          ],
          "name": "stdout"
        }
      ]
    },
    {
      "cell_type": "code",
      "metadata": {
        "colab": {
          "base_uri": "https://localhost:8080/"
        },
        "id": "tZV9HrGjbpV2",
        "outputId": "953c2dc0-0dff-4f9d-b916-5c30a35ba7f0"
      },
      "source": [
        "# list가 가지고 있는 count를 쓰는 것 \n",
        "word_counts3 = {}\n",
        "for w in words:\n",
        "    # print(w, words.count(w))\n",
        "    word_counts3[w] = words.count(w)\n",
        "    print(word_counts3)"
      ],
      "execution_count": 12,
      "outputs": [
        {
          "output_type": "stream",
          "text": [
            "{'one': 1}\n",
            "{'one': 1, 'little': 3}\n",
            "{'one': 1, 'little': 3, 'two': 1}\n",
            "{'one': 1, 'little': 3, 'two': 1}\n",
            "{'one': 1, 'little': 3, 'two': 1, 'three': 1}\n",
            "{'one': 1, 'little': 3, 'two': 1, 'three': 1}\n",
            "{'one': 1, 'little': 3, 'two': 1, 'three': 1, 'indian': 2}\n",
            "{'one': 1, 'little': 3, 'two': 1, 'three': 1, 'indian': 2}\n"
          ],
          "name": "stdout"
        }
      ]
    },
    {
      "cell_type": "code",
      "metadata": {
        "colab": {
          "base_uri": "https://localhost:8080/"
        },
        "id": "_bbK0GBFgSH0",
        "outputId": "e83cbd24-a919-49e2-af32-c78636f218d7"
      },
      "source": [
        "word_counts4 = {w: words.count(w) for w in words}\n",
        "print(word_counts4)"
      ],
      "execution_count": 14,
      "outputs": [
        {
          "output_type": "stream",
          "text": [
            "{'one': 1, 'little': 3, 'two': 1, 'three': 1, 'indian': 2}\n"
          ],
          "name": "stdout"
        }
      ]
    }
  ]
}