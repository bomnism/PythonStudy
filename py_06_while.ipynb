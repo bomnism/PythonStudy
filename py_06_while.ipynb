{
  "nbformat": 4,
  "nbformat_minor": 0,
  "metadata": {
    "colab": {
      "name": "py_06_while.ipynb",
      "provenance": [],
      "collapsed_sections": [],
      "authorship_tag": "ABX9TyOGAbnVkiU7rw21LqE7/7CM",
      "include_colab_link": true
    },
    "kernelspec": {
      "name": "python3",
      "display_name": "Python 3"
    },
    "language_info": {
      "name": "python"
    }
  },
  "cells": [
    {
      "cell_type": "markdown",
      "metadata": {
        "id": "view-in-github",
        "colab_type": "text"
      },
      "source": [
        "<a href=\"https://colab.research.google.com/github/bomnism/PythonStudy/blob/main/py_06_while.ipynb\" target=\"_parent\"><img src=\"https://colab.research.google.com/assets/colab-badge.svg\" alt=\"Open In Colab\"/></a>"
      ]
    },
    {
      "cell_type": "markdown",
      "metadata": {
        "id": "Yrw4qdGP5rVp"
      },
      "source": [
        "##while 반복문"
      ]
    },
    {
      "cell_type": "markdown",
      "metadata": {
        "id": "hMVd2WCa5vGk"
      },
      "source": [
        "\n",
        "\n",
        "```\n",
        "[초기화 문장]\n",
        "while 조건식: \n",
        "          조건식을 만족하는 동안에(조건식이 True인 동안에) 반복할 코드 블록(문장들)\n",
        "          [조건을 변경할 수 있는 문장] \n",
        "```\n",
        "\n"
      ]
    },
    {
      "cell_type": "code",
      "metadata": {
        "colab": {
          "base_uri": "https://localhost:8080/"
        },
        "id": "jcRC_Wjb6RKf",
        "outputId": "c052dbc1-c77e-4040-debd-9a132f1686f3"
      },
      "source": [
        "# 1부터 5까지 한줄씩 출력\n",
        "for x in range(1, 6):\n",
        "  print(x)"
      ],
      "execution_count": null,
      "outputs": [
        {
          "output_type": "stream",
          "text": [
            "1\n",
            "2\n",
            "3\n",
            "4\n",
            "5\n"
          ],
          "name": "stdout"
        }
      ]
    },
    {
      "cell_type": "code",
      "metadata": {
        "colab": {
          "base_uri": "https://localhost:8080/"
        },
        "id": "svY50b9I6i06",
        "outputId": "49c6e731-57d0-4048-9421-4421ffcc7fe0"
      },
      "source": [
        "x = 1\n",
        "while x < 6:\n",
        "        print(x)        # 여기까지는 1을 계속 출력(무한루프)\n",
        "        x =  x +  1    # x +=1 (복합 할당 연산자 compound assignment operator)"
      ],
      "execution_count": null,
      "outputs": [
        {
          "output_type": "stream",
          "text": [
            "1\n",
            "2\n",
            "3\n",
            "4\n",
            "5\n"
          ],
          "name": "stdout"
        }
      ]
    },
    {
      "cell_type": "markdown",
      "metadata": {
        "id": "EC3YcsBD9HSA"
      },
      "source": [
        "10 미만의 홀수를 출력하는 코드를 while문을 이용하여 만들어라 "
      ]
    },
    {
      "cell_type": "code",
      "metadata": {
        "colab": {
          "base_uri": "https://localhost:8080/"
        },
        "id": "8kEbEDUB9Pxm",
        "outputId": "213bfe36-c1f1-4b96-df0c-1ccdaf98aac3"
      },
      "source": [
        "x = 1\n",
        "while x  < 10:\n",
        "      print( x )\n",
        "      x = x+2        \n",
        "      \n",
        "n = 1    #시작값\n",
        "while n < 10:\n",
        "        if n % 2 == 1:    # 2로 나눈 나머지가 1이면(홀수이면)\n",
        "            print(n)          # 출력\n",
        "        n += 1                # 2, 4, 8 출력 안 함 (n값을 1 증가시킴)\n",
        "\n",
        "n = 0\n",
        "while n < 5:\n",
        "  "
      ],
      "execution_count": 5,
      "outputs": [
        {
          "output_type": "stream",
          "text": [
            "1\n",
            "3\n",
            "5\n",
            "7\n",
            "9\n",
            "1\n",
            "3\n",
            "5\n",
            "7\n",
            "9\n"
          ],
          "name": "stdout"
        }
      ]
    },
    {
      "cell_type": "markdown",
      "metadata": {
        "id": "l_d_VjkG9QV1"
      },
      "source": [
        "아래와 같이 출력\n",
        "\n",
        "\n",
        "```\n",
        "*\n",
        "**\n",
        "***\n",
        "****\n",
        "*****\n",
        "```\n",
        "\n"
      ]
    },
    {
      "cell_type": "code",
      "metadata": {
        "colab": {
          "base_uri": "https://localhost:8080/"
        },
        "id": "sUQpr5St9U6C",
        "outputId": "2cd037bb-b8c5-4a00-b213-a7bd7552f0db"
      },
      "source": [
        "x = 1\n",
        "while x < 6:\n",
        "    print('*' * x)\n",
        "    x +=1"
      ],
      "execution_count": 9,
      "outputs": [
        {
          "output_type": "stream",
          "text": [
            "*\n",
            "**\n",
            "***\n",
            "****\n",
            "*****\n"
          ],
          "name": "stdout"
        }
      ]
    },
    {
      "cell_type": "markdown",
      "metadata": {
        "id": "wRUHCYqZ9Vlz"
      },
      "source": [
        "구구단 12단을 출력 "
      ]
    },
    {
      "cell_type": "code",
      "metadata": {
        "colab": {
          "base_uri": "https://localhost:8080/"
        },
        "id": "JQvmxkZj-J8i",
        "outputId": "e420b89b-4dc0-4be1-dfc5-1c273656c257"
      },
      "source": [
        "dan = 12\n",
        "n =1\n",
        "while n <= 12:      # while n < 13:\n",
        "        print(f' {dan} x {n} = {dan * n}')\n",
        "        n += 1"
      ],
      "execution_count": 11,
      "outputs": [
        {
          "output_type": "stream",
          "text": [
            " 12 x 1 = 12\n",
            " 12 x 2 = 24\n",
            " 12 x 3 = 36\n",
            " 12 x 4 = 48\n",
            " 12 x 5 = 60\n",
            " 12 x 6 = 72\n",
            " 12 x 7 = 84\n",
            " 12 x 8 = 96\n",
            " 12 x 9 = 108\n",
            " 12 x 10 = 120\n",
            " 12 x 11 = 132\n",
            " 12 x 12 = 144\n"
          ],
          "name": "stdout"
        }
      ]
    },
    {
      "cell_type": "code",
      "metadata": {
        "id": "nMa_gEpT-QXm"
      },
      "source": [
        ""
      ],
      "execution_count": null,
      "outputs": []
    },
    {
      "cell_type": "markdown",
      "metadata": {
        "id": "m9WCDxOcl6Ue"
      },
      "source": [
        "2~9단 출력"
      ]
    },
    {
      "cell_type": "code",
      "metadata": {
        "colab": {
          "base_uri": "https://localhost:8080/"
        },
        "id": "_REdllONl82Q",
        "outputId": "78ee9280-00ab-4913-cff8-02325ce2befa"
      },
      "source": [
        "dan = 2     # 단의 사작값\n",
        "while dan < 10:    # 9단까지 \n",
        "      print(f'--- {dan}단 ---')\n",
        "      n = 1     # 단에서 곱해지는 숫자 시작값\n",
        "      while n < 10:  \n",
        "            print(f'{dan} x {n} = {dan * n}')\n",
        "            n += 1\n",
        "      dan += 1"
      ],
      "execution_count": 17,
      "outputs": [
        {
          "output_type": "stream",
          "text": [
            "--- 2단 ---\n",
            "2 x 1 = 2\n",
            "2 x 2 = 4\n",
            "2 x 3 = 6\n",
            "2 x 4 = 8\n",
            "2 x 5 = 10\n",
            "2 x 6 = 12\n",
            "2 x 7 = 14\n",
            "2 x 8 = 16\n",
            "2 x 9 = 18\n",
            "--- 3단 ---\n",
            "3 x 1 = 3\n",
            "3 x 2 = 6\n",
            "3 x 3 = 9\n",
            "3 x 4 = 12\n",
            "3 x 5 = 15\n",
            "3 x 6 = 18\n",
            "3 x 7 = 21\n",
            "3 x 8 = 24\n",
            "3 x 9 = 27\n",
            "--- 4단 ---\n",
            "4 x 1 = 4\n",
            "4 x 2 = 8\n",
            "4 x 3 = 12\n",
            "4 x 4 = 16\n",
            "4 x 5 = 20\n",
            "4 x 6 = 24\n",
            "4 x 7 = 28\n",
            "4 x 8 = 32\n",
            "4 x 9 = 36\n",
            "--- 5단 ---\n",
            "5 x 1 = 5\n",
            "5 x 2 = 10\n",
            "5 x 3 = 15\n",
            "5 x 4 = 20\n",
            "5 x 5 = 25\n",
            "5 x 6 = 30\n",
            "5 x 7 = 35\n",
            "5 x 8 = 40\n",
            "5 x 9 = 45\n",
            "--- 6단 ---\n",
            "6 x 1 = 6\n",
            "6 x 2 = 12\n",
            "6 x 3 = 18\n",
            "6 x 4 = 24\n",
            "6 x 5 = 30\n",
            "6 x 6 = 36\n",
            "6 x 7 = 42\n",
            "6 x 8 = 48\n",
            "6 x 9 = 54\n",
            "--- 7단 ---\n",
            "7 x 1 = 7\n",
            "7 x 2 = 14\n",
            "7 x 3 = 21\n",
            "7 x 4 = 28\n",
            "7 x 5 = 35\n",
            "7 x 6 = 42\n",
            "7 x 7 = 49\n",
            "7 x 8 = 56\n",
            "7 x 9 = 63\n",
            "--- 8단 ---\n",
            "8 x 1 = 8\n",
            "8 x 2 = 16\n",
            "8 x 3 = 24\n",
            "8 x 4 = 32\n",
            "8 x 5 = 40\n",
            "8 x 6 = 48\n",
            "8 x 7 = 56\n",
            "8 x 8 = 64\n",
            "8 x 9 = 72\n",
            "--- 9단 ---\n",
            "9 x 1 = 9\n",
            "9 x 2 = 18\n",
            "9 x 3 = 27\n",
            "9 x 4 = 36\n",
            "9 x 5 = 45\n",
            "9 x 6 = 54\n",
            "9 x 7 = 63\n",
            "9 x 8 = 72\n",
            "9 x 9 = 81\n"
          ],
          "name": "stdout"
        }
      ]
    },
    {
      "cell_type": "code",
      "metadata": {
        "colab": {
          "base_uri": "https://localhost:8080/"
        },
        "id": "m2jen_zkruAL",
        "outputId": "009afe13-a59c-47c9-d01f-d835d18b1bcc"
      },
      "source": [
        "dan = 2\n",
        "while dan < 10:\n",
        "    n = 1\n",
        "    while n < 10:\n",
        "        print(f'{dan} x {n} = {dan * n}')\n",
        "        if dan == n:\n",
        "          break\n",
        "        n += 1\n",
        "    print('-' * 20)\n",
        "    dan += 1"
      ],
      "execution_count": 20,
      "outputs": [
        {
          "output_type": "stream",
          "text": [
            "2 x 1 = 2\n",
            "2 x 2 = 4\n",
            "--------------------\n",
            "3 x 1 = 3\n",
            "3 x 2 = 6\n",
            "3 x 3 = 9\n",
            "--------------------\n",
            "4 x 1 = 4\n",
            "4 x 2 = 8\n",
            "4 x 3 = 12\n",
            "4 x 4 = 16\n",
            "--------------------\n",
            "5 x 1 = 5\n",
            "5 x 2 = 10\n",
            "5 x 3 = 15\n",
            "5 x 4 = 20\n",
            "5 x 5 = 25\n",
            "--------------------\n",
            "6 x 1 = 6\n",
            "6 x 2 = 12\n",
            "6 x 3 = 18\n",
            "6 x 4 = 24\n",
            "6 x 5 = 30\n",
            "6 x 6 = 36\n",
            "--------------------\n",
            "7 x 1 = 7\n",
            "7 x 2 = 14\n",
            "7 x 3 = 21\n",
            "7 x 4 = 28\n",
            "7 x 5 = 35\n",
            "7 x 6 = 42\n",
            "7 x 7 = 49\n",
            "--------------------\n",
            "8 x 1 = 8\n",
            "8 x 2 = 16\n",
            "8 x 3 = 24\n",
            "8 x 4 = 32\n",
            "8 x 5 = 40\n",
            "8 x 6 = 48\n",
            "8 x 7 = 56\n",
            "8 x 8 = 64\n",
            "--------------------\n",
            "9 x 1 = 9\n",
            "9 x 2 = 18\n",
            "9 x 3 = 27\n",
            "9 x 4 = 36\n",
            "9 x 5 = 45\n",
            "9 x 6 = 54\n",
            "9 x 7 = 63\n",
            "9 x 8 = 72\n",
            "9 x 9 = 81\n",
            "--------------------\n"
          ],
          "name": "stdout"
        }
      ]
    },
    {
      "cell_type": "code",
      "metadata": {
        "colab": {
          "base_uri": "https://localhost:8080/"
        },
        "id": "2sTb0cALueBH",
        "outputId": "a202c780-35b0-4685-d5e2-4eceafe20cba"
      },
      "source": [
        "dan = 2\n",
        "while dan < 10:\n",
        "  n = 1\n",
        "  while n <= dan:\n",
        "    print(f'{dan} x {n} = {dan * n}')\n",
        "    n += 1\n",
        "  print('_' * 20)\n",
        "  dan += 1"
      ],
      "execution_count": 21,
      "outputs": [
        {
          "output_type": "stream",
          "text": [
            "2 x 1 = 2\n",
            "2 x 2 = 4\n",
            "____________________\n",
            "3 x 1 = 3\n",
            "3 x 2 = 6\n",
            "3 x 3 = 9\n",
            "____________________\n",
            "4 x 1 = 4\n",
            "4 x 2 = 8\n",
            "4 x 3 = 12\n",
            "4 x 4 = 16\n",
            "____________________\n",
            "5 x 1 = 5\n",
            "5 x 2 = 10\n",
            "5 x 3 = 15\n",
            "5 x 4 = 20\n",
            "5 x 5 = 25\n",
            "____________________\n",
            "6 x 1 = 6\n",
            "6 x 2 = 12\n",
            "6 x 3 = 18\n",
            "6 x 4 = 24\n",
            "6 x 5 = 30\n",
            "6 x 6 = 36\n",
            "____________________\n",
            "7 x 1 = 7\n",
            "7 x 2 = 14\n",
            "7 x 3 = 21\n",
            "7 x 4 = 28\n",
            "7 x 5 = 35\n",
            "7 x 6 = 42\n",
            "7 x 7 = 49\n",
            "____________________\n",
            "8 x 1 = 8\n",
            "8 x 2 = 16\n",
            "8 x 3 = 24\n",
            "8 x 4 = 32\n",
            "8 x 5 = 40\n",
            "8 x 6 = 48\n",
            "8 x 7 = 56\n",
            "8 x 8 = 64\n",
            "____________________\n",
            "9 x 1 = 9\n",
            "9 x 2 = 18\n",
            "9 x 3 = 27\n",
            "9 x 4 = 36\n",
            "9 x 5 = 45\n",
            "9 x 6 = 54\n",
            "9 x 7 = 63\n",
            "9 x 8 = 72\n",
            "9 x 9 = 81\n",
            "____________________\n"
          ],
          "name": "stdout"
        }
      ]
    },
    {
      "cell_type": "markdown",
      "metadata": {
        "id": "oOlNTt_IwW0v"
      },
      "source": [
        "##무한 루프와 break"
      ]
    },
    {
      "cell_type": "code",
      "metadata": {
        "colab": {
          "base_uri": "https://localhost:8080/"
        },
        "id": "wFJfFEEmwaEC",
        "outputId": "d77de4a5-0d8f-4718-a8b6-63379eeec73c"
      },
      "source": [
        "while True:       # 무한 루프(infinite loop)\n",
        "    msg = input('메세지를 입력하세요. 멈추고 싶으면 0을 입력하세요>>>')\n",
        "    print(msg)\n",
        "    if msg == 'Q' : #무한 루프를 종료시킬 조건\n",
        "        break"
      ],
      "execution_count": 22,
      "outputs": [
        {
          "output_type": "stream",
          "text": [
            "메세지를 입력하세요. 멈추고 싶으면 0을 입력하세요>>>안녕\n",
            "안녕\n",
            "메세지를 입력하세요. 멈추고 싶으면 0을 입력하세요>>>ㄴㄴㄴ\n",
            "ㄴㄴㄴ\n",
            "메세지를 입력하세요. 멈추고 싶으면 0을 입력하세요>>>\n",
            "\n",
            "메세지를 입력하세요. 멈추고 싶으면 0을 입력하세요>>>Q\n",
            "Q\n"
          ],
          "name": "stdout"
        }
      ]
    }
  ]
}